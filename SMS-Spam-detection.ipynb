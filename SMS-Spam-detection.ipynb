{
 "cells": [
  {
   "cell_type": "code",
   "execution_count": 1,
   "id": "c1cc75ee",
   "metadata": {},
   "outputs": [],
   "source": [
    "import numpy as np\n",
    "import pandas as pd"
   ]
  },
  {
   "cell_type": "code",
   "execution_count": 2,
   "id": "844b8650",
   "metadata": {},
   "outputs": [],
   "source": [
    "df = pd.read_csv('spam.csv', encoding ='latin1')  #My dataset contains some special characters that can't be decoded\n",
    "                                                   # using UTF-8 encoding"
   ]
  },
  {
   "cell_type": "code",
   "execution_count": 3,
   "id": "fcb422ac",
   "metadata": {},
   "outputs": [
    {
     "data": {
      "text/html": [
       "<div>\n",
       "<style scoped>\n",
       "    .dataframe tbody tr th:only-of-type {\n",
       "        vertical-align: middle;\n",
       "    }\n",
       "\n",
       "    .dataframe tbody tr th {\n",
       "        vertical-align: top;\n",
       "    }\n",
       "\n",
       "    .dataframe thead th {\n",
       "        text-align: right;\n",
       "    }\n",
       "</style>\n",
       "<table border=\"1\" class=\"dataframe\">\n",
       "  <thead>\n",
       "    <tr style=\"text-align: right;\">\n",
       "      <th></th>\n",
       "      <th>v1</th>\n",
       "      <th>v2</th>\n",
       "      <th>Unnamed: 2</th>\n",
       "      <th>Unnamed: 3</th>\n",
       "      <th>Unnamed: 4</th>\n",
       "    </tr>\n",
       "  </thead>\n",
       "  <tbody>\n",
       "    <tr>\n",
       "      <th>2867</th>\n",
       "      <td>ham</td>\n",
       "      <td>Aight, tomorrow around  &amp;lt;#&amp;gt;  it is</td>\n",
       "      <td>NaN</td>\n",
       "      <td>NaN</td>\n",
       "      <td>NaN</td>\n",
       "    </tr>\n",
       "    <tr>\n",
       "      <th>1749</th>\n",
       "      <td>ham</td>\n",
       "      <td>DO NOT B LATE LOVE MUM</td>\n",
       "      <td>NaN</td>\n",
       "      <td>NaN</td>\n",
       "      <td>NaN</td>\n",
       "    </tr>\n",
       "    <tr>\n",
       "      <th>2907</th>\n",
       "      <td>ham</td>\n",
       "      <td>Why must we sit around and wait for summer day...</td>\n",
       "      <td>NaN</td>\n",
       "      <td>NaN</td>\n",
       "      <td>NaN</td>\n",
       "    </tr>\n",
       "    <tr>\n",
       "      <th>2996</th>\n",
       "      <td>ham</td>\n",
       "      <td>Don know..he is watching film in computer..</td>\n",
       "      <td>NaN</td>\n",
       "      <td>NaN</td>\n",
       "      <td>NaN</td>\n",
       "    </tr>\n",
       "    <tr>\n",
       "      <th>2840</th>\n",
       "      <td>ham</td>\n",
       "      <td>Ok thanx...</td>\n",
       "      <td>NaN</td>\n",
       "      <td>NaN</td>\n",
       "      <td>NaN</td>\n",
       "    </tr>\n",
       "  </tbody>\n",
       "</table>\n",
       "</div>"
      ],
      "text/plain": [
       "       v1                                                 v2 Unnamed: 2  \\\n",
       "2867  ham           Aight, tomorrow around  &lt;#&gt;  it is        NaN   \n",
       "1749  ham                             DO NOT B LATE LOVE MUM        NaN   \n",
       "2907  ham  Why must we sit around and wait for summer day...        NaN   \n",
       "2996  ham        Don know..he is watching film in computer..        NaN   \n",
       "2840  ham                                        Ok thanx...        NaN   \n",
       "\n",
       "     Unnamed: 3 Unnamed: 4  \n",
       "2867        NaN        NaN  \n",
       "1749        NaN        NaN  \n",
       "2907        NaN        NaN  \n",
       "2996        NaN        NaN  \n",
       "2840        NaN        NaN  "
      ]
     },
     "execution_count": 3,
     "metadata": {},
     "output_type": "execute_result"
    }
   ],
   "source": [
    "df.sample(5)  # to print random 5 records."
   ]
  },
  {
   "cell_type": "code",
   "execution_count": 4,
   "id": "6faa4cde",
   "metadata": {},
   "outputs": [
    {
     "data": {
      "text/plain": [
       "(5572, 5)"
      ]
     },
     "execution_count": 4,
     "metadata": {},
     "output_type": "execute_result"
    }
   ],
   "source": [
    "df.shape  # Total 5ooo+ rows and 5 columns are there"
   ]
  },
  {
   "cell_type": "markdown",
   "id": "eb0757f7",
   "metadata": {},
   "source": [
    "### Stages of the project:\n",
    "\n",
    "     1. Data Cleaning\n",
    "     2. EDA\n",
    "     3. Text preprocessing (Eg: Vectorization, stemming, avoid stop words, etc)\n",
    "     4. Model building\n",
    "     5. Model Evaluation\n",
    "     6. Model Improvements based on Evaluations\n",
    "     7. Converting model into Website\n",
    "     8. Deployemnet in Heroku"
   ]
  },
  {
   "cell_type": "markdown",
   "id": "fbd56aa0",
   "metadata": {},
   "source": [
    "## 1. Data Cleaning"
   ]
  },
  {
   "cell_type": "code",
   "execution_count": 5,
   "id": "7ac3c2ba",
   "metadata": {},
   "outputs": [
    {
     "name": "stdout",
     "output_type": "stream",
     "text": [
      "<class 'pandas.core.frame.DataFrame'>\n",
      "RangeIndex: 5572 entries, 0 to 5571\n",
      "Data columns (total 5 columns):\n",
      " #   Column      Non-Null Count  Dtype \n",
      "---  ------      --------------  ----- \n",
      " 0   v1          5572 non-null   object\n",
      " 1   v2          5572 non-null   object\n",
      " 2   Unnamed: 2  50 non-null     object\n",
      " 3   Unnamed: 3  12 non-null     object\n",
      " 4   Unnamed: 4  6 non-null      object\n",
      "dtypes: object(5)\n",
      "memory usage: 217.8+ KB\n"
     ]
    }
   ],
   "source": [
    "df.info()"
   ]
  },
  {
   "cell_type": "code",
   "execution_count": 6,
   "id": "92231437",
   "metadata": {},
   "outputs": [],
   "source": [
    "# drop last three columns and this is permenant operation\n",
    "\n",
    "df.drop(columns=['Unnamed: 2', 'Unnamed: 3', 'Unnamed: 4'], inplace=True)"
   ]
  },
  {
   "cell_type": "code",
   "execution_count": 7,
   "id": "166cba9f",
   "metadata": {},
   "outputs": [
    {
     "data": {
      "text/html": [
       "<div>\n",
       "<style scoped>\n",
       "    .dataframe tbody tr th:only-of-type {\n",
       "        vertical-align: middle;\n",
       "    }\n",
       "\n",
       "    .dataframe tbody tr th {\n",
       "        vertical-align: top;\n",
       "    }\n",
       "\n",
       "    .dataframe thead th {\n",
       "        text-align: right;\n",
       "    }\n",
       "</style>\n",
       "<table border=\"1\" class=\"dataframe\">\n",
       "  <thead>\n",
       "    <tr style=\"text-align: right;\">\n",
       "      <th></th>\n",
       "      <th>v1</th>\n",
       "      <th>v2</th>\n",
       "    </tr>\n",
       "  </thead>\n",
       "  <tbody>\n",
       "    <tr>\n",
       "      <th>3526</th>\n",
       "      <td>ham</td>\n",
       "      <td>Should i send you naughty pix? :)</td>\n",
       "    </tr>\n",
       "    <tr>\n",
       "      <th>494</th>\n",
       "      <td>ham</td>\n",
       "      <td>Are you free now?can i call now?</td>\n",
       "    </tr>\n",
       "    <tr>\n",
       "      <th>2989</th>\n",
       "      <td>ham</td>\n",
       "      <td>Love isn't a decision, it's a feeling. If we c...</td>\n",
       "    </tr>\n",
       "    <tr>\n",
       "      <th>2574</th>\n",
       "      <td>spam</td>\n",
       "      <td>Your next amazing xxx PICSFREE1 video will be ...</td>\n",
       "    </tr>\n",
       "    <tr>\n",
       "      <th>5283</th>\n",
       "      <td>ham</td>\n",
       "      <td>Yeah, probably here for a while</td>\n",
       "    </tr>\n",
       "  </tbody>\n",
       "</table>\n",
       "</div>"
      ],
      "text/plain": [
       "        v1                                                 v2\n",
       "3526   ham                  Should i send you naughty pix? :)\n",
       "494    ham                   Are you free now?can i call now?\n",
       "2989   ham  Love isn't a decision, it's a feeling. If we c...\n",
       "2574  spam  Your next amazing xxx PICSFREE1 video will be ...\n",
       "5283   ham                    Yeah, probably here for a while"
      ]
     },
     "execution_count": 7,
     "metadata": {},
     "output_type": "execute_result"
    }
   ],
   "source": [
    "df.sample(5)"
   ]
  },
  {
   "cell_type": "code",
   "execution_count": 8,
   "id": "17beb80d",
   "metadata": {},
   "outputs": [
    {
     "data": {
      "text/html": [
       "<div>\n",
       "<style scoped>\n",
       "    .dataframe tbody tr th:only-of-type {\n",
       "        vertical-align: middle;\n",
       "    }\n",
       "\n",
       "    .dataframe tbody tr th {\n",
       "        vertical-align: top;\n",
       "    }\n",
       "\n",
       "    .dataframe thead th {\n",
       "        text-align: right;\n",
       "    }\n",
       "</style>\n",
       "<table border=\"1\" class=\"dataframe\">\n",
       "  <thead>\n",
       "    <tr style=\"text-align: right;\">\n",
       "      <th></th>\n",
       "      <th>target</th>\n",
       "      <th>text</th>\n",
       "    </tr>\n",
       "  </thead>\n",
       "  <tbody>\n",
       "    <tr>\n",
       "      <th>3506</th>\n",
       "      <td>ham</td>\n",
       "      <td>Two fundamentals of cool life: \\Walk</td>\n",
       "    </tr>\n",
       "    <tr>\n",
       "      <th>5060</th>\n",
       "      <td>ham</td>\n",
       "      <td>Sorry, I'll call you  later. I am in meeting sir.</td>\n",
       "    </tr>\n",
       "    <tr>\n",
       "      <th>5539</th>\n",
       "      <td>ham</td>\n",
       "      <td>Just sleeping..and surfing</td>\n",
       "    </tr>\n",
       "    <tr>\n",
       "      <th>1015</th>\n",
       "      <td>ham</td>\n",
       "      <td>Dear,regret i cudnt pick call.drove down frm c...</td>\n",
       "    </tr>\n",
       "    <tr>\n",
       "      <th>4495</th>\n",
       "      <td>ham</td>\n",
       "      <td>In case you wake up wondering where I am, I fo...</td>\n",
       "    </tr>\n",
       "  </tbody>\n",
       "</table>\n",
       "</div>"
      ],
      "text/plain": [
       "     target                                               text\n",
       "3506    ham               Two fundamentals of cool life: \\Walk\n",
       "5060    ham  Sorry, I'll call you  later. I am in meeting sir.\n",
       "5539    ham                         Just sleeping..and surfing\n",
       "1015    ham  Dear,regret i cudnt pick call.drove down frm c...\n",
       "4495    ham  In case you wake up wondering where I am, I fo..."
      ]
     },
     "execution_count": 8,
     "metadata": {},
     "output_type": "execute_result"
    }
   ],
   "source": [
    "# renaming the columns because it seems weird.\n",
    "\n",
    "df.rename(columns={'v1':'target', 'v2':'text'}, inplace=True)\n",
    "df.sample(5)"
   ]
  },
  {
   "cell_type": "markdown",
   "id": "8f00c1aa",
   "metadata": {},
   "source": [
    "#### Note:\n",
    "\n",
    "  - if you see in my target column, there are two distinct outputs which is either 'ham' or 'spam'\n",
    "  - Now I want to convert into numerical values using 'LabelEncoder'"
   ]
  },
  {
   "cell_type": "code",
   "execution_count": 9,
   "id": "b10ee253",
   "metadata": {},
   "outputs": [],
   "source": [
    "from sklearn.preprocessing import LabelEncoder\n",
    "encoder = LabelEncoder()"
   ]
  },
  {
   "cell_type": "code",
   "execution_count": 10,
   "id": "d7608dda",
   "metadata": {},
   "outputs": [
    {
     "data": {
      "text/plain": [
       "array([0, 0, 1, ..., 0, 0, 0])"
      ]
     },
     "execution_count": 10,
     "metadata": {},
     "output_type": "execute_result"
    }
   ],
   "source": [
    "encoder.fit_transform(df['target'])   # ham was assigned to 0 and spam was assigned to 1"
   ]
  },
  {
   "cell_type": "code",
   "execution_count": 11,
   "id": "4a6edc2b",
   "metadata": {},
   "outputs": [],
   "source": [
    "df['target'] = encoder.fit_transform(df['target'])"
   ]
  },
  {
   "cell_type": "code",
   "execution_count": 12,
   "id": "2e1dbab1",
   "metadata": {},
   "outputs": [
    {
     "data": {
      "text/html": [
       "<div>\n",
       "<style scoped>\n",
       "    .dataframe tbody tr th:only-of-type {\n",
       "        vertical-align: middle;\n",
       "    }\n",
       "\n",
       "    .dataframe tbody tr th {\n",
       "        vertical-align: top;\n",
       "    }\n",
       "\n",
       "    .dataframe thead th {\n",
       "        text-align: right;\n",
       "    }\n",
       "</style>\n",
       "<table border=\"1\" class=\"dataframe\">\n",
       "  <thead>\n",
       "    <tr style=\"text-align: right;\">\n",
       "      <th></th>\n",
       "      <th>target</th>\n",
       "      <th>text</th>\n",
       "    </tr>\n",
       "  </thead>\n",
       "  <tbody>\n",
       "    <tr>\n",
       "      <th>0</th>\n",
       "      <td>0</td>\n",
       "      <td>Go until jurong point, crazy.. Available only ...</td>\n",
       "    </tr>\n",
       "    <tr>\n",
       "      <th>1</th>\n",
       "      <td>0</td>\n",
       "      <td>Ok lar... Joking wif u oni...</td>\n",
       "    </tr>\n",
       "    <tr>\n",
       "      <th>2</th>\n",
       "      <td>1</td>\n",
       "      <td>Free entry in 2 a wkly comp to win FA Cup fina...</td>\n",
       "    </tr>\n",
       "    <tr>\n",
       "      <th>3</th>\n",
       "      <td>0</td>\n",
       "      <td>U dun say so early hor... U c already then say...</td>\n",
       "    </tr>\n",
       "    <tr>\n",
       "      <th>4</th>\n",
       "      <td>0</td>\n",
       "      <td>Nah I don't think he goes to usf, he lives aro...</td>\n",
       "    </tr>\n",
       "  </tbody>\n",
       "</table>\n",
       "</div>"
      ],
      "text/plain": [
       "   target                                               text\n",
       "0       0  Go until jurong point, crazy.. Available only ...\n",
       "1       0                      Ok lar... Joking wif u oni...\n",
       "2       1  Free entry in 2 a wkly comp to win FA Cup fina...\n",
       "3       0  U dun say so early hor... U c already then say...\n",
       "4       0  Nah I don't think he goes to usf, he lives aro..."
      ]
     },
     "execution_count": 12,
     "metadata": {},
     "output_type": "execute_result"
    }
   ],
   "source": [
    "df.head()"
   ]
  },
  {
   "cell_type": "code",
   "execution_count": 13,
   "id": "19980c7d",
   "metadata": {},
   "outputs": [
    {
     "data": {
      "text/plain": [
       "target    0\n",
       "text      0\n",
       "dtype: int64"
      ]
     },
     "execution_count": 13,
     "metadata": {},
     "output_type": "execute_result"
    }
   ],
   "source": [
    "# check for missing values\n",
    "\n",
    "df.isnull().sum()"
   ]
  },
  {
   "cell_type": "markdown",
   "id": "1a9958b0",
   "metadata": {},
   "source": [
    "#### Note:\n",
    "\n",
    "  - Since there are no null values. We can proceed furthur"
   ]
  },
  {
   "cell_type": "code",
   "execution_count": 14,
   "id": "ad574bdf",
   "metadata": {},
   "outputs": [
    {
     "data": {
      "text/plain": [
       "403"
      ]
     },
     "execution_count": 14,
     "metadata": {},
     "output_type": "execute_result"
    }
   ],
   "source": [
    "# check for duplicates values\n",
    "\n",
    "df.duplicated().sum()"
   ]
  },
  {
   "cell_type": "markdown",
   "id": "8a2ba6f4",
   "metadata": {},
   "source": [
    "#### Note:\n",
    "\n",
    "  - Since there were 403 duplicate values ae there. We can handle these by removing this duplicate values."
   ]
  },
  {
   "cell_type": "code",
   "execution_count": 15,
   "id": "25260d21",
   "metadata": {},
   "outputs": [],
   "source": [
    "df = df.drop_duplicates(keep = 'first')  "
   ]
  },
  {
   "cell_type": "markdown",
   "id": "28000e51",
   "metadata": {},
   "source": [
    "#### Note:\n",
    "\n",
    "  - keep = 'first' means, it only keep the first occurance of the data and then remove the subsequent duplicates.\n",
    "  - 'keep' specifies which duplicates to keep. it accepts three options:\n",
    "      - 'first': keep the first occurance of the duplicates(defaullt behaviour)\n",
    "      - 'last': keep the last occurance of the duplicates.\n",
    "      - 'False': Remove all duplicates."
   ]
  },
  {
   "cell_type": "code",
   "execution_count": 16,
   "id": "40cfabbc",
   "metadata": {},
   "outputs": [
    {
     "data": {
      "text/plain": [
       "0"
      ]
     },
     "execution_count": 16,
     "metadata": {},
     "output_type": "execute_result"
    }
   ],
   "source": [
    "df.duplicated().sum()"
   ]
  },
  {
   "cell_type": "code",
   "execution_count": 17,
   "id": "6656979a",
   "metadata": {},
   "outputs": [
    {
     "data": {
      "text/plain": [
       "(5169, 2)"
      ]
     },
     "execution_count": 17,
     "metadata": {},
     "output_type": "execute_result"
    }
   ],
   "source": [
    "df.shape   # These are the records left after removing duplicates"
   ]
  },
  {
   "cell_type": "markdown",
   "id": "67c5b072",
   "metadata": {},
   "source": [
    "## 2.EDA\n",
    "\n",
    "  - Whenever we are performing predictive machine learnig modeling on the given data. It is always good to know about the nderstanding of the data very well.\n",
    "  - This understanding cames through where, i.e., through EDA \n",
    "  - EDA means exploring the given data by means of finding hidden insights from the visualization.\n",
    "\n",
    "#### Note:\n",
    "  - Before performing EDA, it is always recommended ask questions ourself from the dataset what was the intent to find from EDA. This helps us to have a proper idea about what we are doing rather starting performing EDA just like randomly without no intent."
   ]
  },
  {
   "cell_type": "code",
   "execution_count": 18,
   "id": "e6f7dae8",
   "metadata": {},
   "outputs": [
    {
     "data": {
      "text/html": [
       "<div>\n",
       "<style scoped>\n",
       "    .dataframe tbody tr th:only-of-type {\n",
       "        vertical-align: middle;\n",
       "    }\n",
       "\n",
       "    .dataframe tbody tr th {\n",
       "        vertical-align: top;\n",
       "    }\n",
       "\n",
       "    .dataframe thead th {\n",
       "        text-align: right;\n",
       "    }\n",
       "</style>\n",
       "<table border=\"1\" class=\"dataframe\">\n",
       "  <thead>\n",
       "    <tr style=\"text-align: right;\">\n",
       "      <th></th>\n",
       "      <th>target</th>\n",
       "      <th>text</th>\n",
       "    </tr>\n",
       "  </thead>\n",
       "  <tbody>\n",
       "    <tr>\n",
       "      <th>0</th>\n",
       "      <td>0</td>\n",
       "      <td>Go until jurong point, crazy.. Available only ...</td>\n",
       "    </tr>\n",
       "    <tr>\n",
       "      <th>1</th>\n",
       "      <td>0</td>\n",
       "      <td>Ok lar... Joking wif u oni...</td>\n",
       "    </tr>\n",
       "    <tr>\n",
       "      <th>2</th>\n",
       "      <td>1</td>\n",
       "      <td>Free entry in 2 a wkly comp to win FA Cup fina...</td>\n",
       "    </tr>\n",
       "    <tr>\n",
       "      <th>3</th>\n",
       "      <td>0</td>\n",
       "      <td>U dun say so early hor... U c already then say...</td>\n",
       "    </tr>\n",
       "    <tr>\n",
       "      <th>4</th>\n",
       "      <td>0</td>\n",
       "      <td>Nah I don't think he goes to usf, he lives aro...</td>\n",
       "    </tr>\n",
       "  </tbody>\n",
       "</table>\n",
       "</div>"
      ],
      "text/plain": [
       "   target                                               text\n",
       "0       0  Go until jurong point, crazy.. Available only ...\n",
       "1       0                      Ok lar... Joking wif u oni...\n",
       "2       1  Free entry in 2 a wkly comp to win FA Cup fina...\n",
       "3       0  U dun say so early hor... U c already then say...\n",
       "4       0  Nah I don't think he goes to usf, he lives aro..."
      ]
     },
     "execution_count": 18,
     "metadata": {},
     "output_type": "execute_result"
    }
   ],
   "source": [
    "df.head()"
   ]
  },
  {
   "cell_type": "code",
   "execution_count": 19,
   "id": "a376fef2",
   "metadata": {},
   "outputs": [
    {
     "data": {
      "text/plain": [
       "0    4516\n",
       "1     653\n",
       "Name: target, dtype: int64"
      ]
     },
     "execution_count": 19,
     "metadata": {},
     "output_type": "execute_result"
    }
   ],
   "source": [
    "# I want to know how much percentage of 'ham' & 'spam' classification?\n",
    "\n",
    "df['target'].value_counts()"
   ]
  },
  {
   "cell_type": "markdown",
   "id": "bee6ea8c",
   "metadata": {},
   "source": [
    "#### Note:\n",
    "  - In order to better representation we use pie chart to shown the values"
   ]
  },
  {
   "cell_type": "code",
   "execution_count": 20,
   "id": "be96e03d",
   "metadata": {},
   "outputs": [
    {
     "data": {
      "image/png": "[encoded data removed]",
      "text/plain": [
       "<Figure size 640x480 with 1 Axes>"
      ]
     },
     "metadata": {},
     "output_type": "display_data"
    }
   ],
   "source": [
    "import matplotlib.pyplot as plt\n",
    "plt.pie(df['target'].value_counts(), labels=['ham', 'spam'], autopct =\"%0.2f\")\n",
    "plt.show()"
   ]
  },
  {
   "cell_type": "markdown",
   "id": "94421e90",
   "metadata": {},
   "source": [
    "#### Note:\n",
    "  - It was clearly shown that, roughly 88% of the messages are not 'spam' and 12% os the sms were 'spam'\n",
    "  \n",
    "### key takeways from this point:\n",
    "  - Data is imbalanced and keep this in mind and move furthur analysis.\n",
    "  - Imbalance means 88% of the data is 'ham' and 12% is 'spam'"
   ]
  },
  {
   "cell_type": "code",
   "execution_count": 21,
   "id": "40748094",
   "metadata": {},
   "outputs": [],
   "source": [
    "# Now I will find How many characters, words & sentences there in the 'text' column?\n",
    "# on top of that I will create 3 new columns for deepre analysis.\n",
    "# based on the no of characters, no of words & no of sentences we creat a 3 column respectively."
   ]
  },
  {
   "cell_type": "markdown",
   "id": "3e804cc0",
   "metadata": {},
   "source": [
    "#### Note:\n",
    "  - To do that, we need to import a library called 'nltk' which is a NLP libraray."
   ]
  },
  {
   "cell_type": "code",
   "execution_count": 22,
   "id": "597764ed",
   "metadata": {},
   "outputs": [],
   "source": [
    "import nltk"
   ]
  },
  {
   "cell_type": "code",
   "execution_count": 23,
   "id": "5bfa6fef",
   "metadata": {},
   "outputs": [
    {
     "name": "stderr",
     "output_type": "stream",
     "text": [
      "[nltk_data] Downloading package punkt to\n",
      "[nltk_data]     C:\\Users\\sivas\\AppData\\Roaming\\nltk_data...\n",
      "[nltk_data]   Package punkt is already up-to-date!\n"
     ]
    },
    {
     "data": {
      "text/plain": [
       "True"
      ]
     },
     "execution_count": 23,
     "metadata": {},
     "output_type": "execute_result"
    }
   ],
   "source": [
    "nltk.download('punkt')   # which will ensure downloading the all the necessary dependency libraries get downloaded."
   ]
  },
  {
   "cell_type": "code",
   "execution_count": 24,
   "id": "1f5c2ab7",
   "metadata": {},
   "outputs": [
    {
     "data": {
      "text/plain": [
       "0       111\n",
       "1        29\n",
       "2       155\n",
       "3        49\n",
       "4        61\n",
       "       ... \n",
       "5567    161\n",
       "5568     37\n",
       "5569     57\n",
       "5570    125\n",
       "5571     26\n",
       "Name: text, Length: 5169, dtype: int64"
      ]
     },
     "execution_count": 24,
     "metadata": {},
     "output_type": "execute_result"
    }
   ],
   "source": [
    "df['text'].apply(len)  # Gives the no of characters from the text."
   ]
  },
  {
   "cell_type": "code",
   "execution_count": 25,
   "id": "efe3ed41",
   "metadata": {},
   "outputs": [],
   "source": [
    "df['num_characters'] = df['text'].apply(len)   #added new column in the given dataframe"
   ]
  },
  {
   "cell_type": "code",
   "execution_count": 26,
   "id": "87f0b2a0",
   "metadata": {},
   "outputs": [
    {
     "data": {
      "text/plain": [
       "0       [Go, until, jurong, point, ,, crazy, .., Avail...\n",
       "1                [Ok, lar, ..., Joking, wif, u, oni, ...]\n",
       "2       [Free, entry, in, 2, a, wkly, comp, to, win, F...\n",
       "3       [U, dun, say, so, early, hor, ..., U, c, alrea...\n",
       "4       [Nah, I, do, n't, think, he, goes, to, usf, ,,...\n",
       "                              ...                        \n",
       "5567    [This, is, the, 2nd, time, we, have, tried, 2,...\n",
       "5568     [Will, Ì_, b, going, to, esplanade, fr, home, ?]\n",
       "5569    [Pity, ,, *, was, in, mood, for, that, ., So, ...\n",
       "5570    [The, guy, did, some, bitching, but, I, acted,...\n",
       "5571                  [Rofl, ., Its, true, to, its, name]\n",
       "Name: text, Length: 5169, dtype: object"
      ]
     },
     "execution_count": 26,
     "metadata": {},
     "output_type": "execute_result"
    }
   ],
   "source": [
    "# no of words\n",
    "df['text'].apply(lambda x:nltk.word_tokenize(x))        "
   ]
  },
  {
   "cell_type": "markdown",
   "id": "bd0adca5",
   "metadata": {},
   "source": [
    "#### Note: [nltk.word_tokenize() ]\n",
    "  - nltk.word_tokenize --> will break the sentence into words in a list.\n",
    "  - Now I have to count the words in the list by using len()"
   ]
  },
  {
   "cell_type": "code",
   "execution_count": 27,
   "id": "44ee1b84",
   "metadata": {},
   "outputs": [
    {
     "data": {
      "text/plain": [
       "0       24\n",
       "1        8\n",
       "2       37\n",
       "3       13\n",
       "4       15\n",
       "        ..\n",
       "5567    35\n",
       "5568     9\n",
       "5569    15\n",
       "5570    27\n",
       "5571     7\n",
       "Name: text, Length: 5169, dtype: int64"
      ]
     },
     "execution_count": 27,
     "metadata": {},
     "output_type": "execute_result"
    }
   ],
   "source": [
    "df['text'].apply(lambda x:len(nltk.word_tokenize(x)))"
   ]
  },
  {
   "cell_type": "code",
   "execution_count": 28,
   "id": "f6d370d8",
   "metadata": {},
   "outputs": [],
   "source": [
    "df['num_words'] = df['text'].apply(lambda x:len(nltk.word_tokenize(x)))"
   ]
  },
  {
   "cell_type": "code",
   "execution_count": 29,
   "id": "367687c0",
   "metadata": {},
   "outputs": [
    {
     "data": {
      "text/html": [
       "<div>\n",
       "<style scoped>\n",
       "    .dataframe tbody tr th:only-of-type {\n",
       "        vertical-align: middle;\n",
       "    }\n",
       "\n",
       "    .dataframe tbody tr th {\n",
       "        vertical-align: top;\n",
       "    }\n",
       "\n",
       "    .dataframe thead th {\n",
       "        text-align: right;\n",
       "    }\n",
       "</style>\n",
       "<table border=\"1\" class=\"dataframe\">\n",
       "  <thead>\n",
       "    <tr style=\"text-align: right;\">\n",
       "      <th></th>\n",
       "      <th>target</th>\n",
       "      <th>text</th>\n",
       "      <th>num_characters</th>\n",
       "      <th>num_words</th>\n",
       "    </tr>\n",
       "  </thead>\n",
       "  <tbody>\n",
       "    <tr>\n",
       "      <th>0</th>\n",
       "      <td>0</td>\n",
       "      <td>Go until jurong point, crazy.. Available only ...</td>\n",
       "      <td>111</td>\n",
       "      <td>24</td>\n",
       "    </tr>\n",
       "    <tr>\n",
       "      <th>1</th>\n",
       "      <td>0</td>\n",
       "      <td>Ok lar... Joking wif u oni...</td>\n",
       "      <td>29</td>\n",
       "      <td>8</td>\n",
       "    </tr>\n",
       "    <tr>\n",
       "      <th>2</th>\n",
       "      <td>1</td>\n",
       "      <td>Free entry in 2 a wkly comp to win FA Cup fina...</td>\n",
       "      <td>155</td>\n",
       "      <td>37</td>\n",
       "    </tr>\n",
       "    <tr>\n",
       "      <th>3</th>\n",
       "      <td>0</td>\n",
       "      <td>U dun say so early hor... U c already then say...</td>\n",
       "      <td>49</td>\n",
       "      <td>13</td>\n",
       "    </tr>\n",
       "    <tr>\n",
       "      <th>4</th>\n",
       "      <td>0</td>\n",
       "      <td>Nah I don't think he goes to usf, he lives aro...</td>\n",
       "      <td>61</td>\n",
       "      <td>15</td>\n",
       "    </tr>\n",
       "  </tbody>\n",
       "</table>\n",
       "</div>"
      ],
      "text/plain": [
       "   target                                               text  num_characters  \\\n",
       "0       0  Go until jurong point, crazy.. Available only ...             111   \n",
       "1       0                      Ok lar... Joking wif u oni...              29   \n",
       "2       1  Free entry in 2 a wkly comp to win FA Cup fina...             155   \n",
       "3       0  U dun say so early hor... U c already then say...              49   \n",
       "4       0  Nah I don't think he goes to usf, he lives aro...              61   \n",
       "\n",
       "   num_words  \n",
       "0         24  \n",
       "1          8  \n",
       "2         37  \n",
       "3         13  \n",
       "4         15  "
      ]
     },
     "execution_count": 29,
     "metadata": {},
     "output_type": "execute_result"
    }
   ],
   "source": [
    "df.head()"
   ]
  },
  {
   "cell_type": "markdown",
   "id": "ff25dfc0",
   "metadata": {},
   "source": [
    "#### Note: [ nltk.sent_tokenize() ]\n",
    "  "
   ]
  },
  {
   "cell_type": "code",
   "execution_count": 30,
   "id": "5422aa78",
   "metadata": {},
   "outputs": [],
   "source": [
    "df['num_sentences'] = df['text'].apply(lambda x:len(nltk.sent_tokenize(x)))"
   ]
  },
  {
   "cell_type": "code",
   "execution_count": 31,
   "id": "f6cf09a5",
   "metadata": {},
   "outputs": [
    {
     "data": {
      "text/html": [
       "<div>\n",
       "<style scoped>\n",
       "    .dataframe tbody tr th:only-of-type {\n",
       "        vertical-align: middle;\n",
       "    }\n",
       "\n",
       "    .dataframe tbody tr th {\n",
       "        vertical-align: top;\n",
       "    }\n",
       "\n",
       "    .dataframe thead th {\n",
       "        text-align: right;\n",
       "    }\n",
       "</style>\n",
       "<table border=\"1\" class=\"dataframe\">\n",
       "  <thead>\n",
       "    <tr style=\"text-align: right;\">\n",
       "      <th></th>\n",
       "      <th>target</th>\n",
       "      <th>text</th>\n",
       "      <th>num_characters</th>\n",
       "      <th>num_words</th>\n",
       "      <th>num_sentences</th>\n",
       "    </tr>\n",
       "  </thead>\n",
       "  <tbody>\n",
       "    <tr>\n",
       "      <th>0</th>\n",
       "      <td>0</td>\n",
       "      <td>Go until jurong point, crazy.. Available only ...</td>\n",
       "      <td>111</td>\n",
       "      <td>24</td>\n",
       "      <td>2</td>\n",
       "    </tr>\n",
       "    <tr>\n",
       "      <th>1</th>\n",
       "      <td>0</td>\n",
       "      <td>Ok lar... Joking wif u oni...</td>\n",
       "      <td>29</td>\n",
       "      <td>8</td>\n",
       "      <td>2</td>\n",
       "    </tr>\n",
       "    <tr>\n",
       "      <th>2</th>\n",
       "      <td>1</td>\n",
       "      <td>Free entry in 2 a wkly comp to win FA Cup fina...</td>\n",
       "      <td>155</td>\n",
       "      <td>37</td>\n",
       "      <td>2</td>\n",
       "    </tr>\n",
       "    <tr>\n",
       "      <th>3</th>\n",
       "      <td>0</td>\n",
       "      <td>U dun say so early hor... U c already then say...</td>\n",
       "      <td>49</td>\n",
       "      <td>13</td>\n",
       "      <td>1</td>\n",
       "    </tr>\n",
       "    <tr>\n",
       "      <th>4</th>\n",
       "      <td>0</td>\n",
       "      <td>Nah I don't think he goes to usf, he lives aro...</td>\n",
       "      <td>61</td>\n",
       "      <td>15</td>\n",
       "      <td>1</td>\n",
       "    </tr>\n",
       "  </tbody>\n",
       "</table>\n",
       "</div>"
      ],
      "text/plain": [
       "   target                                               text  num_characters  \\\n",
       "0       0  Go until jurong point, crazy.. Available only ...             111   \n",
       "1       0                      Ok lar... Joking wif u oni...              29   \n",
       "2       1  Free entry in 2 a wkly comp to win FA Cup fina...             155   \n",
       "3       0  U dun say so early hor... U c already then say...              49   \n",
       "4       0  Nah I don't think he goes to usf, he lives aro...              61   \n",
       "\n",
       "   num_words  num_sentences  \n",
       "0         24              2  \n",
       "1          8              2  \n",
       "2         37              2  \n",
       "3         13              1  \n",
       "4         15              1  "
      ]
     },
     "execution_count": 31,
     "metadata": {},
     "output_type": "execute_result"
    }
   ],
   "source": [
    "df.head()"
   ]
  },
  {
   "cell_type": "code",
   "execution_count": 32,
   "id": "638d3da6",
   "metadata": {},
   "outputs": [
    {
     "data": {
      "text/html": [
       "<div>\n",
       "<style scoped>\n",
       "    .dataframe tbody tr th:only-of-type {\n",
       "        vertical-align: middle;\n",
       "    }\n",
       "\n",
       "    .dataframe tbody tr th {\n",
       "        vertical-align: top;\n",
       "    }\n",
       "\n",
       "    .dataframe thead th {\n",
       "        text-align: right;\n",
       "    }\n",
       "</style>\n",
       "<table border=\"1\" class=\"dataframe\">\n",
       "  <thead>\n",
       "    <tr style=\"text-align: right;\">\n",
       "      <th></th>\n",
       "      <th>num_characters</th>\n",
       "      <th>num_words</th>\n",
       "      <th>num_sentences</th>\n",
       "    </tr>\n",
       "  </thead>\n",
       "  <tbody>\n",
       "    <tr>\n",
       "      <th>count</th>\n",
       "      <td>5169.000000</td>\n",
       "      <td>5169.000000</td>\n",
       "      <td>5169.000000</td>\n",
       "    </tr>\n",
       "    <tr>\n",
       "      <th>mean</th>\n",
       "      <td>78.977945</td>\n",
       "      <td>18.453279</td>\n",
       "      <td>1.947185</td>\n",
       "    </tr>\n",
       "    <tr>\n",
       "      <th>std</th>\n",
       "      <td>58.236293</td>\n",
       "      <td>13.324793</td>\n",
       "      <td>1.362406</td>\n",
       "    </tr>\n",
       "    <tr>\n",
       "      <th>min</th>\n",
       "      <td>2.000000</td>\n",
       "      <td>1.000000</td>\n",
       "      <td>1.000000</td>\n",
       "    </tr>\n",
       "    <tr>\n",
       "      <th>25%</th>\n",
       "      <td>36.000000</td>\n",
       "      <td>9.000000</td>\n",
       "      <td>1.000000</td>\n",
       "    </tr>\n",
       "    <tr>\n",
       "      <th>50%</th>\n",
       "      <td>60.000000</td>\n",
       "      <td>15.000000</td>\n",
       "      <td>1.000000</td>\n",
       "    </tr>\n",
       "    <tr>\n",
       "      <th>75%</th>\n",
       "      <td>117.000000</td>\n",
       "      <td>26.000000</td>\n",
       "      <td>2.000000</td>\n",
       "    </tr>\n",
       "    <tr>\n",
       "      <th>max</th>\n",
       "      <td>910.000000</td>\n",
       "      <td>220.000000</td>\n",
       "      <td>28.000000</td>\n",
       "    </tr>\n",
       "  </tbody>\n",
       "</table>\n",
       "</div>"
      ],
      "text/plain": [
       "       num_characters    num_words  num_sentences\n",
       "count     5169.000000  5169.000000    5169.000000\n",
       "mean        78.977945    18.453279       1.947185\n",
       "std         58.236293    13.324793       1.362406\n",
       "min          2.000000     1.000000       1.000000\n",
       "25%         36.000000     9.000000       1.000000\n",
       "50%         60.000000    15.000000       1.000000\n",
       "75%        117.000000    26.000000       2.000000\n",
       "max        910.000000   220.000000      28.000000"
      ]
     },
     "execution_count": 32,
     "metadata": {},
     "output_type": "execute_result"
    }
   ],
   "source": [
    "# This is for all the text sms.\n",
    "\n",
    "df[['num_characters', 'num_words', 'num_sentences']].describe()"
   ]
  },
  {
   "cell_type": "markdown",
   "id": "5b3cbc1d",
   "metadata": {},
   "source": [
    "#### Note:\n",
    "  - If you observe, maximum no of characters in one sms is 910.0 and word count is 220 and sentence is 28. It was big sms."
   ]
  },
  {
   "cell_type": "code",
   "execution_count": 33,
   "id": "06bd6a67",
   "metadata": {},
   "outputs": [
    {
     "data": {
      "text/html": [
       "<div>\n",
       "<style scoped>\n",
       "    .dataframe tbody tr th:only-of-type {\n",
       "        vertical-align: middle;\n",
       "    }\n",
       "\n",
       "    .dataframe tbody tr th {\n",
       "        vertical-align: top;\n",
       "    }\n",
       "\n",
       "    .dataframe thead th {\n",
       "        text-align: right;\n",
       "    }\n",
       "</style>\n",
       "<table border=\"1\" class=\"dataframe\">\n",
       "  <thead>\n",
       "    <tr style=\"text-align: right;\">\n",
       "      <th></th>\n",
       "      <th>num_characters</th>\n",
       "      <th>num_words</th>\n",
       "      <th>num_sentences</th>\n",
       "    </tr>\n",
       "  </thead>\n",
       "  <tbody>\n",
       "    <tr>\n",
       "      <th>count</th>\n",
       "      <td>4516.000000</td>\n",
       "      <td>4516.000000</td>\n",
       "      <td>4516.000000</td>\n",
       "    </tr>\n",
       "    <tr>\n",
       "      <th>mean</th>\n",
       "      <td>70.459256</td>\n",
       "      <td>17.120903</td>\n",
       "      <td>1.799601</td>\n",
       "    </tr>\n",
       "    <tr>\n",
       "      <th>std</th>\n",
       "      <td>56.358207</td>\n",
       "      <td>13.493725</td>\n",
       "      <td>1.278465</td>\n",
       "    </tr>\n",
       "    <tr>\n",
       "      <th>min</th>\n",
       "      <td>2.000000</td>\n",
       "      <td>1.000000</td>\n",
       "      <td>1.000000</td>\n",
       "    </tr>\n",
       "    <tr>\n",
       "      <th>25%</th>\n",
       "      <td>34.000000</td>\n",
       "      <td>8.000000</td>\n",
       "      <td>1.000000</td>\n",
       "    </tr>\n",
       "    <tr>\n",
       "      <th>50%</th>\n",
       "      <td>52.000000</td>\n",
       "      <td>13.000000</td>\n",
       "      <td>1.000000</td>\n",
       "    </tr>\n",
       "    <tr>\n",
       "      <th>75%</th>\n",
       "      <td>90.000000</td>\n",
       "      <td>22.000000</td>\n",
       "      <td>2.000000</td>\n",
       "    </tr>\n",
       "    <tr>\n",
       "      <th>max</th>\n",
       "      <td>910.000000</td>\n",
       "      <td>220.000000</td>\n",
       "      <td>28.000000</td>\n",
       "    </tr>\n",
       "  </tbody>\n",
       "</table>\n",
       "</div>"
      ],
      "text/plain": [
       "       num_characters    num_words  num_sentences\n",
       "count     4516.000000  4516.000000    4516.000000\n",
       "mean        70.459256    17.120903       1.799601\n",
       "std         56.358207    13.493725       1.278465\n",
       "min          2.000000     1.000000       1.000000\n",
       "25%         34.000000     8.000000       1.000000\n",
       "50%         52.000000    13.000000       1.000000\n",
       "75%         90.000000    22.000000       2.000000\n",
       "max        910.000000   220.000000      28.000000"
      ]
     },
     "execution_count": 33,
     "metadata": {},
     "output_type": "execute_result"
    }
   ],
   "source": [
    "# If we want to see only for 'ham' messages.\n",
    "\n",
    "df[df['target'] == 0][['num_characters', 'num_words', 'num_sentences']].describe()"
   ]
  },
  {
   "cell_type": "code",
   "execution_count": 34,
   "id": "06d519fb",
   "metadata": {},
   "outputs": [
    {
     "data": {
      "text/html": [
       "<div>\n",
       "<style scoped>\n",
       "    .dataframe tbody tr th:only-of-type {\n",
       "        vertical-align: middle;\n",
       "    }\n",
       "\n",
       "    .dataframe tbody tr th {\n",
       "        vertical-align: top;\n",
       "    }\n",
       "\n",
       "    .dataframe thead th {\n",
       "        text-align: right;\n",
       "    }\n",
       "</style>\n",
       "<table border=\"1\" class=\"dataframe\">\n",
       "  <thead>\n",
       "    <tr style=\"text-align: right;\">\n",
       "      <th></th>\n",
       "      <th>num_characters</th>\n",
       "      <th>num_words</th>\n",
       "      <th>num_sentences</th>\n",
       "    </tr>\n",
       "  </thead>\n",
       "  <tbody>\n",
       "    <tr>\n",
       "      <th>count</th>\n",
       "      <td>653.000000</td>\n",
       "      <td>653.000000</td>\n",
       "      <td>653.000000</td>\n",
       "    </tr>\n",
       "    <tr>\n",
       "      <th>mean</th>\n",
       "      <td>137.891271</td>\n",
       "      <td>27.667688</td>\n",
       "      <td>2.967841</td>\n",
       "    </tr>\n",
       "    <tr>\n",
       "      <th>std</th>\n",
       "      <td>30.137753</td>\n",
       "      <td>7.008418</td>\n",
       "      <td>1.483201</td>\n",
       "    </tr>\n",
       "    <tr>\n",
       "      <th>min</th>\n",
       "      <td>13.000000</td>\n",
       "      <td>2.000000</td>\n",
       "      <td>1.000000</td>\n",
       "    </tr>\n",
       "    <tr>\n",
       "      <th>25%</th>\n",
       "      <td>132.000000</td>\n",
       "      <td>25.000000</td>\n",
       "      <td>2.000000</td>\n",
       "    </tr>\n",
       "    <tr>\n",
       "      <th>50%</th>\n",
       "      <td>149.000000</td>\n",
       "      <td>29.000000</td>\n",
       "      <td>3.000000</td>\n",
       "    </tr>\n",
       "    <tr>\n",
       "      <th>75%</th>\n",
       "      <td>157.000000</td>\n",
       "      <td>32.000000</td>\n",
       "      <td>4.000000</td>\n",
       "    </tr>\n",
       "    <tr>\n",
       "      <th>max</th>\n",
       "      <td>224.000000</td>\n",
       "      <td>46.000000</td>\n",
       "      <td>8.000000</td>\n",
       "    </tr>\n",
       "  </tbody>\n",
       "</table>\n",
       "</div>"
      ],
      "text/plain": [
       "       num_characters   num_words  num_sentences\n",
       "count      653.000000  653.000000     653.000000\n",
       "mean       137.891271   27.667688       2.967841\n",
       "std         30.137753    7.008418       1.483201\n",
       "min         13.000000    2.000000       1.000000\n",
       "25%        132.000000   25.000000       2.000000\n",
       "50%        149.000000   29.000000       3.000000\n",
       "75%        157.000000   32.000000       4.000000\n",
       "max        224.000000   46.000000       8.000000"
      ]
     },
     "execution_count": 34,
     "metadata": {},
     "output_type": "execute_result"
    }
   ],
   "source": [
    "# for 'spam' messages\n",
    "df[df['target'] == 1][['num_characters', 'num_words', 'num_sentences']].describe()"
   ]
  },
  {
   "cell_type": "code",
   "execution_count": 35,
   "id": "74ca2bf0",
   "metadata": {},
   "outputs": [],
   "source": [
    "import seaborn as sns"
   ]
  },
  {
   "cell_type": "code",
   "execution_count": 36,
   "id": "b10c3f24",
   "metadata": {},
   "outputs": [
    {
     "data": {
      "text/plain": [
       "<Axes: xlabel='num_characters', ylabel='Count'>"
      ]
     },
     "execution_count": 36,
     "metadata": {},
     "output_type": "execute_result"
    },
    {
     "data": {
      "image/png": "[encoded data removed]",
      "text/plain": [
       "<Figure size 1200x600 with 1 Axes>"
      ]
     },
     "metadata": {},
     "output_type": "display_data"
    }
   ],
   "source": [
    "plt.figure(figsize = (12,6))\n",
    "sns.histplot(df[df['target'] == 0]['num_characters'])\n",
    "sns.histplot(df[df['target'] == 1]['num_characters'],color = 'red')"
   ]
  },
  {
   "cell_type": "code",
   "execution_count": 37,
   "id": "2c572b47",
   "metadata": {},
   "outputs": [
    {
     "data": {
      "text/plain": [
       "<Axes: xlabel='num_words', ylabel='Count'>"
      ]
     },
     "execution_count": 37,
     "metadata": {},
     "output_type": "execute_result"
    },
    {
     "data": {
      "image/png": "[encoded data removed]",
      "text/plain": [
       "<Figure size 1200x600 with 1 Axes>"
      ]
     },
     "metadata": {},
     "output_type": "display_data"
    }
   ],
   "source": [
    "plt.figure(figsize = (12,6))\n",
    "sns.histplot(df[df['target'] == 0]['num_words'])\n",
    "sns.histplot(df[df['target'] == 1]['num_words'], color = 'red')"
   ]
  },
  {
   "cell_type": "markdown",
   "id": "bdb6a879",
   "metadata": {},
   "source": [
    "#### Key takeaway:\n",
    "  - In 'ham' messages the average characters, words lesser than 'spam' messages."
   ]
  },
  {
   "cell_type": "code",
   "execution_count": 38,
   "id": "f5e13197",
   "metadata": {},
   "outputs": [
    {
     "data": {
      "text/plain": [
       "<seaborn.axisgrid.PairGrid at 0x12748539ab0>"
      ]
     },
     "execution_count": 38,
     "metadata": {},
     "output_type": "execute_result"
    },
    {
     "data": {
      "image/png": "[encoded data removed]",
      "text/plain": [
       "<Figure size 808.875x750 with 12 Axes>"
      ]
     },
     "metadata": {},
     "output_type": "display_data"
    }
   ],
   "source": [
    "sns.pairplot(df, hue='target') # hue='target' means based on the target column color will be defined on scatterplot"
   ]
  },
  {
   "cell_type": "markdown",
   "id": "dc15104f",
   "metadata": {},
   "source": [
    "#### Key findings\n",
    "  - As number of characters increases, words increasing linearly.\n",
    "  - Sentences is not not lenearly increses if we observe the way characters and words relationship does.\n",
    "  - As we can observe, there were 'outliers' in the data. We can handle those at anyhow, otherwise outliers will derailed the analysis."
   ]
  },
  {
   "cell_type": "code",
   "execution_count": 39,
   "id": "9550c94c",
   "metadata": {},
   "outputs": [
    {
     "name": "stderr",
     "output_type": "stream",
     "text": [
      "C:\\Users\\sivas\\AppData\\Local\\Temp\\ipykernel_26908\\1927191761.py:2: FutureWarning: The default value of numeric_only in DataFrame.corr is deprecated. In a future version, it will default to False. Select only valid columns or specify the value of numeric_only to silence this warning.\n",
      "  df.corr()\n"
     ]
    },
    {
     "data": {
      "text/html": [
       "<div>\n",
       "<style scoped>\n",
       "    .dataframe tbody tr th:only-of-type {\n",
       "        vertical-align: middle;\n",
       "    }\n",
       "\n",
       "    .dataframe tbody tr th {\n",
       "        vertical-align: top;\n",
       "    }\n",
       "\n",
       "    .dataframe thead th {\n",
       "        text-align: right;\n",
       "    }\n",
       "</style>\n",
       "<table border=\"1\" class=\"dataframe\">\n",
       "  <thead>\n",
       "    <tr style=\"text-align: right;\">\n",
       "      <th></th>\n",
       "      <th>target</th>\n",
       "      <th>num_characters</th>\n",
       "      <th>num_words</th>\n",
       "      <th>num_sentences</th>\n",
       "    </tr>\n",
       "  </thead>\n",
       "  <tbody>\n",
       "    <tr>\n",
       "      <th>target</th>\n",
       "      <td>1.000000</td>\n",
       "      <td>0.384717</td>\n",
       "      <td>0.262984</td>\n",
       "      <td>0.284901</td>\n",
       "    </tr>\n",
       "    <tr>\n",
       "      <th>num_characters</th>\n",
       "      <td>0.384717</td>\n",
       "      <td>1.000000</td>\n",
       "      <td>0.965770</td>\n",
       "      <td>0.638143</td>\n",
       "    </tr>\n",
       "    <tr>\n",
       "      <th>num_words</th>\n",
       "      <td>0.262984</td>\n",
       "      <td>0.965770</td>\n",
       "      <td>1.000000</td>\n",
       "      <td>0.684541</td>\n",
       "    </tr>\n",
       "    <tr>\n",
       "      <th>num_sentences</th>\n",
       "      <td>0.284901</td>\n",
       "      <td>0.638143</td>\n",
       "      <td>0.684541</td>\n",
       "      <td>1.000000</td>\n",
       "    </tr>\n",
       "  </tbody>\n",
       "</table>\n",
       "</div>"
      ],
      "text/plain": [
       "                  target  num_characters  num_words  num_sentences\n",
       "target          1.000000        0.384717   0.262984       0.284901\n",
       "num_characters  0.384717        1.000000   0.965770       0.638143\n",
       "num_words       0.262984        0.965770   1.000000       0.684541\n",
       "num_sentences   0.284901        0.638143   0.684541       1.000000"
      ]
     },
     "execution_count": 39,
     "metadata": {},
     "output_type": "execute_result"
    }
   ],
   "source": [
    "# Pearson correlation perform: to know (relationship) between the features\n",
    "df.corr()"
   ]
  },
  {
   "cell_type": "code",
   "execution_count": 40,
   "id": "87e0a0d5",
   "metadata": {},
   "outputs": [
    {
     "name": "stderr",
     "output_type": "stream",
     "text": [
      "C:\\Users\\sivas\\AppData\\Local\\Temp\\ipykernel_26908\\1153639290.py:3: FutureWarning: The default value of numeric_only in DataFrame.corr is deprecated. In a future version, it will default to False. Select only valid columns or specify the value of numeric_only to silence this warning.\n",
      "  sns.heatmap(df.corr(), annot=True)\n"
     ]
    },
    {
     "data": {
      "text/plain": [
       "<Axes: >"
      ]
     },
     "execution_count": 40,
     "metadata": {},
     "output_type": "execute_result"
    },
    {
     "data": {
      "image/png": "[encoded data removed]",
      "text/plain": [
       "<Figure size 640x480 with 2 Axes>"
      ]
     },
     "metadata": {},
     "output_type": "display_data"
    }
   ],
   "source": [
    "# To showcase the correlation, visualize through Heatmap\n",
    "\n",
    "sns.heatmap(df.corr(), annot=True)"
   ]
  },
  {
   "cell_type": "markdown",
   "id": "d5af41c8",
   "metadata": {},
   "source": [
    "### Key takeaways:\n",
    "\n",
    "  - Actually, there is a multi collinearity issue between the independent features.\n",
    "  - usually, the correlation between independent variables is >= 0.7 we can conclude multicollinearity. no use of all the features.\n",
    "  - Instead of using 'num_words' & 'num_sentences'. 'num_characters' is good to use since it has high correlation with 'target' variable compared to other features 'num_sentences' & 'num_words'.\n",
    "  - For feature importance, it is strictly multi-collinearity took into consideration."
   ]
  },
  {
   "cell_type": "markdown",
   "id": "e0c0889b",
   "metadata": {},
   "source": [
    "## 3. Text/Data Preprocessing\n",
    "\n",
    "  - lower case\n",
    "  - Tokenization\n",
    "  - Removing special characters\n",
    "  - Removing stop words and punctuations\n",
    "  - Stemming"
   ]
  },
  {
   "cell_type": "markdown",
   "id": "aeae4461",
   "metadata": {},
   "source": [
    "#### Note:\n",
    "  - It is good to know what are top/frequent most words used in 'ham' and 'spam' messages respectively."
   ]
  },
  {
   "cell_type": "code",
   "execution_count": 41,
   "id": "9a84ee83",
   "metadata": {},
   "outputs": [],
   "source": [
    "# I will create a function in such a way that all the preprocessing mentioned above solved in one go:\n",
    "\n",
    "def transform_text(text):\n",
    "    text = text.lower()\n",
    "    text = nltk.word_tokenize(text)\n",
    "    \n",
    "    y = []\n",
    "    for i in text:\n",
    "        if i.isalnum():\n",
    "            y.append(i)\n",
    "    \n",
    "    text = y[:]\n",
    "    y.clear()\n",
    "    \n",
    "    for i in text:\n",
    "        if i not in stopwords.words('english') and i not in string.punctuation:\n",
    "            y.append(i)\n",
    "            \n",
    "    text = y[:]\n",
    "    y.clear()\n",
    "    \n",
    "    for i in text:\n",
    "        y.append(ps.stem(i))\n",
    "        \n",
    "    \n",
    "    return \" \".join(y)     # convert list to string whereas split is quite opposite."
   ]
  },
  {
   "cell_type": "code",
   "execution_count": 42,
   "id": "6ecfbe01",
   "metadata": {},
   "outputs": [
    {
     "name": "stderr",
     "output_type": "stream",
     "text": [
      "[nltk_data] Downloading package stopwords to\n",
      "[nltk_data]     C:\\Users\\sivas\\AppData\\Roaming\\nltk_data...\n",
      "[nltk_data]   Package stopwords is already up-to-date!\n"
     ]
    },
    {
     "data": {
      "text/plain": [
       "True"
      ]
     },
     "execution_count": 42,
     "metadata": {},
     "output_type": "execute_result"
    }
   ],
   "source": [
    "# nltk used for tokenization(breakdown the sentence into words in list), stop words & stemming\n",
    "\n",
    "import nltk\n",
    "nltk.download('stopwords')"
   ]
  },
  {
   "cell_type": "code",
   "execution_count": 43,
   "id": "0395e9df",
   "metadata": {},
   "outputs": [
    {
     "data": {
      "text/plain": [
       "['i',\n",
       " 'me',\n",
       " 'my',\n",
       " 'myself',\n",
       " 'we',\n",
       " 'our',\n",
       " 'ours',\n",
       " 'ourselves',\n",
       " 'you',\n",
       " \"you're\",\n",
       " \"you've\",\n",
       " \"you'll\",\n",
       " \"you'd\",\n",
       " 'your',\n",
       " 'yours',\n",
       " 'yourself',\n",
       " 'yourselves',\n",
       " 'he',\n",
       " 'him',\n",
       " 'his',\n",
       " 'himself',\n",
       " 'she',\n",
       " \"she's\",\n",
       " 'her',\n",
       " 'hers',\n",
       " 'herself',\n",
       " 'it',\n",
       " \"it's\",\n",
       " 'its',\n",
       " 'itself',\n",
       " 'they',\n",
       " 'them',\n",
       " 'their',\n",
       " 'theirs',\n",
       " 'themselves',\n",
       " 'what',\n",
       " 'which',\n",
       " 'who',\n",
       " 'whom',\n",
       " 'this',\n",
       " 'that',\n",
       " \"that'll\",\n",
       " 'these',\n",
       " 'those',\n",
       " 'am',\n",
       " 'is',\n",
       " 'are',\n",
       " 'was',\n",
       " 'were',\n",
       " 'be',\n",
       " 'been',\n",
       " 'being',\n",
       " 'have',\n",
       " 'has',\n",
       " 'had',\n",
       " 'having',\n",
       " 'do',\n",
       " 'does',\n",
       " 'did',\n",
       " 'doing',\n",
       " 'a',\n",
       " 'an',\n",
       " 'the',\n",
       " 'and',\n",
       " 'but',\n",
       " 'if',\n",
       " 'or',\n",
       " 'because',\n",
       " 'as',\n",
       " 'until',\n",
       " 'while',\n",
       " 'of',\n",
       " 'at',\n",
       " 'by',\n",
       " 'for',\n",
       " 'with',\n",
       " 'about',\n",
       " 'against',\n",
       " 'between',\n",
       " 'into',\n",
       " 'through',\n",
       " 'during',\n",
       " 'before',\n",
       " 'after',\n",
       " 'above',\n",
       " 'below',\n",
       " 'to',\n",
       " 'from',\n",
       " 'up',\n",
       " 'down',\n",
       " 'in',\n",
       " 'out',\n",
       " 'on',\n",
       " 'off',\n",
       " 'over',\n",
       " 'under',\n",
       " 'again',\n",
       " 'further',\n",
       " 'then',\n",
       " 'once',\n",
       " 'here',\n",
       " 'there',\n",
       " 'when',\n",
       " 'where',\n",
       " 'why',\n",
       " 'how',\n",
       " 'all',\n",
       " 'any',\n",
       " 'both',\n",
       " 'each',\n",
       " 'few',\n",
       " 'more',\n",
       " 'most',\n",
       " 'other',\n",
       " 'some',\n",
       " 'such',\n",
       " 'no',\n",
       " 'nor',\n",
       " 'not',\n",
       " 'only',\n",
       " 'own',\n",
       " 'same',\n",
       " 'so',\n",
       " 'than',\n",
       " 'too',\n",
       " 'very',\n",
       " 's',\n",
       " 't',\n",
       " 'can',\n",
       " 'will',\n",
       " 'just',\n",
       " 'don',\n",
       " \"don't\",\n",
       " 'should',\n",
       " \"should've\",\n",
       " 'now',\n",
       " 'd',\n",
       " 'll',\n",
       " 'm',\n",
       " 'o',\n",
       " 're',\n",
       " 've',\n",
       " 'y',\n",
       " 'ain',\n",
       " 'aren',\n",
       " \"aren't\",\n",
       " 'couldn',\n",
       " \"couldn't\",\n",
       " 'didn',\n",
       " \"didn't\",\n",
       " 'doesn',\n",
       " \"doesn't\",\n",
       " 'hadn',\n",
       " \"hadn't\",\n",
       " 'hasn',\n",
       " \"hasn't\",\n",
       " 'haven',\n",
       " \"haven't\",\n",
       " 'isn',\n",
       " \"isn't\",\n",
       " 'ma',\n",
       " 'mightn',\n",
       " \"mightn't\",\n",
       " 'mustn',\n",
       " \"mustn't\",\n",
       " 'needn',\n",
       " \"needn't\",\n",
       " 'shan',\n",
       " \"shan't\",\n",
       " 'shouldn',\n",
       " \"shouldn't\",\n",
       " 'wasn',\n",
       " \"wasn't\",\n",
       " 'weren',\n",
       " \"weren't\",\n",
       " 'won',\n",
       " \"won't\",\n",
       " 'wouldn',\n",
       " \"wouldn't\"]"
      ]
     },
     "execution_count": 43,
     "metadata": {},
     "output_type": "execute_result"
    }
   ],
   "source": [
    "# These are the stopwords in general\n",
    "\n",
    "from nltk.corpus import stopwords\n",
    "stopwords.words('english')"
   ]
  },
  {
   "cell_type": "code",
   "execution_count": 44,
   "id": "68f5f9e0",
   "metadata": {},
   "outputs": [
    {
     "data": {
      "text/plain": [
       "'!\"#$%&\\'()*+,-./:;<=>?@[\\\\]^_`{|}~'"
      ]
     },
     "execution_count": 44,
     "metadata": {},
     "output_type": "execute_result"
    }
   ],
   "source": [
    "# To check what are punctuations in general\n",
    "\n",
    "import string\n",
    "string.punctuation"
   ]
  },
  {
   "cell_type": "code",
   "execution_count": 45,
   "id": "d1c8c551",
   "metadata": {},
   "outputs": [
    {
     "data": {
      "text/plain": [
       "'danc'"
      ]
     },
     "execution_count": 45,
     "metadata": {},
     "output_type": "execute_result"
    }
   ],
   "source": [
    "# stemming (example)\n",
    "\n",
    "from nltk.stem.porter import PorterStemmer\n",
    "ps = PorterStemmer()\n",
    "ps.stem('dancing')"
   ]
  },
  {
   "cell_type": "code",
   "execution_count": 46,
   "id": "57e7a1a5",
   "metadata": {},
   "outputs": [
    {
     "data": {
      "text/plain": [
       "'Go until jurong point, crazy.. Available only in bugis n great world la e buffet... Cine there got amore wat...'"
      ]
     },
     "execution_count": 46,
     "metadata": {},
     "output_type": "execute_result"
    }
   ],
   "source": [
    "df['text'][0]"
   ]
  },
  {
   "cell_type": "code",
   "execution_count": 47,
   "id": "0c626e43",
   "metadata": {},
   "outputs": [
    {
     "data": {
      "text/plain": [
       "'hi get 100 money care'"
      ]
     },
     "execution_count": 47,
     "metadata": {},
     "output_type": "execute_result"
    }
   ],
   "source": [
    "# testing purpose of function working or not\n",
    "\n",
    "transform_text('Hi How are you. Did you get 100 $ money for your caring.?')"
   ]
  },
  {
   "cell_type": "markdown",
   "id": "707a74c6",
   "metadata": {},
   "source": [
    "### Adding new column"
   ]
  },
  {
   "cell_type": "code",
   "execution_count": 48,
   "id": "45409ea3",
   "metadata": {},
   "outputs": [],
   "source": [
    "df['transformed_text'] = df['text'].apply(transform_text)"
   ]
  },
  {
   "cell_type": "code",
   "execution_count": 49,
   "id": "47a7b8ca",
   "metadata": {},
   "outputs": [
    {
     "data": {
      "text/html": [
       "<div>\n",
       "<style scoped>\n",
       "    .dataframe tbody tr th:only-of-type {\n",
       "        vertical-align: middle;\n",
       "    }\n",
       "\n",
       "    .dataframe tbody tr th {\n",
       "        vertical-align: top;\n",
       "    }\n",
       "\n",
       "    .dataframe thead th {\n",
       "        text-align: right;\n",
       "    }\n",
       "</style>\n",
       "<table border=\"1\" class=\"dataframe\">\n",
       "  <thead>\n",
       "    <tr style=\"text-align: right;\">\n",
       "      <th></th>\n",
       "      <th>target</th>\n",
       "      <th>text</th>\n",
       "      <th>num_characters</th>\n",
       "      <th>num_words</th>\n",
       "      <th>num_sentences</th>\n",
       "      <th>transformed_text</th>\n",
       "    </tr>\n",
       "  </thead>\n",
       "  <tbody>\n",
       "    <tr>\n",
       "      <th>0</th>\n",
       "      <td>0</td>\n",
       "      <td>Go until jurong point, crazy.. Available only ...</td>\n",
       "      <td>111</td>\n",
       "      <td>24</td>\n",
       "      <td>2</td>\n",
       "      <td>go jurong point crazi avail bugi n great world...</td>\n",
       "    </tr>\n",
       "    <tr>\n",
       "      <th>1</th>\n",
       "      <td>0</td>\n",
       "      <td>Ok lar... Joking wif u oni...</td>\n",
       "      <td>29</td>\n",
       "      <td>8</td>\n",
       "      <td>2</td>\n",
       "      <td>ok lar joke wif u oni</td>\n",
       "    </tr>\n",
       "    <tr>\n",
       "      <th>2</th>\n",
       "      <td>1</td>\n",
       "      <td>Free entry in 2 a wkly comp to win FA Cup fina...</td>\n",
       "      <td>155</td>\n",
       "      <td>37</td>\n",
       "      <td>2</td>\n",
       "      <td>free entri 2 wkli comp win fa cup final tkt 21...</td>\n",
       "    </tr>\n",
       "    <tr>\n",
       "      <th>3</th>\n",
       "      <td>0</td>\n",
       "      <td>U dun say so early hor... U c already then say...</td>\n",
       "      <td>49</td>\n",
       "      <td>13</td>\n",
       "      <td>1</td>\n",
       "      <td>u dun say earli hor u c alreadi say</td>\n",
       "    </tr>\n",
       "    <tr>\n",
       "      <th>4</th>\n",
       "      <td>0</td>\n",
       "      <td>Nah I don't think he goes to usf, he lives aro...</td>\n",
       "      <td>61</td>\n",
       "      <td>15</td>\n",
       "      <td>1</td>\n",
       "      <td>nah think goe usf live around though</td>\n",
       "    </tr>\n",
       "  </tbody>\n",
       "</table>\n",
       "</div>"
      ],
      "text/plain": [
       "   target                                               text  num_characters  \\\n",
       "0       0  Go until jurong point, crazy.. Available only ...             111   \n",
       "1       0                      Ok lar... Joking wif u oni...              29   \n",
       "2       1  Free entry in 2 a wkly comp to win FA Cup fina...             155   \n",
       "3       0  U dun say so early hor... U c already then say...              49   \n",
       "4       0  Nah I don't think he goes to usf, he lives aro...              61   \n",
       "\n",
       "   num_words  num_sentences                                   transformed_text  \n",
       "0         24              2  go jurong point crazi avail bugi n great world...  \n",
       "1          8              2                              ok lar joke wif u oni  \n",
       "2         37              2  free entri 2 wkli comp win fa cup final tkt 21...  \n",
       "3         13              1                u dun say earli hor u c alreadi say  \n",
       "4         15              1               nah think goe usf live around though  "
      ]
     },
     "execution_count": 49,
     "metadata": {},
     "output_type": "execute_result"
    }
   ],
   "source": [
    "df.head()"
   ]
  },
  {
   "cell_type": "markdown",
   "id": "c5d36791",
   "metadata": {},
   "source": [
    "### Word cloud visualization\n",
    "\n",
    "  - To visualize the most frequent words in 'spam' and in 'ham'"
   ]
  },
  {
   "cell_type": "code",
   "execution_count": 50,
   "id": "1a4e1938",
   "metadata": {},
   "outputs": [
    {
     "name": "stdout",
     "output_type": "stream",
     "text": [
      "Requirement already satisfied: wordcloud in c:\\users\\sivas\\anaconda3\\lib\\site-packages (1.9.3)\n",
      "Requirement already satisfied: matplotlib in c:\\users\\sivas\\anaconda3\\lib\\site-packages (from wordcloud) (3.7.0)\n",
      "Requirement already satisfied: numpy>=1.6.1 in c:\\users\\sivas\\anaconda3\\lib\\site-packages (from wordcloud) (1.23.5)\n",
      "Requirement already satisfied: pillow in c:\\users\\sivas\\anaconda3\\lib\\site-packages (from wordcloud) (9.4.0)\n",
      "Requirement already satisfied: kiwisolver>=1.0.1 in c:\\users\\sivas\\anaconda3\\lib\\site-packages (from matplotlib->wordcloud) (1.4.4)\n",
      "Requirement already satisfied: contourpy>=1.0.1 in c:\\users\\sivas\\anaconda3\\lib\\site-packages (from matplotlib->wordcloud) (1.0.5)\n",
      "Requirement already satisfied: cycler>=0.10 in c:\\users\\sivas\\anaconda3\\lib\\site-packages (from matplotlib->wordcloud) (0.11.0)\n",
      "Requirement already satisfied: python-dateutil>=2.7 in c:\\users\\sivas\\anaconda3\\lib\\site-packages (from matplotlib->wordcloud) (2.8.2)\n",
      "Requirement already satisfied: pyparsing>=2.3.1 in c:\\users\\sivas\\anaconda3\\lib\\site-packages (from matplotlib->wordcloud) (3.0.9)\n",
      "Requirement already satisfied: fonttools>=4.22.0 in c:\\users\\sivas\\anaconda3\\lib\\site-packages (from matplotlib->wordcloud) (4.25.0)\n",
      "Requirement already satisfied: packaging>=20.0 in c:\\users\\sivas\\anaconda3\\lib\\site-packages (from matplotlib->wordcloud) (22.0)\n",
      "Requirement already satisfied: six>=1.5 in c:\\users\\sivas\\anaconda3\\lib\\site-packages (from python-dateutil>=2.7->matplotlib->wordcloud) (1.16.0)\n"
     ]
    }
   ],
   "source": [
    "!pip install wordcloud"
   ]
  },
  {
   "cell_type": "code",
   "execution_count": 51,
   "id": "ed76f9a5",
   "metadata": {},
   "outputs": [],
   "source": [
    "from wordcloud import WordCloud\n",
    "wc = WordCloud(width=500,height=500,min_font_size=10,background_color='white')"
   ]
  },
  {
   "cell_type": "markdown",
   "id": "7c42cc8f",
   "metadata": {},
   "source": [
    "#### Spam Word cloud"
   ]
  },
  {
   "cell_type": "code",
   "execution_count": 52,
   "id": "06ba6c44",
   "metadata": {},
   "outputs": [
    {
     "data": {
      "text/plain": [
       "'free entri 2 wkli comp win fa cup final tkt 21st may text fa 87121 receiv entri question std txt rate c appli 08452810075over18 freemsg hey darl 3 week word back like fun still tb ok xxx std chg send rcv winner valu network custom select receivea prize reward claim call claim code kl341 valid 12 hour mobil 11 month u r entitl updat latest colour mobil camera free call mobil updat co free 08002986030 six chanc win cash 100 pound txt csh11 send cost 6day tsandc appli repli hl 4 info urgent 1 week free membership prize jackpot txt word claim 81010 c lccltd pobox 4403ldnw1a7rw18 xxxmobilemovieclub use credit click wap link next txt messag click http england v macedonia dont miss news txt ur nation team 87077 eg england 87077 tri wale scotland poboxox36504w45wq thank subscript rington uk mobil charg pleas confirm repli ye repli charg 07732584351 rodger burn msg tri call repli sm free nokia mobil free camcord pleas call 08000930705 deliveri tomorrow sm ac sptv new jersey devil detroit red wing play ice hockey correct incorrect end repli end sptv congrat 1 year special cinema pass 2 call 09061209465 c suprman v matrix3 starwars3 etc 4 free 150pm dont miss valu custom pleas advis follow recent review mob award bonu prize call 09066364589 urgent ur award complimentari trip eurodisinc trav aco entry41 claim txt di 87121 morefrmmob shracomorsglsuplt 10 ls1 3aj hear new come ken stuff pleas call custom servic repres 0800 169 6031 guarante cash prize free rington wait collect simpli text password 85069 verifi get usher britney fml gent tri contact last weekend draw show prize guarante call claim code k52 valid 12hr 150ppm winner u special select 2 receiv 4 holiday flight inc speak live oper 2 claim privat 2004 account statement 07742676969 show 786 unredeem bonu point claim call 08719180248 identifi code 45239 expir urgent mobil award bonu caller prize final tri contact u call landlin 09064019788 box42wr29c 150ppm today voda number end 7548 select receiv 350 award match pleas call 08712300220 quot claim code 4041 standard rate app sunshin quiz wkli q win top soni dvd player u know countri algarv txt ansr sp tyron want 2 get laid tonight want real dog locat sent direct 2 ur mob join uk largest dog network bt txting gravel 69888 nt ec2a 150p rcv msg chat svc free hardcor servic text go 69988 u get noth u must age verifi yr network tri freemsg repli text randi sexi femal live local luv hear netcollex ltd 08700621170150p per msg repli stop end custom servic annonc new year deliveri wait pleas call 07046744435 arrang deliveri winner u special select 2 receiv cash 4 holiday flight inc speak live oper 2 claim 0871277810810 stop bootydeli invit friend repli see stop send stop frnd 62468 bangbab ur order way u receiv servic msg 2 download ur content u goto wap bangb tv ur mobil menu urgent tri contact last weekend draw show prize guarante call claim code s89 valid 12hr pleas call custom servic repres freephon 0808 145 4742 guarante cash prize uniqu enough find 30th august 500 new mobil 2004 must go txt nokia 89545 collect today 2optout u meet ur dream partner soon ur career 2 flyng start 2 find free txt horo follow ur star sign horo ari text meet someon sexi today u find date even flirt join 4 10p repli name age eg sam 25 18 recd thirtyeight penc u 447801259231 secret admir look 2 make contact r reveal think ur 09058094597 congratul ur award 500 cd voucher 125gift guarante free entri 2 100 wkli draw txt music 87066 tnc tri contact repli offer video handset 750 anytim network min unlimit text camcord repli call 08000930705 hey realli horni want chat see nake text hot 69698 text charg 150pm unsubscrib text stop 69698 ur rington servic chang 25 free credit go choos content stop txt club stop 87070 club4 po box1146 mk45 2wt rington club get uk singl chart mobil week choos top qualiti rington messag free charg hmv bonu special 500 pound genuin hmv voucher answer 4 easi question play send hmv 86688 info custom may claim free camera phone upgrad pay go sim card loyalti call 0845 021 end c appli sm ac blind date 4u rodds1 aberdeen unit kingdom check http sm blind date send hide themob check newest select content game tone gossip babe sport keep mobil fit funki text wap 82468 think ur smart win week weekli quiz text play 85222 cs winnersclub po box 84 m26 3uz decemb mobil entitl updat latest colour camera mobil free call mobil updat co free 08002986906 call germani 1 penc per minut call fix line via access number 0844 861 85 prepay direct access valentin day special win quiz take partner trip lifetim send go 83600 rcvd fanci shag txt xxuk suzi txt cost per msg tnc websit x ur current 500 pound maxim ur send cash 86688 cc 08708800282 xma offer latest motorola sonyericsson nokia free bluetooth doubl min 1000 txt orang call mobileupd8 08000839402 discount code rp176781 stop messag repli stop custom servic 08717205546 thank rington order refer t91 charg gbp 4 per week unsubscrib anytim call custom servic 09057039994 doubl min txt 4 6month free bluetooth orang avail soni nokia motorola phone call mobileupd8 08000839402 4mth half price orang line rental latest camera phone 4 free phone 11mth call mobilesdirect free 08000938767 updat or2stoptxt free rington text first 87131 poli text get 87131 true tone help 0845 2814032 16 1st free tone txt stop 100 date servic cal l 09064012103 box334sk38ch free entri weekli competit text word win 80086 18 c send logo 2 ur lover 2 name join heart txt love name1 name2 mobno eg love adam eve 07123456789 87077 yahoo pobox36504w45wq txtno 4 ad 150p someon contact date servic enter phone fanci find call landlin 09111032124 pobox12n146tf150p urgent mobil number award prize guarante call 09058094455 land line claim valid 12hr congrat nokia 3650 video camera phone call 09066382422 call cost 150ppm ave call 3min vari mobil close 300603 post bcm4284 ldn wc1n3xx loan purpos homeown tenant welcom previous refus still help call free 0800 1956669 text back upgrdcentr orang custom may claim free camera phone upgrad loyalti call 0207 153 offer end 26th juli c appli avail okmail dear dave final notic collect 4 tenerif holiday 5000 cash award call 09061743806 landlin tc sae box326 cw25wx 150ppm want 2 get laid tonight want real dog locat sent direct 2 ur mob join uk largest dog network txting moan 69888nyt ec2a 150p free messag activ 500 free text messag repli messag word free term condit visit congrat 1 year special cinema pass 2 call 09061209465 c suprman v matrix3 starwars3 etc 4 free 150pm dont miss congratul week competit draw u prize claim call 09050002311 b4280703 sm 18 150ppm guarante latest nokia phone 40gb ipod mp3 player prize txt word collect 83355 ibhltd ldnw15h boltblu tone 150p repli poli mono eg poly3 cha cha slide yeah slow jamz toxic come stop 4 tone txt credit top http renew pin tgxxrz urgent mobil award bonu caller prize 2nd attempt contact call box95qu today offer claim ur worth discount voucher text ye 85023 savamob member offer mobil cs sub 16 unsub repli x reciev tone within next 24hr term condit pleas see channel u teletext pg 750 privat 2003 account statement 07815296484 show 800 point call 08718738001 identifi code 41782 expir monthlysubscript csc web age16 2stop txt stop gent tri contact last weekend draw show prize guarante call claim code k52 valid 12hr 150ppm cash prize claim call09050000327 mobil number claim call us back ring claim hot line 09050005321 tri contact repli offer 750 min 150 textand new video phone call 08002988890 repli free deliveri tomorrow ur chanc win wkli shop spree txt shop c custcar 08715705022 special select receiv 2000 pound award call 08712402050 line close cost 10ppm cs appli ag promo privat 2003 account statement 07753741225 show 800 point call 08715203677 identifi code 42478 expir import custom servic announc call freephon 0800 542 0825 xclusiv clubsaisai 2morow soire special zouk nichol rose 2 ladi info 22 day kick euro2004 u kept date latest news result daili remov send get txt stop 83222 new textbuddi chat 2 horni guy ur area 4 25p free 2 receiv search postcod txt one name 89693 today vodafon number end 4882 select receiv award number match call 09064019014 receiv award dear voucher holder 2 claim week offer pc go http ts cs stop text txt stop 80062 privat 2003 account statement show 800 point call 08715203694 identifi code 40533 expir cash prize claim call09050000327 c rstm sw7 3ss 150ppm 88800 89034 premium phone servic call 08718711108 sm ac sun0819 post hello seem cool get ur 1st rington free repli msg tone gr8 top 20 tone phone everi week per wk 2 opt send stop 08452810071 16 hi sue 20 year old work lapdanc love sex text live bedroom text sue textoper g2 1da 150ppmsg forward 448712404000 pleas call 08712404000 immedi urgent messag wait review keep fantast nokia game deck club nokia go 2 unsubscrib alert repli word 4mth half price orang line rental latest camera phone 4 free phone call mobilesdirect free 08000938767 updat or2stoptxt cs 08714712388 cost 10p urgent 2nd attempt contact u u call 09071512433 b4 050703 csbcm4235wc1n3xx callcost 150ppm mobilesvari 50 guarante cash prize claim yr prize call custom servic repres 08714712394 email alertfrom jeri stewarts 2kbsubject prescripiton drvgsto listen email call 123 hi custom loyalti offer new nokia6650 mobil txtauction txt word start 81151 get 4t ctxt tc u subscrib best mobil content servic uk per 10 day send stop helplin 08706091795 realiz 40 year thousand old ladi run around tattoo import custom servic announc premier romant pari 2 night 2 flight book 4 next year call 08704439680t cs appli urgent ur guarante award still unclaim call 09066368327 claimcod m39m51 ur award citi break could win summer shop spree everi wk txt store 88039 skilgm tscs087147403231winawk age16 import custom servic announc premier call freephon 0800 542 0578 ever thought live good life perfect partner txt back name age join mobil commun 5 free top polyphon tone call 087018728737 nation rate get toppoli tune sent everi week text subpoli 81618 per pole unsub 08718727870 orang custom may claim free camera phone upgrad loyalti call 0207 153 offer end 14thmarch c appli availa last chanc claim ur worth discount voucher today text shop 85023 savamob offer mobil cs savamob pobox84 m263uz sub 16 free 1st week no1 nokia tone 4 ur mobil everi week txt nokia 8077 get txting tell ur mate pobox 36504 w45wq guarante award even cashto claim ur award call free 08000407165 2 stop getstop 88222 php rg21 4jx congratul ur award either cd gift voucher free entri 2 weekli draw txt music 87066 tnc u outbid simonwatson5120 shinco dvd plyr 2 bid visit sm 2 end bid notif repli end smsservic yourinclus text credit pl goto 3qxj9 unsubscrib stop extra charg help 9ae 25p 4 alfi moon children need song ur mob tell ur m8 txt tone chariti 8007 nokia poli chariti poli zed 08701417012 profit 2 chariti u secret admir reveal think u r special call opt repli reveal stop per msg recd cust care 07821230901 dear voucher holder claim week offer pc pleas go http ts cs appli stop text txt stop 80062 want 750 anytim network min 150 text new video phone five pound per week call 08002888812 repli deliveri tomorrow tri contact offer new video phone 750 anytim network min half price rental camcord call 08000930705 repli deliveri wed last chanc 2 claim ur worth discount ye 85023 offer mobil cs sub 16 remov txt x stop urgent call 09066350750 landlin complimentari 4 ibiza holiday cash await collect sae cs po box 434 sk3 8wp 150 ppm talk sexi make new friend fall love world discreet text date servic text vip 83110 see could meet congratul ur award either yr suppli cd virgin record mysteri gift guarante call 09061104283 ts cs approx 3min privat 2003 account statement 07808 xxxxxx show 800 point call 08719899217 identifi code 41685 expir hello need posh bird chap user trial prod champney put need address dob asap ta r u want xma 100 free text messag new video phone half price line rental call free 0800 0721072 find shop till u drop either 10k 5k cash travel voucher call ntt po box cr01327bt fixedlin cost 150ppm mobil vari sunshin quiz wkli q win top soni dvd player u know countri liverpool play mid week txt ansr sp tyron u secret admir look 2 make contact r reveal think ur 09058094565 u secret admir look 2 make contact r reveal think ur remind download content alreadi paid goto http mymobi collect content lastest stereophon marley dizze racal libertin stroke win nookii game flirt click themob wap bookmark text wap 82468 januari male sale hot gay chat cheaper call nation rate cheap peak stop text call 08712460324 money r lucki winner 2 claim prize text money 2 88600 give away text rate box403 w1t1ji dear matthew pleas call 09063440451 landlin complimentari 4 lux tenerif holiday cash await collect ppm150 sae cs box334 sk38xh urgent call 09061749602 landlin complimentari 4 tenerif holiday cash await collect sae cs box 528 hp20 1yf 150ppm get touch folk wait compani txt back name age opt enjoy commun ur current 500 pound maxim ur send go 86688 cc 08718720201 po box filthi stori girl wait urgent tri contact today draw show prize guarante call 09050001808 land line claim m95 valid12hr congrat 2 mobil 3g videophon r call 09063458130 videochat wid mate play java game dload polyph music nolin rentl panason bluetoothhdset free nokia free motorola free doublemin doubletxt orang contract call mobileupd8 08000839402 call 2optout free 1st week no1 nokia tone 4 ur mob everi week txt nokia 8007 get txting tell ur mate pobox 36504 w45wq guess somebodi know secretli fanci wan na find give us call 09065394514 landlin datebox1282essexcm61xn 18 know someon know fanci call 09058097218 find pobox 6 ls15hb 150p 1000 flirt txt girl bloke ur name age eg girl zoe 18 8007 join get chat 18 day euro2004 kickoff u kept inform latest news result daili unsubscrib send get euro stop 83222 eastend tv quiz flower dot compar violet tulip lili txt e f 84025 4 chanc 2 win cash new local date area lot new peopl regist area repli date start 18 replys150 someon u know ask date servic 2 contact cant guess call 09058091854 reveal po box385 m6 6wu urgent tri contact today draw show prize guarante call 09050003091 land line claim c52 valid12hr dear u invit xchat final attempt contact u txt chat 86688 award sipix digit camera call 09061221061 landlin deliveri within 28day cs box177 m221bp 2yr warranti 150ppm 16 p win urgent mobil number award prize guarante call 09061790121 land line claim 3030 valid 12hr 150ppm dear subscrib ur draw 4 gift voucher b enter receipt correct an elvi presley birthday txt answer 80062 messag import inform o2 user today lucki day 2 find log onto http fantast surpris await 449050000301 price claim call 09050000301 bore speed date tri speedchat txt speedchat 80155 like em txt swap get new chatter chat80155 pobox36504w45wq rcd 16 want 750 anytim network min 150 text new video phone five pound per week call 08000776320 repli deliveri tomorrow take part mobil survey yesterday 500 text 2 use howev wish 2 get txt send txt 80160 c ur hmv quiz current maxim ur send hmv1 86688 dont forget place mani free request wish inform call 08707808226 know u u know send chat 86688 let find rcvd ldn 18 year thank winner notifi sm good luck futur market repli stop 84122 custom servic 08450542832 1000 girl mani local 2 u r virgin 2 r readi 2 4fil ur everi sexual need u 4fil text cute 69911 got take 2 take part wrc ralli oz u lucozad energi text ralli le 61200 25p see pack itcould u sex ur mobil free sexi pic jordan text babe everi wk get sexi celeb 4 pic 16 087016248 1 new voicemail pleas call 08719181503 win year suppli cd 4 store ur choic worth enter weekli draw txt music 87066 ts cs sim subscrib select receiv bonu get deliv door txt word ok 88600 claim exp 30apr 1 new voicemail pleas call 08719181513 1 nokia tone 4 ur mob everi week txt nok 87021 1st tone free get txtin tell ur friend 16 repli hl 4info repli name address receiv post week complet free accommod variou global locat free entri weekli comp send word enter 84128 18 c cust care 08712405020 pleas call 08712402779 immedi urgent messag wait hungri gay guy feel hungri 4 call 08718730555 stop text call 08712460324 u get 2 phone wan na chat 2 set meet call 09096102316 u cum 2moro luv jane xx network oper servic free c visit enjoy jamster videosound gold club credit 2 new get fun help call 09701213186 get 3 lion england tone repli lionm 4 mono lionp 4 poli 4 go 2 origin n best tone 3gbp network oper rate appli win newest potter order phoenix book 5 repli harri answer 5 question chanc first among reader ur balanc ur next question sang girl 80 2 answer txt ur answer good luck free2day sexi st georg day pic jordan txt pic 89080 dont miss everi wk sauci celeb 4 pic c 0870241182716 hot live fantasi call 08707509020 20p per min ntt ltd po box 1327 croydon cr9 5wb 0870 k bear pic nick tom pete dick fact type tri gay chat photo upload call 08718730666 2 stop text call 08712460324 500 new mobil 2004 must go txt nokia 89545 collect today 2optout txtauction doubl min doubl txt price linerent latest orang bluetooth mobil call mobileupd8 latest offer 08000839402 urgent import inform o2 user today lucki day 2 find log onto http fantast surpris await dear u invit xchat final attempt contact u txt chat 86688 ldn 18 yr congratul ur award either cd gift voucher free entri 2 weekli draw txt music 87066 tnc 1 win150ppmx3age16 sale arsen dartboard good condit doubl trebl free 1st week entri 2 textpod 4 chanc 2 win 40gb ipod cash everi wk txt pod 84128 ts cs custcar 08712405020 regist optin subscrib ur draw 4 gift voucher enter receipt correct an 80062 what no1 bbc chart summer final fanci chat flirt sexi singl yr area get match repli summer free 2 join optout txt stop help08714742804 clair havin borin time alon u wan na cum 2nite chat 09099725823 hope 2 c u luv clair xx bought one rington get text cost 3 pound offer tone etc 09066362231 urgent mobil 07xxxxxxxxx bonu caller prize 2nd attempt reach call 09066362231 asap 07801543489 guarante latest nokia phone 40gb ipod mp3 player prize txt word collect hi luci hubbi meetin day fri b alon hotel u fanci cumin pl leav msg 2day 09099726395 luci x account credit 500 free text messag activ txt word credit 80488 cs sm ac jsco energi high u may know 2channel 2day ur leadership skill r strong psychic repli an end repli end jsco hot live fantasi call 08707509020 20p per min ntt ltd po box 1327 croydon cr9 5wb 0870 nation rate call thank vote sing along star karaok mobil free link repli sing brand new mobil music servic live free music player arriv shortli instal phone brows content top artist urgent mobil award bonu caller prize 2nd attempt contact call box95qu bt nation rate nokia 7250i get win free auction take part send nokia 86021 hello orang 1 month free access game news sport plu 10 free text 20 photo messag repli ye term appli ur current 500 pound maxim ur send go 86688 cc 08718720201 sm auction brand new nokia 7250 4 auction today auction free 2 join take part txt nokia 86021 privat 2003 account statement show 800 point call 08719899230 identifi code 41685 expir regist subscrib yr draw 4 gift voucher b enter receipt correct an next olymp txt an 80062 urgent mobil number award prize guarante call 09061790121 land line claim valid 12hr 150ppm pro video club need help info call 08701237397 must club credit redeem enjoy u secret admir look 2 make contact r reveal think ur 09058094599 500 free text msg text ok 80488 credit account select stay 1 250 top british hotel noth holiday worth claim call london bx 526 sw73ss eeri nokia tone 4u rpli tone titl 8007 eg tone dracula 8007 titl ghost addamsfa munster exorcist twilight pobox36504w45wq 150p 0a network allow compani bill sm respons freemsg feelin kinda lnli hope u like 2 keep compani jst got cam mobi wan na c pic txt repli date 82242 msg150p 2rcv hlp 08712317606 stop 82242 ur chanc win cash everi wk txt action c custcar 08712405022 rgent 2nd attempt contact u u call 09071512433 b4 050703 csbcm4235wc1n3xx callcost 150ppm mobilesvari 50 hi ur lookin 4 sauci daytim fun wiv busti marri woman free next week chat 2 sort time 09099726429 janinexx urgent tri contact today draw show prize guarante call 09050001295 land line claim a21 valid 12hr monthli password wap use wap phone pc today vodafon number end 0089 last four digit select receiv award number match pleas call 09063442151 claim award free top rington weekli 1st week subpoli 3 per free msg sorri servic order 81303 could deliv suffici credit pleas top receiv servic hard live 121 chat choos girl connect live call 09094646899 cheap chat uk biggest live servic vu bcm1896wc1n3xx wow boy r back take 2007 uk tour win vip ticket vip club txt club trackmarqu ltd info vipclub4u hi mandi sullivan call hotmix fm chosen receiv easter prize draw pleas telephon 09041940223 claim prize transfer someon els ur go 2 bahama callfreefon 08081560665 speak live oper claim either bahama cruis cash opt txt x 07786200117 someon conact date servic enter phone fanci find call landlin pobox12n146tf15 hi 07734396839 ibh custom loyalti offer new nokia6600 mobil txtauction txt word start get 4t sm auction nokia 7250i get win free auction take part send nokia 86021 call freephon 0800 542 0578 buy space invad 4 chanc 2 win orig arcad game consol press 0 game arcad std wap charg see 4 term set purchas big brother alert comput select u 10k cash 150 voucher call ntt po box cro1327 bt landlin cost 150ppm mobil vari win winner foley ipod excit prize soon keep eye ur mobil visit today voda number end 1225 select receiv match pleas call 08712300220 quot claim code 3100 standard rate app hottest pic straight phone see get wet want xx text pic 89555 txt cost 150p textoper g696ga 18 xxx hack chat get backdoor entri 121 chat room fraction cost repli neo69 call 09050280520 subscrib 25p pm dp bcm box 8027 ldn wc1n3xx free nokia motorola upto 12mth linerent 500 free min free call mobileupd8 08001950382 call 2nd time tri 2 contact u 750 pound prize 2 claim easi call 08718726970 10p per min guarante cash claim yr prize call custom servic repres would like see xxx pic hot nearli ban uk u secret admir look 2 make contact r reveal think ur 09058094594 dear 0776xxxxxxx u invit xchat final attempt contact u txt chat 86688 ldn 18yr urgent pleas call 09061743811 landlin abta complimentari 4 tenerif holiday cash await collect sae cs box 326 cw25wx 150ppm call 09090900040 listen extrem dirti live chat go offic right total privaci one know sic listen 60p min freemsg hey u got 1 fone repli wild txt ill send u pic hurri im bore work xxx 18 stop2stop free entri 2 weekli comp chanc win ipod txt pod 80182 get entri std txt rate c appli 08452810073 detail new textbuddi chat 2 horni guy ur area 4 25p free 2 receiv search postcod txt one name 89693 08715500022 rpl stop 2 cnl call 08702490080 tell u 2 call 09066358152 claim prize u 2 enter ur mobil person detail prompt care free 1st week entri 2 textpod 4 chanc 2 win 40gb ipod cash everi wk txt vpod 81303 ts cs custcar 08712405020 peopl dog area call 09090204448 join like mind guy arrang 1 1 even minapn ls278bb well done 4 costa del sol holiday await collect call 09050090044 toclaim sae tc pobox334 stockport sk38xh max10min guess somebodi know secretli fanci wan na find give us call 09065394973 landlin datebox1282essexcm61xn 18 500 free text messag valid 31 decemb 2005 guarante award even cashto claim ur award call free 08000407165 2 stop getstop 88222 php repli win weekli 2006 fifa world cup held send stop 87239 end servic urgent pleas call 09061743810 landlin abta complimentari 4 tenerif holiday 5000 cash await collect sae cs box 326 cw25wx 150 ppm free tone hope enjoy new content text stop 61610 unsubscrib provid themob yo yo come new select hot download member get free click open next link sent ur fone great news call freefon 08006344447 claim guarante cash gift speak live oper u win music gift voucher everi week start txt word draw 87066 tsc call 09094100151 use ur min call cast mob vari servic provid aom aom box61 m60 1er u stop age urgent mobil bonu caller prize 2nd attempt reach call 09066362220 asap box97n7qp 150ppm eeri nokia tone 4u rpli tone titl 8007 eg tone dracula 8007 titl ghost addamsfa munster exorcist twilight pobox36504w45wq 150p sexi singl wait text age follow gender wither f gay men text age follow freemsg claim ur 250 sm ok 84025 use web2mobil 2 ur mate etc join c box139 la32wu 16 remov txtx stop 85233 free rington repli real well done england get offici poli rington colour flag yer mobil text tone flag 84199 txt eng stop box39822 w111wx final chanc claim ur worth discount voucher today text ye 85023 savamob member offer mobil cs savamob pobox84 m263uz sub 16 sm servic inclus text credit pl goto unsubscrib stop extra charg po box420 ip4 5we winner special select receiv cash award speak live oper claim call cost 10p sunshin hol claim ur med holiday send stamp self address envelop drink us uk po box 113 bray wicklow eir quiz start saturday unsub stop u win music gift voucher everi week start txt word draw 87066 tsc skillgam 1winaweek age16 150ppermesssubscript b4u voucher marsm log onto discount credit opt repli stop custom care call 08717168528 freemsg hey buffi 25 love satisfi men home alon feel randi repli 2 c pix qlynnbv help08700621170150p msg send stop stop txt free 1st week no1 nokia tone 4 ur mob everi week txt nokia 87077 get txting tell ur mate zed pobox 36504 w45wq free camera phone linerent 750 cross ntwk min price txt bundl deal also avbl call 08001950382 mf urgent mobil 07xxxxxxxxx bonu caller prize 2nd attempt reach call 09066362231 asap box97n7qp 150ppm urgent 4 costa del sol holiday await collect call 09050090044 toclaim sae tc pobox334 stockport sk38xh max10min guarante cash prize claim yr prize call custom servic repres 08714712379 cost 10p thank rington order ref number k718 mobil charg tone arriv pleas call custom servic 09065069120 hi ya babe x u 4goten bout scammer get smart though regular vodafon respond get prem rate no use also bewar back 2 work 2morro half term u c 2nite 4 sexi passion b4 2 go back chat 09099726481 luv dena call thank rington order ref number r836 mobil charg tone arriv pleas call custom servic 09065069154 splashmobil choos 1000 gr8 tone wk subscrit servic weekli tone cost 300p u one credit kick back enjoy heard u4 call 4 rude chat privat line 01223585334 cum wan 2c pic gettin shag text pix 8552 2end send stop 8552 sam xxx forward 88877 free entri weekli comp send word enter 88877 18 c 88066 88066 lost 3pound help mobil 11mth updat free orang latest colour camera mobil unlimit weekend call call mobil upd8 freefon 08000839402 2stoptx 1 new messag pleas call 08718738034 forward 21870000 hi mailbox messag sm alert 4 messag 21 match pleas call back 09056242159 retriev messag match mobi pub high street prize u know new duchess cornwal txt first name stop 008704050406 sp arrow nokia 7250i get win free auction take part send nokia 86021 congratul thank good friend u xma prize 2 claim easi call 08718726971 10p per minut tddnewslett game thedailydraw dear helen dozen free game great prizeswith urgent mobil number bonu caller prize 2nd attempt reach call 09066368753 asap box 97n7qp 150ppm doubl min txt orang price linerent motorola sonyericsson free call mobileupd8 08000839402 download mani rington u like restrict 1000 2 choos u even send 2 yr buddi txt sir 80082 pleas call 08712402902 immedi urgent messag wait spook mob halloween collect logo pic messag plu free eeri tone txt card spook 8007 zed 08701417012150p per fantasi footbal back tv go sky gamestar sky activ play dream team score start saturday regist sky opt 88088 tone club sub expir 2 repli monoc 4 mono polyc 4 poli 1 weekli 150p per week txt stop 2 stop msg free stream 0871212025016 xma prize draw tri contact today draw show prize guarante call 09058094565 land line valid 12hr ye place town meet excit adult singl uk txt chat 86688 someon contact date servic enter phone becausethey fanci find call landlin pobox1 w14rg 150p babe u want dont u babi im nasti thing 4 filthyguy fanci rude time sexi bitch go slo n hard txt xxx slo 4msg sm servic inclus text credit pl gotto login 3qxj9 unsubscrib stop extra charg help 08702840625 9ae valentin day special win quiz take partner trip lifetim send go 83600 rcvd guess first time creat web page read wrote wait opinion want friend ur chanc win cash everi wk txt play c custcar 08715705022 sppok ur mob halloween collect nokia logo pic messag plu free eeri tone txt card spook 8007 urgent call 09066612661 landlin complementari 4 tenerif holiday cash await collect sae cs po box 3 wa14 2px 150ppm sender hol offer winner valu network custom hvae select receiv reward collect call valid 24 hour acl03530150pm u nokia 6230 plu free digit camera u get u win free auction take part send nokia 83383 16 free entri weekli comp send word win 80086 18 c text82228 get rington logo game question info freemsg award free mini digit camera repli snap collect prize quizclub opt stop sp rwm messag brought gmw connect congrat 2 mobil 3g videophon r call 09063458130 videochat wid ur mate play java game dload polyph music nolin rentl bx420 ip4 5we 150p next amaz xxx picsfree1 video sent enjoy one vid enough 2day text back keyword picsfree1 get next video u subscrib best mobil content servic uk per ten day send stop helplin 08706091795 3 free tarot text find love life tri 3 free text chanc 85555 16 3 free msg join uk horniest dog servic u sex 2nite sign follow instruct txt entri 69888 150p knock knock txt whose 80082 enter r weekli draw 4 gift voucher 4 store yr choic cs age16 forward 21870000 hi mailbox messag sm alert 40 match pleas call back 09056242159 retriev messag match free ring tone text everi week get new tone 0870737910216yr urgent mobil 077xxx bonu caller prize 2nd attempt reach call 09066362206 asap box97n7qp 150ppm guarante latest nokia phone 40gb ipod mp3 player prize txt word collect 83355 ibhltd ldnw15h hello darl today would love chat dont tell look like sexi 8007 free 1st week no1 nokia tone 4 ur mob everi week txt nokia 8007 get txting tell ur mate pobox 36504 w4 5wq norm wan na get laid 2nite want real dog locat sent direct ur mobil join uk largest dog network txt park 69696 nyt ec2a 3lp tri contact respons offer new nokia fone camcord hit repli call 08000930705 deliveri new tone week includ 1 ab 2 sara 3 order follow instruct next messag urgent tri contact today draw show prize guarante call 09050003091 land line claim c52 valid 12hr sport fan get latest sport news str 2 ur mobil 1 wk free plu free tone txt sport 8007 norm urgent urgent 800 free flight europ give away call b4 10th sept take friend 4 free call claim ba128nnfwfly150ppm 88066 lost help freemsg fanci flirt repli date join uk fastest grow mobil date servic msg rcvd 25p optout txt stop repli date great new offer doubl min doubl txt best orang tariff get latest camera phone 4 free call mobileupd8 free 08000839402 2stoptxt cs hope enjoy new content text stop 61610 unsubscrib provid urgent pleas call 09066612661 landlin cash luxuri 4 canari island holiday await collect cs sae award 20m12aq 150ppm urgent pleas call 09066612661 landlin complimentari 4 lux costa del sol holiday cash await collect ppm 150 sae cs jame 28 eh74rr marri local women look discreet action 5 real match instantli phone text match 69969 msg cost 150p 2 stop txt stop bcmsfwc1n3xx burger king wan na play footi top stadium get 2 burger king 1st sept go larg super walk winner come take littl time child afraid dark becom teenag want stay night ur chanc win cash everi wk txt action c custcar 08712405022 bin award play 4 instant cash call 08715203028 claim everi 9th player win min optout 08718727870 freemsg fav xma tone repli real decemb mobil entitl updat latest colour camera mobil free call mobil updat co free 08002986906 gr8 poli tone 4 mob direct 2u rpli poli titl 8007 eg poli breathe1 titl crazyin sleepingwith finest ymca pobox365o4w45wq 300p interflora åòit late order interflora flower christma call 0800 505060 place order midnight tomorrow romcapspam everyon around respond well presenc sinc warm outgo bring real breath sunshin congratul thank good friend u xma prize 2 claim easi call 08712103738 10p per minut send logo 2 ur lover 2 name join heart txt love name1 name2 mobno eg love adam eve 07123456789 87077 yahoo pobox36504w45wq txtno 4 ad 150p tkt euro2004 cup final cash collect call 09058099801 b4190604 pobox 7876150ppm jamster get crazi frog sound poli text mad1 real text mad2 88888 6 crazi sound 3 c appli chanc realiti fantasi show call 08707509020 20p per min ntt ltd po box 1327 croydon cr9 5wb 0870 nation rate call adult 18 content video shortli chanc realiti fantasi show call 08707509020 20p per min ntt ltd po box 1327 croydon cr9 5wb 0870 nation rate call hey boy want hot xxx pic sent direct 2 ur phone txt porn 69855 24hr free 50p per day stop text stopbcm sf wc1n3xx doubl min 1000 txt orang tariff latest motorola sonyericsson nokia bluetooth free call mobileupd8 08000839402 yhl ur current 500 pound maxim ur send cash 86688 cc 08718720201 po box urgent mobil number award prize guarante call 09058094454 land line claim valid 12hr sorri u unsubscrib yet mob offer packag min term 54 week pl resubmit request expiri repli themob help 4 info 1 new messag pleas call 08712400200 current messag await collect collect messag call 08718723815 urgent mobil award bonu caller prize final attempt 2 contact u call 08714714011 ever notic drive anyon go slower idiot everyon drive faster maniac xma offer latest motorola sonyericsson nokia free bluetooth dvd doubl min 1000 txt orang call mobileupd8 08000839402 repli win weekli profession sport tiger wood play send stop 87239 end servic 1 polyphon tone 4 ur mob everi week txt pt2 87575 1st tone free get txtin tell ur friend 16 repli hl 4info messag free welcom new improv sex dog club unsubscrib servic repli stop msg 150p 12mth half price orang line rental 400min call mobileupd8 08000839402 free unlimit hardcor porn direct 2 mobil txt porn 69200 get free access 24 hr chrgd 50p per day txt stop 2exit msg free unsubscrib servic get ton sexi babe hunk straight phone go http subscript hi babe jordan r u im home abroad lone text back u wan na chat xxsp text stop stopcost 150p 08712400603 get brand new mobil phone agent mob plu load goodi info text mat 87021 lord ring return king store repli lotr 2 june 4 chanc 2 win lotr soundtrack cd stdtxtrate repli stop end txt good luck draw take place 28th feb good luck remov send stop 87239 custom servic 08708034412 1st wk free gr8 tone str8 2 u wk txt nokia 8007 classic nokia tone hit 8007 poli lookatm thank purchas video clip lookatm charg 35p think better send video mmsto 32323 sexi sexi cum text im wet warm readi porn u fun msg free recd msg 150p inc vat 2 cancel text stop 2nd time tri contact u prize claim call 09053750005 b4 sm 08718725756 140ppm dear voucher holder claim week offer pc pleas go http ts cs appli 2nd time tri 2 contact u 750 pound prize 2 claim easi call 08712101358 10p per min ur award citi break could win summer shop spree everi wk txt store urgent tri contact today draw show prize guarante call 09066358361 land line claim y87 valid 12hr thank rington order refer number x29 mobil charg tone arriv pleas call custom servic 09065989180 ur current 500 pound maxim ur send collect 83600 cc 08718720201 po box congratul thank good friend u xma prize 2 claim easi call 08718726978 10p per minut 44 7732584351 want new nokia 3510i colour phone deliveredtomorrow 300 free minut mobil 100 free text free camcord repli call 08000930705 someon u know ask date servic 2 contact cant guess call 09058097189 reveal pobox 6 ls15hb 150p camera award sipix digit camera call 09061221066 fromm landlin deliveri within 28 day today voda number end 5226 select receiv 350 award hava match pleas call 08712300220 quot claim code 1131 standard rate app messag free welcom new improv sex dog club unsubscrib servic repli stop msg 150p 18 rct thnq adrian u text rgd vatian contact date servic someon know find call land line pobox45w2tg150p sorri miss call let talk time 07090201529 complimentari 4 star ibiza holiday cash need urgent collect 09066364349 landlin lose free msg bill mobil number mistak shortcod call 08081263000 charg call free bt landlin pleas call 08712402972 immedi urgent messag wait urgent mobil number award bonu caller prize call 09058095201 land line valid 12hr want new nokia 3510i colour phone deliveredtomorrow 300 free minut mobil 100 free text free camcord repli call 08000930705 life never much fun great came made truli special wo forget enjoy one want new video phone 600 anytim network min 400 inclus video call download 5 per week free deltomorrow call 08002888812 repli valu custom pleas advis follow recent review mob award bonu prize call 09066368470 welcom pleas repli age gender begin 24m freemsg unlimit free call activ smartcal txt call unlimit call help 08448714184 stop txt stop landlineonli mobil 10 mth updat latest orang phone free save free call text ye callback orno opt new 2 club dont fink met yet b gr8 2 c u pleas leav msg 2day wiv ur area 09099726553 repli promis carli x lkpobox177hp51fl camera award sipix digit camera call 09061221066 fromm landlin deliveri within 28 day get free mobil video player free movi collect text go free extra film order c appli 18 yr save money wed lingeri choos superb select nation deliveri brought weddingfriend heard u4 call night knicker make beg like u last time 01223585236 xx luv bloomberg center wait appli futur http want new video phone750 anytim network min 150 text five pound per week call 08000776320 repli deliveri tomorrow contact date servic someon know find call land line pobox45w2tg150p wan2 win westlif 4 u m8 current tour 1 unbreak 2 untam 3 unkempt text 3 cost 50p text dorothi bank granit issu explos pick member 300 nasdaq symbol cdgt per winner guarante caller prize final attempt contact claim call 09071517866 150ppmpobox10183bhamb64x xma new year eve ticket sale club day 10am till 8pm thur fri sat night week sell fast rock yr chik get 100 filthi film xxx pic yr phone rpli filth saristar ltd e14 9yt 08701752560 450p per 5 day stop2 cancel next month get upto 50 call 4 ur standard network charg 2 activ call 9061100010 c 1st4term pobox84 m26 3uz cost min mobcudb urgent tri contact u today draw show prize guarante call 09050000460 land line claim j89 po box245c2150pm text banneduk 89555 see cost 150p textoper g696ga xxx auction round highest bid next maximum bid bid send bid 10 bid good luck collect valentin weekend pari inc flight hotel prize guarante text pari custom loyalti offer new nokia6650 mobil txtauction txt word start 81151 get 4t ctxt tc wo believ true incred txt repli g learn truli amaz thing blow mind o2fwd hot n horni will live local text repli hear strt back 150p per msg netcollex ltdhelpdesk 02085076972 repli stop end want new nokia 3510i colour phone deliv tomorrow 200 free minut mobil 100 free text free camcord repli call 08000930705 congratul winner august prize draw call 09066660100 prize code 2309 8007 25p 4 alfi moon children need song ur mob tell ur m8 txt tone chariti 8007 nokia poli chariti poli zed 08701417012 profit 2 chariti get offici england poli rington colour flag yer mobil tonight game text tone flag optout txt eng stop box39822 w111wx custom servic announc recent tri make deliveri unabl pleas call 07090298926 stop club tone repli see html term club tone cost mfl wamma get laid want real doggin locat sent direct mobil join uk largest dog network txt dog 69696 nyt ec2a 3lp promot number 8714714 ur award citi break could win summer shop spree everi wk txt store 88039 skilgm tscs087147403231winawk age16 winner special select receiv cash award speak live oper claim call cost 10p thank rington order refer number x49 mobil charg tone arriv pleas call custom servic text txtstar hi 2night ur lucki night uve invit 2 xchat uk wildest chat txt chat 86688 ldn 18yr 146tf150p dear voucher holder 2 claim 1st class airport loung pass use holiday voucher call book quot 1st class x 2 someon u know ask date servic 2 contact cant guess call 09058095107 reveal pobox 7 s3xi 150p mila age23 blond new uk look sex uk guy u like fun text mtalk 1st 5free increment help08718728876 claim 200 shop spree call 08717895698 mobstorequiz10ppm want funk ur fone weekli new tone repli tones2u 2 text origin n best tone 3gbp network oper rate appli twink bear scalli skin jock call miss weekend fun call 08712466669 2 stop text call 08712460324 nat rate tri contact repli offer video handset 750 anytim network min unlimit text camcord repli call 08000930705 urgent tri contact last weekend draw show prize guarante call claim code k61 valid 12hour 74355 xma iscom ur award either cd gift voucher free entri 2 r weekli draw txt music 87066 tnc congratul u claim 2 vip row ticket 2 c blu concert novemb blu gift guarante call 09061104276 claim ts cs free msg singl find partner area 1000 real peopl wait chat send chat 62220cncl send stopc per msg win newest åòharri potter order phoenix book 5 repli harri answer 5 question chanc first among reader free msg rington http wml 37819 oh god found number glad text back xafter msg cst std ntwk chg link pictur sent also use http doubl min 1000 txt orang tariff latest motorola sonyericsson nokia bluetooth free call mobileupd8 08000839402 urgent 2nd attempt contact prize yesterday still await collect claim call acl03530150pm dear dave final notic collect 4 tenerif holiday 5000 cash award call 09061743806 landlin tc sae box326 cw25wx 150ppm tell u 2 call 09066358152 claim prize u 2 enter ur mobil person detail prompt care 2004 account 07xxxxxxxxx show 786 unredeem point claim call 08719181259 identifi code xxxxx expir want new video handset 750 anytim network min half price line rental camcord repli call 08000930705 deliveri tomorrow free rington repli real poli eg real1 pushbutton dontcha babygoodby golddigg webeburnin 1st tone free 6 u join free msg get gnarl barkley rington total free repli go messag right refus loan secur unsecur ca get credit call free 0800 195 6669 text back special select receiv award call 08712402050 line close cost 10ppm cs appli ag promo valu vodafon custom comput pick win prize collect easi call 09061743386 free video camera phone half price line rental 12 mth 500 cross ntwk min 100 txt call mobileupd8 08001950382 ringtonek 84484 rington club gr8 new poli direct mobil everi week bank granit issu explos pick member 300 nasdaq symbol cdgt per bore housew chat n date rate landlin tri call repli sm video mobil 750 min unlimit text free camcord repli call 08000930705 del thur 2nd time tri contact u prize 2 claim easi call 087104711148 10p per minut receiv week tripl echo rington shortli enjoy u select stay 1 250 top british hotel noth holiday valu dial 08712300220 claim nation rate call bx526 sw73ss chosen receiv award pl call claim number 09066364311 collect award select receiv valu mobil custom win cash prize prize worth thank rington order refer number mobil charg tone arriv pleas call custom servic 09065989182 mobi pub high street prize u know new duchess cornwal txt first name stop 008704050406 sp week savamob member offer access call 08709501522 detail savamob pobox 139 la3 2wu savamob offer mobil contact date servic someon know find call mobil landlin 09064017305 pobox75ldns7 chase us sinc sept definit pay thank inform ignor kath manchest loan purpos even bad credit tenant welcom call 08717111821 87077 kick new season 2wk free goal news ur mobil txt ur club name 87077 eg villa 87077 orang bring rington time chart hero free hit week go rington pic wap stop receiv tip repli stop privat 2003 account statement 07973788240 show 800 point call 08715203649 identifi code 40533 expir tri call repli sm video mobil 750 min unlimit text free camcord repli call 08000930705 gsoh good spam ladi u could b male gigolo 2 join uk fastest grow men club repli oncal mjzgroup repli stop msg hot live fantasi call 08707500020 20p per min ntt ltd po box 1327 croydon cr9 5wb 0870 nation rate call urgent mobil number award ukp 2000 prize guarante call 09061790125 landlin claim valid 12hr 150ppm spjanuari male sale hot gay chat cheaper call nation rate cheap peak stop text call 08712460324 freemsg today day readi horni live town love sex fun game netcollex ltd 08700621170150p per msg repli stop end simpson movi releas juli 2007 name band die start film day day day send b c pleas call amanda regard renew upgrad current handset free charg offer end today tel 0845 021 3680 subject c want new video phone 750 anytim network min half price line rental free text 3 month repli call 08000930705 free deliveri dear voucher holder claim week offer pc pleas go http ts cs appli urgent pleas call abta complimentari 4 spanish holiday cash await collect sae cs box 47 po19 2ez 150ppm cmon babe make horni turn txt fantasi babe im hot sticki need repli cost 2 cancel send stop import inform 4 orang user 0796xxxxxx today ur lucki day 2 find log onto http fantast prizeawait miss call alert number call left messag 07008009200 freemsg record indic may entitl 3750 pound accid claim free repli ye msg opt text stop show ur colour euro 2004 offer get england flag 3lion tone ur phone click follow servic messag info text pass 69669 collect polyphon rington normal gpr charg appli enjoy tone accordingli repeat text word ok mobil phone send block breaker come delux format new featur great graphic buy repli get bbdelux take challeng import inform 4 orang user today lucki day 2find log onto http fantast surpris await natalja invit friend repli see stop send stop frnd 62468 urgent import inform 02 user today lucki day 2 find log onto http fantast surpris await kit strip bill 150p netcollex po box 1013 ig11 oja pleas call 08712402578 immedi urgent messag wait let send free anonym mask messag im send messag see potenti abus congrat 2 mobil 3g videophon r call 09061744553 videochat wid ur mate play java game dload polyh music nolin rentl bx420 ip4 5we 150pm import inform 4 orang user 0789xxxxxxx today lucki day 2find log onto http fantast surpris await date servic ask 2 contact u someon shi call 09058091870 reveal pobox84 m26 3uz 150p want new video handset 750 time network min unlimit text camcord repli call 08000930705 del sat ur balanc next question complet landmark big bob barri ben text b c good luck ur tonex subscript renew charg choos 10 poli month bill msg prize go anoth custom c polo ltd suit 373 london w1j 6hl pleas call back busi want new nokia 3510i colour phone deliv tomorrow 200 free minut mobil 100 free text free camcord repli call 8000930705 recpt order rington order process one regist subscrib u enter draw 4 100 gift voucher repli enter unsubscrib text stop chanc win free bluetooth headset simpli repli back b floppi b snappi happi gay chat servic photo upload call 08718730666 2 stop text call 08712460324 welcom msg free give free call futur mg bill 150p daili cancel send 89123 receiv mobil content enjoy want explicit sex 30 sec ring 02073162414 cost latest nokia mobil ipod mp3 player proze guarante repli win 83355 norcorp sm servic inclus text credit pl goto 3qxj9 unsubscrib stop extra charg help 9ae mobil club choos top qualiti item mobil 7cfca1a money wine number 946 wot next want cock hubbi away need real man 2 satisfi txt wife 89938 string action txt stop 2 end txt rec otbox 731 la1 7w gr8 new servic live sex video chat mob see sexiest dirtiest girl live ur phone 4 detail text horni 89070 cancel send stop 89070 freemsg hi babi wow got new cam mobi wan na c hot pic fanci chat im w8in 4utxt rpli chat 82242 hlp 08712317606 msg150p 2rcv wan na laugh tri mobil logon txting word chat send 8883 cm po box 4217 london w1a 6zf rcvd 2nd attempt contact u u 09071512432 b4 300603t congratul ur award 500 cd voucher 125gift guarante free entri 2 100 wkli draw txt music 87066 contract mobil 11 mnth latest motorola nokia etc free doubl min text orang tariff text ye callback remov record urgent call 09066350750 landlin complimentari 4 ibiza holiday cash await collect sae cs po box 434 sk3 8wp 150 ppm u secret admir look 2 make contact r reveal think ur freemsg txt call 86888 claim reward 3 hour talk time use phone inc 3hr 16 stop txtstop sunshin quiz win super soni dvd record cannam capit australia text mquiz b today voda number end 7634 select receiv reward match pleas call 08712300220 quot claim code 7684 standard rate appli rip get mobil content call 08717509990 six download 3 tri contact repli offer video phone 750 anytim network min half price line rental camcord repli call 08000930705 xma reward wait comput randomli pick loyal mobil custom receiv reward call 09066380611 privat 2003 account statement show 800 point call 08718738002 identifi code 48922 expir custom servic announc recent tri make deliveri unabl pleas call 07099833605 hi babe chloe r u smash saturday night great weekend u miss sp text stop stop urgent mobil 07808726822 award bonu caller prize 2nd attempt contact call box95qu free game get rayman golf 4 free o2 game arcad 1st get ur game set repli post save activ8 press 0 key arcad termsappli mobil 10 mth updat latest phone free keep ur number get extra free text ye call weekli tone readi download week new tone includ 1 crazi f 2 3 black p info n get lot cash weekend dear welcom weekend got biggest best ever cash give away thank 4 continu support question week enter u in2 draw 4 cash name new us presid txt an 80082 uniqu user id remov send stop 87239 custom servic 08708034412 urgent 09066649731from landlin complimentari 4 ibiza holiday cash await collect sae cs po box 434 sk3 8wp 150ppm urgent 2nd attempt contact prize yesterday still await collect claim call 09061702893 santa call would littl one like call santa xma eve call 09077818151 book time last 3min 30 c privat 2004 account statement 078498 7 show 786 unredeem bonu point claim call 08719180219 identifi code 45239 expir check choos babe video fgkslpopw fgkslpo u r winner u ave special select 2 receiv cash 4 holiday flight inc speak live oper 2 claim 18 new mobil 2004 must go txt nokia 89545 collect today 2optout txtauction privat 2003 account statement show 800 point call 08715203652 identifi code 42810 expir valu vodafon custom comput pick win prize collect easi call 09061743386 free messag thank use auction subscript servic 18 2 skip auction txt 2 unsubscrib txt stop customercar 08718726270 lyricalladi invit friend repli see stop send stop frnd 62468 want latest video handset 750 anytim network min half price line rental repli call 08000930705 deliveri tomorrow ou guarante latest nokia phone 40gb ipod mp3 player prize txt word collect 83355 ibhltd ldnw15h free polyphon rington text super 87131 get free poli tone week 16 sn pobox202 nr31 7z subscript 450pw warner villag 83118 c colin farrel swat wkend warner villag get 1 free med popcorn show c c kiosk repli soni 4 mre film offer goal arsen 4 henri 7 v liverpool 2 henri score simpl shot 6 yard pass bergkamp give arsen 2 goal margin 78 min hi sexychat girl wait text text great night chat send stop stop servic hi ami send free phone number coupl day give access adult parti welcom select o2 servic ad benefit call special train advisor free mobil diall 402 dear voucher holder next meal us use follow link pc 2 enjoy 2 4 1 dine experiencehttp urgent tri contact today draw show prize guarante call 09058094507 land line claim valid 12hr donat unicef asian tsunami disast support fund text donat ad next bill goldvik invit friend repli see stop send stop frnd 62468 phoni award today voda number end xxxx select receiv award match pleas call 08712300220 quot claim code 3100 standard rate app cd 4u congratul ur award cd gift voucher gift guarante freeentri 2 wkli draw xt music 87066 tnc guarante cash prize claim yr prize call custom servic repres 08714712412 cost 10p dear 0776xxxxxxx u invit xchat final attempt contact u txt chat 86688 ldn 18yr ur current 500 pound maxim ur send go 86688 cc 08718720201 privat 2003 account statement show 800 point call 08715203685 identifi expir like tell deepest darkest fantasi call 09094646631 stop text call 08712460324 nat rate natali invit friend repli see stop send stop frnd 62468 jamster get free wallpap text heart 88888 c appli 16 need help call 08701213186 free video camera phone half price line rental 12 mth 500 cross ntwk min 100 txt call mobileupd8 08001950382 83039 uk break accommodationvouch term condit appli 2 claim mustprovid claim number 15541 5p 4 alfi moon children need song ur mob tell ur m8 txt tone chariti 8007 nokia poli chariti poli zed 08701417012 profit 2 chariti win shop spree everi week start 2 play text store skilgm tscs08714740323 1winawk age16 2nd attempt contract u week top prize either cash prize call 09066361921 want new nokia 3510i colour phone deliveredtomorrow 300 free minut mobil 100 free text free camcord repli call 08000930705 themob hit link get premium pink panther game new 1 sugabab crazi zebra anim badass hoodi 4 free msg mobil content order resent previou attempt fail due network error queri customersqueri 1 new messag pleas call 08715205273 decemb mobil entitl updat latest colour camera mobil free call mobil updat vco free 08002986906 get 3 lion england tone repli lionm 4 mono lionp 4 poli 4 go 2 origin n best tone 3gbp network oper rate appli privat 2003 account statement 078 4 costa del sol holiday await collect call 09050090044 toclaim sae tc pobox334 stockport sk38xh max10min get garden readi summer free select summer bulb seed worth scotsman saturday stop go2 sm auction brand new nokia 7250 4 auction today auction free 2 join take part txt nokia 86021 ree entri 2 weekli comp chanc win ipod txt pod 80182 get entri std txt rate c appli 08452810073 detail record indic u mayb entitl 5000 pound compens accid claim 4 free repli claim msg 2 stop txt stop spook mob halloween collect logo pic messag plu free eeri tone txt card spook 8007 zed 08701417012150p per call germani 1 penc per minut call fix line via access number 0844 861 85 prepay direct access mobil 11mth updat free orang latest colour camera mobil unlimit weekend call call mobil upd8 freefon 08000839402 2stoptxt privat 2003 account statement fone show 800 point call 08715203656 identifi code 42049 expir someonon know tri contact via date servic find could call mobil landlin 09064015307 box334sk38ch urgent pleas call 09061213237 landlin cash 4 holiday await collect cs sae po box 177 m227xi prize go anoth custom c polo ltd suit 373 london w1j 6hl pleas call back busi urgent mobil number award prize guarante call 09061790126 land line claim valid 12hr 150ppm urgent pleas call 09061213237 landlin cash luxuri 4 canari island holiday await collect cs sae po box m227xi 150ppm xma iscom ur award either cd gift voucher free entri 2 r weekli draw txt music 87066 tnc u r subscrib 2 textcomp 250 wkli comp 1st wk free question follow subsequ wk charg unsubscrib txt stop 2 84128 custcar 08712405020 call 09095350301 send girl erot ecstaci stop text call 08712460324 nat rate xma reward wait comput randomli pick loyal mobil custom receiv reward call 09066380611 import messag final contact attempt import messag wait custom claim dept expir call 08717507382 date two start sent text talk sport radio last week connect think coincid current lead bid paus auction send custom care 08718726270 free entri gr8prize wkli comp 4 chanc win latest nokia 8800 psp cash everi great 80878 08715705022 1 new messag call santa call would littl one like call santa xma eve call 09058094583 book time guarante 32000 award mayb even cash claim ur award call free 0800 legitimat efreefon number wat u think latest news polic station toilet stolen cop noth go sparkl shop break 45 per person call 0121 2025050 visit txt call 86888 claim reward 3 hour talk time use phone inc 3hr 16 stop txtstop wml c ringtoneåá urgent last weekend draw show cash spanish holiday call 09050000332 claim c rstm sw7 3ss 150ppm urgent tri contact last weekend draw show u prize guarante call 09064017295 claim code k52 valid 12hr 150p pm 2p per min call germani 08448350055 bt line 2p per min check info c text stop opt marvel mobil play offici ultim game ur mobil right text spider 83338 game send u free 8ball wallpap privat 2003 account statement 07808247860 show 800 point call 08719899229 identifi code 40411 expir privat 2003 account statement show 800 point call 08718738001 identifi code 49557 expir want explicit sex 30 sec ring 02073162414 cost gsex pobox 2667 wc1n 3xx ask 3mobil 0870 chatlin inclu free min india cust serv sed ye l8er got mega bill 3 dont giv shit bailiff due day 3 want contract mobil 11 mnth latest motorola nokia etc free doubl min text orang tariff text ye callback remov record remind o2 get pound free call credit detail great offer pl repli 2 text valid name hous postcod 2nd time tri 2 contact u pound prize 2 claim easi call 087187272008 now1 10p per minut'"
      ]
     },
     "execution_count": 52,
     "metadata": {},
     "output_type": "execute_result"
    }
   ],
   "source": [
    "# Concatenating all the rows data\n",
    "\n",
    "df[df['target'] == 1]['transformed_text'].str.cat(sep=\" \")"
   ]
  },
  {
   "cell_type": "code",
   "execution_count": 53,
   "id": "4f602a56",
   "metadata": {},
   "outputs": [],
   "source": [
    "spam_wc = wc.generate(df[df['target'] == 1]['transformed_text'].str.cat(sep=\" \"))"
   ]
  },
  {
   "cell_type": "code",
   "execution_count": 54,
   "id": "7985cef3",
   "metadata": {},
   "outputs": [
    {
     "data": {
      "text/plain": [
       "<matplotlib.image.AxesImage at 0x1274bfea6b0>"
      ]
     },
     "execution_count": 54,
     "metadata": {},
     "output_type": "execute_result"
    },
    {
     "data": {
      "image/png": "[encoded data removed]",
      "text/plain": [
       "<Figure size 640x480 with 1 Axes>"
      ]
     },
     "metadata": {},
     "output_type": "display_data"
    }
   ],
   "source": [
    "plt.imshow(spam_wc)"
   ]
  },
  {
   "cell_type": "markdown",
   "id": "680c9e8e",
   "metadata": {},
   "source": [
    "#### ham Word cloud"
   ]
  },
  {
   "cell_type": "code",
   "execution_count": 55,
   "id": "3bfea9a8",
   "metadata": {},
   "outputs": [],
   "source": [
    "ham_wc = wc.generate(df[df['target'] == 0]['transformed_text'].str.cat(sep=\" \"))"
   ]
  },
  {
   "cell_type": "code",
   "execution_count": 56,
   "id": "dda5f5ec",
   "metadata": {},
   "outputs": [
    {
     "data": {
      "text/plain": [
       "<matplotlib.image.AxesImage at 0x1274c062680>"
      ]
     },
     "execution_count": 56,
     "metadata": {},
     "output_type": "execute_result"
    },
    {
     "data": {
      "image/png": "[encoded data removed]",
      "text/plain": [
       "<Figure size 640x480 with 1 Axes>"
      ]
     },
     "metadata": {},
     "output_type": "display_data"
    }
   ],
   "source": [
    "plt.imshow(ham_wc)"
   ]
  },
  {
   "cell_type": "markdown",
   "id": "a9c4ac0a",
   "metadata": {},
   "source": [
    "#### Top 30 frequent words used in 'ham' & 'spam'"
   ]
  },
  {
   "cell_type": "code",
   "execution_count": 57,
   "id": "af474405",
   "metadata": {},
   "outputs": [],
   "source": [
    "# Spam 30 words\n",
    "\n",
    "spam_corpus = []\n",
    "for msg in df[df['target'] == 1]['transformed_text'].tolist():\n",
    "    for word in msg.split():\n",
    "        spam_corpus.append(word)"
   ]
  },
  {
   "cell_type": "code",
   "execution_count": 58,
   "id": "44610569",
   "metadata": {},
   "outputs": [
    {
     "data": {
      "text/plain": [
       "9939"
      ]
     },
     "execution_count": 58,
     "metadata": {},
     "output_type": "execute_result"
    }
   ],
   "source": [
    "len(spam_corpus)"
   ]
  },
  {
   "cell_type": "code",
   "execution_count": 59,
   "id": "17abb6da",
   "metadata": {},
   "outputs": [
    {
     "data": {
      "text/plain": [
       "Counter({'free': 191,\n",
       "         'entri': 21,\n",
       "         '2': 155,\n",
       "         'wkli': 9,\n",
       "         'comp': 8,\n",
       "         'win': 48,\n",
       "         'fa': 2,\n",
       "         'cup': 3,\n",
       "         'final': 14,\n",
       "         'tkt': 2,\n",
       "         '21st': 1,\n",
       "         'may': 6,\n",
       "         'text': 122,\n",
       "         '87121': 2,\n",
       "         'receiv': 31,\n",
       "         'question': 9,\n",
       "         'std': 6,\n",
       "         'txt': 141,\n",
       "         'rate': 26,\n",
       "         'c': 45,\n",
       "         'appli': 24,\n",
       "         '08452810075over18': 1,\n",
       "         'freemsg': 14,\n",
       "         'hey': 5,\n",
       "         'darl': 2,\n",
       "         '3': 20,\n",
       "         'week': 49,\n",
       "         'word': 21,\n",
       "         'back': 20,\n",
       "         'like': 12,\n",
       "         'fun': 8,\n",
       "         'still': 5,\n",
       "         'tb': 1,\n",
       "         'ok': 5,\n",
       "         'xxx': 10,\n",
       "         'chg': 2,\n",
       "         'send': 60,\n",
       "         'rcv': 2,\n",
       "         'winner': 13,\n",
       "         'valu': 8,\n",
       "         'network': 26,\n",
       "         'custom': 42,\n",
       "         'select': 26,\n",
       "         'receivea': 1,\n",
       "         'prize': 82,\n",
       "         'reward': 9,\n",
       "         'claim': 98,\n",
       "         'call': 320,\n",
       "         'code': 27,\n",
       "         'kl341': 1,\n",
       "         'valid': 21,\n",
       "         '12': 3,\n",
       "         'hour': 4,\n",
       "         'mobil': 114,\n",
       "         '11': 3,\n",
       "         'month': 5,\n",
       "         'u': 119,\n",
       "         'r': 24,\n",
       "         'entitl': 6,\n",
       "         'updat': 14,\n",
       "         'latest': 30,\n",
       "         'colour': 14,\n",
       "         'camera': 23,\n",
       "         'co': 3,\n",
       "         '08002986030': 1,\n",
       "         'six': 2,\n",
       "         'chanc': 22,\n",
       "         'cash': 51,\n",
       "         '100': 14,\n",
       "         'pound': 19,\n",
       "         'csh11': 1,\n",
       "         'cost': 24,\n",
       "         '6day': 1,\n",
       "         'tsandc': 1,\n",
       "         'repli': 103,\n",
       "         'hl': 3,\n",
       "         '4': 97,\n",
       "         'info': 11,\n",
       "         'urgent': 57,\n",
       "         '1': 28,\n",
       "         'membership': 1,\n",
       "         'jackpot': 1,\n",
       "         '81010': 1,\n",
       "         'lccltd': 1,\n",
       "         'pobox': 11,\n",
       "         '4403ldnw1a7rw18': 1,\n",
       "         'xxxmobilemovieclub': 1,\n",
       "         'use': 12,\n",
       "         'credit': 18,\n",
       "         'click': 5,\n",
       "         'wap': 9,\n",
       "         'link': 6,\n",
       "         'next': 16,\n",
       "         'messag': 42,\n",
       "         'http': 18,\n",
       "         'england': 7,\n",
       "         'v': 4,\n",
       "         'macedonia': 1,\n",
       "         'dont': 9,\n",
       "         'miss': 8,\n",
       "         'news': 8,\n",
       "         'ur': 119,\n",
       "         'nation': 11,\n",
       "         'team': 2,\n",
       "         '87077': 8,\n",
       "         'eg': 11,\n",
       "         'tri': 37,\n",
       "         'wale': 1,\n",
       "         'scotland': 1,\n",
       "         'poboxox36504w45wq': 1,\n",
       "         'thank': 16,\n",
       "         'subscript': 5,\n",
       "         'rington': 30,\n",
       "         'uk': 20,\n",
       "         'charg': 22,\n",
       "         'pleas': 51,\n",
       "         'confirm': 1,\n",
       "         'ye': 12,\n",
       "         '07732584351': 1,\n",
       "         'rodger': 1,\n",
       "         'burn': 1,\n",
       "         'msg': 35,\n",
       "         'sm': 22,\n",
       "         'nokia': 57,\n",
       "         'camcord': 15,\n",
       "         '08000930705': 16,\n",
       "         'deliveri': 18,\n",
       "         'tomorrow': 10,\n",
       "         'ac': 4,\n",
       "         'sptv': 2,\n",
       "         'new': 64,\n",
       "         'jersey': 1,\n",
       "         'devil': 1,\n",
       "         'detroit': 1,\n",
       "         'red': 1,\n",
       "         'wing': 1,\n",
       "         'play': 14,\n",
       "         'ice': 1,\n",
       "         'hockey': 1,\n",
       "         'correct': 4,\n",
       "         'incorrect': 1,\n",
       "         'end': 24,\n",
       "         'congrat': 6,\n",
       "         'year': 9,\n",
       "         'special': 16,\n",
       "         'cinema': 2,\n",
       "         'pass': 5,\n",
       "         '09061209465': 2,\n",
       "         'suprman': 2,\n",
       "         'matrix3': 2,\n",
       "         'starwars3': 2,\n",
       "         'etc': 6,\n",
       "         '150pm': 4,\n",
       "         'advis': 2,\n",
       "         'follow': 10,\n",
       "         'recent': 4,\n",
       "         'review': 3,\n",
       "         'mob': 20,\n",
       "         'award': 55,\n",
       "         'bonu': 17,\n",
       "         '09066364589': 1,\n",
       "         'complimentari': 11,\n",
       "         'trip': 3,\n",
       "         'eurodisinc': 1,\n",
       "         'trav': 1,\n",
       "         'aco': 1,\n",
       "         'entry41': 1,\n",
       "         'di': 1,\n",
       "         'morefrmmob': 1,\n",
       "         'shracomorsglsuplt': 1,\n",
       "         '10': 7,\n",
       "         'ls1': 1,\n",
       "         '3aj': 1,\n",
       "         'hear': 3,\n",
       "         'come': 5,\n",
       "         'ken': 1,\n",
       "         'stuff': 1,\n",
       "         'servic': 64,\n",
       "         'repres': 6,\n",
       "         '0800': 9,\n",
       "         '169': 1,\n",
       "         '6031': 1,\n",
       "         'guarante': 42,\n",
       "         'wait': 17,\n",
       "         'collect': 45,\n",
       "         'simpli': 2,\n",
       "         'password': 2,\n",
       "         '85069': 1,\n",
       "         'verifi': 2,\n",
       "         'get': 74,\n",
       "         'usher': 1,\n",
       "         'britney': 1,\n",
       "         'fml': 1,\n",
       "         'gent': 2,\n",
       "         'contact': 56,\n",
       "         'last': 12,\n",
       "         'weekend': 13,\n",
       "         'draw': 35,\n",
       "         'show': 33,\n",
       "         'k52': 3,\n",
       "         '12hr': 16,\n",
       "         '150ppm': 29,\n",
       "         'holiday': 27,\n",
       "         'flight': 6,\n",
       "         'inc': 7,\n",
       "         'speak': 7,\n",
       "         'live': 22,\n",
       "         'oper': 11,\n",
       "         'privat': 16,\n",
       "         '2004': 7,\n",
       "         'account': 18,\n",
       "         'statement': 15,\n",
       "         '07742676969': 1,\n",
       "         '786': 3,\n",
       "         'unredeem': 3,\n",
       "         'point': 15,\n",
       "         '08719180248': 1,\n",
       "         'identifi': 15,\n",
       "         '45239': 2,\n",
       "         'expir': 17,\n",
       "         'caller': 12,\n",
       "         'landlin': 30,\n",
       "         '09064019788': 1,\n",
       "         'box42wr29c': 1,\n",
       "         'today': 33,\n",
       "         'voda': 5,\n",
       "         'number': 35,\n",
       "         '7548': 1,\n",
       "         '350': 2,\n",
       "         'match': 14,\n",
       "         '08712300220': 6,\n",
       "         'quot': 6,\n",
       "         '4041': 1,\n",
       "         'standard': 6,\n",
       "         'app': 4,\n",
       "         'sunshin': 5,\n",
       "         'quiz': 9,\n",
       "         'q': 2,\n",
       "         'top': 14,\n",
       "         'soni': 5,\n",
       "         'dvd': 5,\n",
       "         'player': 10,\n",
       "         'know': 19,\n",
       "         'countri': 2,\n",
       "         'algarv': 1,\n",
       "         'ansr': 2,\n",
       "         'sp': 6,\n",
       "         'tyron': 2,\n",
       "         'want': 31,\n",
       "         'laid': 4,\n",
       "         'tonight': 3,\n",
       "         'real': 12,\n",
       "         'dog': 12,\n",
       "         'locat': 5,\n",
       "         'sent': 10,\n",
       "         'direct': 10,\n",
       "         'join': 18,\n",
       "         'largest': 4,\n",
       "         'bt': 5,\n",
       "         'txting': 7,\n",
       "         'gravel': 1,\n",
       "         '69888': 2,\n",
       "         'nt': 1,\n",
       "         'ec2a': 4,\n",
       "         '150p': 26,\n",
       "         'chat': 38,\n",
       "         'svc': 1,\n",
       "         'hardcor': 2,\n",
       "         'go': 32,\n",
       "         '69988': 1,\n",
       "         'noth': 4,\n",
       "         'must': 5,\n",
       "         'age': 9,\n",
       "         'yr': 14,\n",
       "         'randi': 2,\n",
       "         'sexi': 14,\n",
       "         'femal': 1,\n",
       "         'local': 5,\n",
       "         'luv': 5,\n",
       "         'netcollex': 4,\n",
       "         'ltd': 11,\n",
       "         '08700621170150p': 2,\n",
       "         'per': 41,\n",
       "         'stop': 104,\n",
       "         'annonc': 1,\n",
       "         '07046744435': 1,\n",
       "         'arrang': 2,\n",
       "         '0871277810810': 1,\n",
       "         'bootydeli': 1,\n",
       "         'invit': 10,\n",
       "         'friend': 13,\n",
       "         'see': 16,\n",
       "         'frnd': 5,\n",
       "         '62468': 5,\n",
       "         'bangbab': 1,\n",
       "         'order': 17,\n",
       "         'way': 1,\n",
       "         'download': 7,\n",
       "         'content': 14,\n",
       "         'goto': 5,\n",
       "         'bangb': 1,\n",
       "         'tv': 3,\n",
       "         'menu': 1,\n",
       "         's89': 1,\n",
       "         'freephon': 4,\n",
       "         '0808': 1,\n",
       "         '145': 1,\n",
       "         '4742': 1,\n",
       "         'uniqu': 2,\n",
       "         'enough': 2,\n",
       "         'find': 21,\n",
       "         '30th': 1,\n",
       "         'august': 2,\n",
       "         '500': 19,\n",
       "         '89545': 3,\n",
       "         '2optout': 4,\n",
       "         'meet': 5,\n",
       "         'dream': 2,\n",
       "         'partner': 5,\n",
       "         'soon': 2,\n",
       "         'career': 1,\n",
       "         'flyng': 1,\n",
       "         'start': 12,\n",
       "         'horo': 2,\n",
       "         'star': 3,\n",
       "         'sign': 2,\n",
       "         'ari': 1,\n",
       "         'someon': 13,\n",
       "         'date': 26,\n",
       "         'even': 7,\n",
       "         'flirt': 5,\n",
       "         '10p': 13,\n",
       "         'name': 15,\n",
       "         'sam': 2,\n",
       "         '25': 3,\n",
       "         '18': 20,\n",
       "         'recd': 3,\n",
       "         'thirtyeight': 1,\n",
       "         'penc': 3,\n",
       "         '447801259231': 1,\n",
       "         'secret': 7,\n",
       "         'admir': 7,\n",
       "         'look': 9,\n",
       "         'make': 11,\n",
       "         'reveal': 12,\n",
       "         'think': 11,\n",
       "         '09058094597': 1,\n",
       "         'congratul': 12,\n",
       "         'cd': 11,\n",
       "         'voucher': 28,\n",
       "         '125gift': 2,\n",
       "         'music': 15,\n",
       "         '87066': 10,\n",
       "         'tnc': 7,\n",
       "         'offer': 33,\n",
       "         'video': 29,\n",
       "         'handset': 6,\n",
       "         '750': 17,\n",
       "         'anytim': 12,\n",
       "         'min': 45,\n",
       "         'unlimit': 10,\n",
       "         'realli': 1,\n",
       "         'horni': 7,\n",
       "         'nake': 1,\n",
       "         'hot': 13,\n",
       "         '69698': 2,\n",
       "         'unsubscrib': 17,\n",
       "         'chang': 1,\n",
       "         'choos': 9,\n",
       "         'club': 19,\n",
       "         '87070': 1,\n",
       "         'club4': 1,\n",
       "         'po': 24,\n",
       "         'box1146': 1,\n",
       "         'mk45': 1,\n",
       "         '2wt': 1,\n",
       "         'singl': 5,\n",
       "         'chart': 3,\n",
       "         'qualiti': 2,\n",
       "         'hmv': 4,\n",
       "         'genuin': 1,\n",
       "         'answer': 6,\n",
       "         'easi': 10,\n",
       "         '86688': 14,\n",
       "         'phone': 52,\n",
       "         'upgrad': 4,\n",
       "         'pay': 2,\n",
       "         'sim': 2,\n",
       "         'card': 4,\n",
       "         'loyalti': 6,\n",
       "         '0845': 3,\n",
       "         '021': 2,\n",
       "         'blind': 2,\n",
       "         '4u': 4,\n",
       "         'rodds1': 1,\n",
       "         'aberdeen': 1,\n",
       "         'unit': 1,\n",
       "         'kingdom': 1,\n",
       "         'check': 4,\n",
       "         'hide': 1,\n",
       "         'themob': 5,\n",
       "         'newest': 3,\n",
       "         'game': 20,\n",
       "         'tone': 63,\n",
       "         'gossip': 1,\n",
       "         'babe': 10,\n",
       "         'sport': 7,\n",
       "         'keep': 5,\n",
       "         'fit': 1,\n",
       "         'funki': 1,\n",
       "         '82468': 2,\n",
       "         'smart': 2,\n",
       "         'weekli': 20,\n",
       "         '85222': 1,\n",
       "         'cs': 35,\n",
       "         'winnersclub': 1,\n",
       "         'box': 26,\n",
       "         '84': 1,\n",
       "         'm26': 3,\n",
       "         '3uz': 3,\n",
       "         'decemb': 4,\n",
       "         '08002986906': 3,\n",
       "         'germani': 3,\n",
       "         'minut': 12,\n",
       "         'fix': 2,\n",
       "         'line': 33,\n",
       "         'via': 3,\n",
       "         'access': 8,\n",
       "         '0844': 2,\n",
       "         '861': 2,\n",
       "         '85': 2,\n",
       "         'prepay': 2,\n",
       "         'valentin': 3,\n",
       "         'day': 26,\n",
       "         'take': 16,\n",
       "         'lifetim': 2,\n",
       "         '83600': 3,\n",
       "         'rcvd': 5,\n",
       "         'fanci': 12,\n",
       "         'shag': 2,\n",
       "         'xxuk': 1,\n",
       "         'suzi': 1,\n",
       "         'websit': 1,\n",
       "         'x': 8,\n",
       "         'current': 11,\n",
       "         'maxim': 7,\n",
       "         'cc': 6,\n",
       "         '08708800282': 1,\n",
       "         'xma': 15,\n",
       "         'motorola': 10,\n",
       "         'sonyericsson': 5,\n",
       "         'bluetooth': 7,\n",
       "         'doubl': 13,\n",
       "         '1000': 9,\n",
       "         'orang': 24,\n",
       "         'mobileupd8': 13,\n",
       "         '08000839402': 12,\n",
       "         'discount': 6,\n",
       "         'rp176781': 1,\n",
       "         '08717205546': 1,\n",
       "         'refer': 4,\n",
       "         't91': 1,\n",
       "         'gbp': 1,\n",
       "         '09057039994': 1,\n",
       "         '6month': 1,\n",
       "         'avail': 2,\n",
       "         '4mth': 2,\n",
       "         'half': 12,\n",
       "         'price': 15,\n",
       "         'rental': 11,\n",
       "         '11mth': 3,\n",
       "         'mobilesdirect': 2,\n",
       "         '08000938767': 2,\n",
       "         'or2stoptxt': 2,\n",
       "         'first': 6,\n",
       "         '87131': 3,\n",
       "         'poli': 22,\n",
       "         'true': 2,\n",
       "         'help': 12,\n",
       "         '2814032': 1,\n",
       "         '16': 18,\n",
       "         '1st': 19,\n",
       "         'cal': 1,\n",
       "         'l': 1,\n",
       "         '09064012103': 1,\n",
       "         'box334sk38ch': 2,\n",
       "         'competit': 2,\n",
       "         '80086': 2,\n",
       "         'logo': 6,\n",
       "         'lover': 2,\n",
       "         'heart': 3,\n",
       "         'love': 10,\n",
       "         'name1': 2,\n",
       "         'name2': 2,\n",
       "         'mobno': 2,\n",
       "         'adam': 2,\n",
       "         'eve': 5,\n",
       "         '07123456789': 2,\n",
       "         'yahoo': 2,\n",
       "         'pobox36504w45wq': 5,\n",
       "         'txtno': 2,\n",
       "         'ad': 4,\n",
       "         'enter': 15,\n",
       "         '09111032124': 1,\n",
       "         'pobox12n146tf150p': 1,\n",
       "         '09058094455': 1,\n",
       "         'land': 16,\n",
       "         '3650': 1,\n",
       "         '09066382422': 1,\n",
       "         'ave': 2,\n",
       "         '3min': 3,\n",
       "         'vari': 4,\n",
       "         'close': 3,\n",
       "         '300603': 1,\n",
       "         'post': 4,\n",
       "         'bcm4284': 1,\n",
       "         'ldn': 7,\n",
       "         'wc1n3xx': 3,\n",
       "         'loan': 3,\n",
       "         'purpos': 2,\n",
       "         'homeown': 1,\n",
       "         'tenant': 2,\n",
       "         'welcom': 8,\n",
       "         'previous': 1,\n",
       "         'refus': 2,\n",
       "         '1956669': 1,\n",
       "         'upgrdcentr': 1,\n",
       "         '0207': 2,\n",
       "         '153': 2,\n",
       "         '26th': 1,\n",
       "         'juli': 2,\n",
       "         'okmail': 1,\n",
       "         'dear': 16,\n",
       "         'dave': 2,\n",
       "         'notic': 3,\n",
       "         'tenerif': 7,\n",
       "         '5000': 4,\n",
       "         '09061743806': 2,\n",
       "         'tc': 7,\n",
       "         'sae': 18,\n",
       "         'box326': 2,\n",
       "         'cw25wx': 4,\n",
       "         'moan': 1,\n",
       "         '69888nyt': 1,\n",
       "         'activ': 5,\n",
       "         'term': 8,\n",
       "         'condit': 4,\n",
       "         'visit': 5,\n",
       "         '09050002311': 1,\n",
       "         'b4280703': 1,\n",
       "         '40gb': 6,\n",
       "         'ipod': 10,\n",
       "         'mp3': 5,\n",
       "         '83355': 4,\n",
       "         'ibhltd': 3,\n",
       "         'ldnw15h': 3,\n",
       "         'boltblu': 1,\n",
       "         'mono': 4,\n",
       "         'poly3': 1,\n",
       "         'cha': 2,\n",
       "         'slide': 1,\n",
       "         'yeah': 1,\n",
       "         'slow': 1,\n",
       "         'jamz': 1,\n",
       "         'toxic': 1,\n",
       "         'renew': 3,\n",
       "         'pin': 1,\n",
       "         'tgxxrz': 1,\n",
       "         '2nd': 19,\n",
       "         'attempt': 22,\n",
       "         'box95qu': 3,\n",
       "         'worth': 8,\n",
       "         '85023': 4,\n",
       "         'savamob': 8,\n",
       "         'member': 6,\n",
       "         'sub': 5,\n",
       "         'unsub': 3,\n",
       "         'reciev': 1,\n",
       "         'within': 4,\n",
       "         '24hr': 2,\n",
       "         'channel': 1,\n",
       "         'teletext': 1,\n",
       "         'pg': 1,\n",
       "         '2003': 13,\n",
       "         '07815296484': 1,\n",
       "         '800': 13,\n",
       "         '08718738001': 2,\n",
       "         '41782': 1,\n",
       "         'monthlysubscript': 1,\n",
       "         'csc': 1,\n",
       "         'web': 2,\n",
       "         'age16': 6,\n",
       "         '2stop': 1,\n",
       "         'call09050000327': 2,\n",
       "         'us': 7,\n",
       "         'ring': 5,\n",
       "         '09050005321': 1,\n",
       "         '150': 9,\n",
       "         'textand': 1,\n",
       "         '08002988890': 1,\n",
       "         'shop': 10,\n",
       "         'spree': 6,\n",
       "         'custcar': 7,\n",
       "         '08715705022': 3,\n",
       "         '2000': 2,\n",
       "         '08712402050': 2,\n",
       "         '10ppm': 2,\n",
       "         'ag': 2,\n",
       "         'promo': 2,\n",
       "         '07753741225': 1,\n",
       "         '08715203677': 1,\n",
       "         '42478': 1,\n",
       "         'import': 11,\n",
       "         'announc': 5,\n",
       "         '542': 3,\n",
       "         '0825': 1,\n",
       "         'xclusiv': 1,\n",
       "         'clubsaisai': 1,\n",
       "         '2morow': 1,\n",
       "         'soire': 1,\n",
       "         'zouk': 1,\n",
       "         'nichol': 1,\n",
       "         'rose': 1,\n",
       "         'ladi': 3,\n",
       "         '22': 1,\n",
       "         'kick': 3,\n",
       "         'euro2004': 3,\n",
       "         'kept': 2,\n",
       "         'result': 2,\n",
       "         'daili': 3,\n",
       "         'remov': 7,\n",
       "         '83222': 2,\n",
       "         'textbuddi': 2,\n",
       "         'guy': 5,\n",
       "         'area': 8,\n",
       "         '25p': 7,\n",
       "         'search': 2,\n",
       "         'postcod': 3,\n",
       "         'one': 10,\n",
       "         '89693': 2,\n",
       "         'vodafon': 5,\n",
       "         '4882': 1,\n",
       "         '09064019014': 1,\n",
       "         'holder': 6,\n",
       "         'pc': 6,\n",
       "         'ts': 9,\n",
       "         '80062': 5,\n",
       "         '08715203694': 1,\n",
       "         '40533': 2,\n",
       "         'rstm': 2,\n",
       "         'sw7': 2,\n",
       "         '3ss': 2,\n",
       "         '88800': 1,\n",
       "         '89034': 1,\n",
       "         'premium': 2,\n",
       "         '08718711108': 1,\n",
       "         'sun0819': 1,\n",
       "         'hello': 4,\n",
       "         'seem': 1,\n",
       "         'cool': 1,\n",
       "         'gr8': 7,\n",
       "         '20': 3,\n",
       "         'everi': 26,\n",
       "         'wk': 17,\n",
       "         'opt': 10,\n",
       "         '08452810071': 1,\n",
       "         'hi': 15,\n",
       "         'sue': 2,\n",
       "         'old': 2,\n",
       "         'work': 3,\n",
       "         'lapdanc': 1,\n",
       "         'sex': 10,\n",
       "         'bedroom': 1,\n",
       "         'textoper': 3,\n",
       "         'g2': 1,\n",
       "         '1da': 1,\n",
       "         '150ppmsg': 1,\n",
       "         'forward': 4,\n",
       "         '448712404000': 1,\n",
       "         '08712404000': 1,\n",
       "         'immedi': 5,\n",
       "         'fantast': 7,\n",
       "         'deck': 1,\n",
       "         'alert': 5,\n",
       "         '08714712388': 1,\n",
       "         '09071512433': 2,\n",
       "         'b4': 6,\n",
       "         '050703': 2,\n",
       "         'csbcm4235wc1n3xx': 2,\n",
       "         'callcost': 2,\n",
       "         'mobilesvari': 2,\n",
       "         '50': 3,\n",
       "         '08714712394': 1,\n",
       "         'email': 2,\n",
       "         'alertfrom': 1,\n",
       "         'jeri': 1,\n",
       "         'stewarts': 1,\n",
       "         '2kbsubject': 1,\n",
       "         'prescripiton': 1,\n",
       "         'drvgsto': 1,\n",
       "         'listen': 3,\n",
       "         '123': 1,\n",
       "         'nokia6650': 2,\n",
       "         'txtauction': 5,\n",
       "         '81151': 2,\n",
       "         '4t': 3,\n",
       "         'ctxt': 2,\n",
       "         'subscrib': 9,\n",
       "         'best': 7,\n",
       "         'helplin': 2,\n",
       "         '08706091795': 2,\n",
       "         'realiz': 1,\n",
       "         '40': 2,\n",
       "         'thousand': 1,\n",
       "         'run': 1,\n",
       "         'around': 2,\n",
       "         'tattoo': 1,\n",
       "         'premier': 2,\n",
       "         'romant': 1,\n",
       "         'pari': 3,\n",
       "         'night': 7,\n",
       "         'book': 6,\n",
       "         '08704439680t': 1,\n",
       "         'unclaim': 1,\n",
       "         '09066368327': 1,\n",
       "         'claimcod': 1,\n",
       "         'm39m51': 1,\n",
       "         'citi': 3,\n",
       "         'break': 5,\n",
       "         'could': 7,\n",
       "         'summer': 7,\n",
       "         'store': 7,\n",
       "         '88039': 2,\n",
       "         'skilgm': 3,\n",
       "         'tscs087147403231winawk': 2,\n",
       "         '0578': 2,\n",
       "         'ever': 3,\n",
       "         'thought': 1,\n",
       "         'good': 12,\n",
       "         'life': 3,\n",
       "         'perfect': 1,\n",
       "         'commun': 2,\n",
       "         '5': 8,\n",
       "         'polyphon': 4,\n",
       "         '087018728737': 1,\n",
       "         'toppoli': 1,\n",
       "         'tune': 1,\n",
       "         'subpoli': 2,\n",
       "         '81618': 1,\n",
       "         'pole': 1,\n",
       "         '08718727870': 2,\n",
       "         '14thmarch': 1,\n",
       "         'availa': 1,\n",
       "         'pobox84': 4,\n",
       "         'm263uz': 2,\n",
       "         'no1': 5,\n",
       "         '8077': 1,\n",
       "         'tell': 13,\n",
       "         'mate': 8,\n",
       "         '36504': 4,\n",
       "         'w45wq': 3,\n",
       "         'cashto': 2,\n",
       "         '08000407165': 2,\n",
       "         'getstop': 2,\n",
       "         '88222': 2,\n",
       "         'php': 2,\n",
       "         'rg21': 1,\n",
       "         '4jx': 1,\n",
       "         'either': 8,\n",
       "         'gift': 16,\n",
       "         'outbid': 1,\n",
       "         'simonwatson5120': 1,\n",
       "         'shinco': 1,\n",
       "         'plyr': 1,\n",
       "         'bid': 8,\n",
       "         'notif': 1,\n",
       "         'smsservic': 1,\n",
       "         'yourinclus': 1,\n",
       "         'pl': 8,\n",
       "         '3qxj9': 3,\n",
       "         'extra': 6,\n",
       "         '9ae': 3,\n",
       "         'alfi': 3,\n",
       "         'moon': 3,\n",
       "         'children': 3,\n",
       "         'need': 11,\n",
       "         'song': 3,\n",
       "         'm8': 4,\n",
       "         'chariti': 9,\n",
       "         '8007': 19,\n",
       "         'zed': 6,\n",
       "         '08701417012': 3,\n",
       "         'profit': 3,\n",
       "         'cust': 3,\n",
       "         'care': 6,\n",
       "         '07821230901': 1,\n",
       "         'five': 3,\n",
       "         '08002888812': 2,\n",
       "         'wed': 2,\n",
       "         '09066350750': 2,\n",
       "         'ibiza': 4,\n",
       "         'await': 24,\n",
       "         '434': 3,\n",
       "         'sk3': 3,\n",
       "         '8wp': 3,\n",
       "         'ppm': 4,\n",
       "         'talk': 5,\n",
       "         'fall': 1,\n",
       "         'world': 2,\n",
       "         'discreet': 2,\n",
       "         'vip': 4,\n",
       "         '83110': 1,\n",
       "         'suppli': 2,\n",
       "         'virgin': 2,\n",
       "         'record': 6,\n",
       "         'mysteri': 1,\n",
       "         '09061104283': 1,\n",
       "         'approx': 1,\n",
       "         '07808': 1,\n",
       "         'xxxxxx': 1,\n",
       "         '08719899217': 1,\n",
       "         '41685': 2,\n",
       "         'posh': 1,\n",
       "         'bird': 1,\n",
       "         'chap': 1,\n",
       "         'user': 8,\n",
       "         'trial': 1,\n",
       "         'prod': 1,\n",
       "         'champney': 1,\n",
       "         'put': 1,\n",
       "         'address': 3,\n",
       "         'dob': 1,\n",
       "         'asap': 6,\n",
       "         'ta': 1,\n",
       "         '0721072': 1,\n",
       "         'till': 2,\n",
       "         'drop': 1,\n",
       "         '10k': 2,\n",
       "         '5k': 1,\n",
       "         'travel': 1,\n",
       "         'ntt': 7,\n",
       "         'cr01327bt': 1,\n",
       "         'fixedlin': 1,\n",
       "         'liverpool': 2,\n",
       "         'mid': 1,\n",
       "         '09058094565': 2,\n",
       "         'remind': 2,\n",
       "         'alreadi': 1,\n",
       "         'paid': 1,\n",
       "         'mymobi': 1,\n",
       "         'lastest': 1,\n",
       "         'stereophon': 1,\n",
       "         'marley': 1,\n",
       "         'dizze': 1,\n",
       "         'racal': 1,\n",
       "         'libertin': 1,\n",
       "         'stroke': 1,\n",
       "         'nookii': 1,\n",
       "         'bookmark': 1,\n",
       "         'januari': 1,\n",
       "         'male': 3,\n",
       "         'sale': 4,\n",
       "         'gay': 6,\n",
       "         'cheaper': 2,\n",
       "         'cheap': 3,\n",
       "         'peak': 2,\n",
       "         '08712460324': 8,\n",
       "         'money': 4,\n",
       "         'lucki': 8,\n",
       "         '88600': 2,\n",
       "         'give': 8,\n",
       "         'away': 4,\n",
       "         'box403': 1,\n",
       "         'w1t1ji': 1,\n",
       "         'matthew': 1,\n",
       "         '09063440451': 1,\n",
       "         'lux': 2,\n",
       "         'ppm150': 1,\n",
       "         'box334': 1,\n",
       "         'sk38xh': 4,\n",
       "         '09061749602': 1,\n",
       "         '528': 1,\n",
       "         'hp20': 1,\n",
       "         '1yf': 1,\n",
       "         'touch': 1,\n",
       "         'folk': 1,\n",
       "         'compani': 3,\n",
       "         'enjoy': 12,\n",
       "         '08718720201': 5,\n",
       "         'filthi': 2,\n",
       "         'stori': 1,\n",
       "         'girl': 9,\n",
       "         '09050001808': 1,\n",
       "         'm95': 1,\n",
       "         'valid12hr': 2,\n",
       "         '3g': 3,\n",
       "         'videophon': 3,\n",
       "         '09063458130': 2,\n",
       "         'videochat': 3,\n",
       "         'wid': 3,\n",
       "         'java': 3,\n",
       "         'dload': 3,\n",
       "         'polyph': 2,\n",
       "         'nolin': 3,\n",
       "         'rentl': 3,\n",
       "         'panason': 1,\n",
       "         'bluetoothhdset': 1,\n",
       "         'doublemin': 1,\n",
       "         'doubletxt': 1,\n",
       "         'contract': 4,\n",
       "         'guess': 6,\n",
       "         'somebodi': 2,\n",
       "         'secretli': 2,\n",
       "         'wan': 11,\n",
       "         'na': 10,\n",
       "         '09065394514': 1,\n",
       "         'datebox1282essexcm61xn': 2,\n",
       "         '09058097218': 1,\n",
       "         '6': 5,\n",
       "         'ls15hb': 2,\n",
       "         'bloke': 1,\n",
       "         'zoe': 1,\n",
       "         'kickoff': 1,\n",
       "         'inform': 9,\n",
       "         'euro': 2,\n",
       "         'eastend': 1,\n",
       "         'flower': 2,\n",
       "         'dot': 1,\n",
       "         'compar': 1,\n",
       "         'violet': 1,\n",
       "         'tulip': 1,\n",
       "         'lili': 1,\n",
       "         'e': 1,\n",
       "         'f': 3,\n",
       "         '84025': 2,\n",
       "         'lot': 2,\n",
       "         'peopl': 3,\n",
       "         'regist': 5,\n",
       "         'replys150': 1,\n",
       "         'ask': 5,\n",
       "         'cant': 3,\n",
       "         '09058091854': 1,\n",
       "         'box385': 1,\n",
       "         'm6': 1,\n",
       "         '6wu': 1,\n",
       "         '09050003091': 2,\n",
       "         'c52': 2,\n",
       "         'xchat': 5,\n",
       "         'sipix': 3,\n",
       "         'digit': 6,\n",
       "         '09061221061': 1,\n",
       "         '28day': 1,\n",
       "         'box177': 1,\n",
       "         'm221bp': 1,\n",
       "         '2yr': 1,\n",
       "         'warranti': 1,\n",
       "         'p': 2,\n",
       "         '09061790121': 2,\n",
       "         '3030': 1,\n",
       "         'b': 10,\n",
       "         'receipt': 3,\n",
       "         'an': 6,\n",
       "         'elvi': 1,\n",
       "         'presley': 1,\n",
       "         'birthday': 1,\n",
       "         'o2': 5,\n",
       "         'log': 7,\n",
       "         'onto': 7,\n",
       "         'surpris': 5,\n",
       "         '449050000301': 1,\n",
       "         '09050000301': 1,\n",
       "         'bore': 3,\n",
       "         'speed': 1,\n",
       "         'speedchat': 2,\n",
       "         '80155': 1,\n",
       "         'em': 1,\n",
       "         'swap': 1,\n",
       "         'chatter': 1,\n",
       "         'chat80155': 1,\n",
       "         'rcd': 1,\n",
       "         '08000776320': 2,\n",
       "         'part': 8,\n",
       "         'survey': 1,\n",
       "         'yesterday': 3,\n",
       "         'howev': 1,\n",
       "         'wish': 2,\n",
       "         '80160': 1,\n",
       "         'hmv1': 1,\n",
       "         'forget': 2,\n",
       "         'place': 4,\n",
       "         'mani': 3,\n",
       "         'request': 2,\n",
       "         '08707808226': 1,\n",
       "         'let': 3,\n",
       "         'notifi': 1,\n",
       "         'luck': 6,\n",
       "         'futur': 3,\n",
       "         'market': 1,\n",
       "         '84122': 1,\n",
       "         '08450542832': 1,\n",
       "         ...})"
      ]
     },
     "execution_count": 59,
     "metadata": {},
     "output_type": "execute_result"
    }
   ],
   "source": [
    "from collections import Counter\n",
    "Counter(spam_corpus)"
   ]
  },
  {
   "cell_type": "code",
   "execution_count": 60,
   "id": "f8f797f1",
   "metadata": {},
   "outputs": [
    {
     "data": {
      "text/plain": [
       "[('call', 320),\n",
       " ('free', 191),\n",
       " ('2', 155),\n",
       " ('txt', 141),\n",
       " ('text', 122),\n",
       " ('u', 119),\n",
       " ('ur', 119),\n",
       " ('mobil', 114),\n",
       " ('stop', 104),\n",
       " ('repli', 103),\n",
       " ('claim', 98),\n",
       " ('4', 97),\n",
       " ('prize', 82),\n",
       " ('get', 74),\n",
       " ('new', 64),\n",
       " ('servic', 64),\n",
       " ('tone', 63),\n",
       " ('send', 60),\n",
       " ('urgent', 57),\n",
       " ('nokia', 57),\n",
       " ('contact', 56),\n",
       " ('award', 55),\n",
       " ('phone', 52),\n",
       " ('cash', 51),\n",
       " ('pleas', 51),\n",
       " ('week', 49),\n",
       " ('win', 48),\n",
       " ('c', 45),\n",
       " ('collect', 45),\n",
       " ('min', 45)]"
      ]
     },
     "execution_count": 60,
     "metadata": {},
     "output_type": "execute_result"
    }
   ],
   "source": [
    "# Most common 30 words\n",
    "\n",
    "Counter(spam_corpus).most_common(30)"
   ]
  },
  {
   "cell_type": "code",
   "execution_count": 61,
   "id": "6379bdfd",
   "metadata": {},
   "outputs": [
    {
     "data": {
      "text/html": [
       "<div>\n",
       "<style scoped>\n",
       "    .dataframe tbody tr th:only-of-type {\n",
       "        vertical-align: middle;\n",
       "    }\n",
       "\n",
       "    .dataframe tbody tr th {\n",
       "        vertical-align: top;\n",
       "    }\n",
       "\n",
       "    .dataframe thead th {\n",
       "        text-align: right;\n",
       "    }\n",
       "</style>\n",
       "<table border=\"1\" class=\"dataframe\">\n",
       "  <thead>\n",
       "    <tr style=\"text-align: right;\">\n",
       "      <th></th>\n",
       "      <th>0</th>\n",
       "      <th>1</th>\n",
       "    </tr>\n",
       "  </thead>\n",
       "  <tbody>\n",
       "    <tr>\n",
       "      <th>0</th>\n",
       "      <td>call</td>\n",
       "      <td>320</td>\n",
       "    </tr>\n",
       "    <tr>\n",
       "      <th>1</th>\n",
       "      <td>free</td>\n",
       "      <td>191</td>\n",
       "    </tr>\n",
       "    <tr>\n",
       "      <th>2</th>\n",
       "      <td>2</td>\n",
       "      <td>155</td>\n",
       "    </tr>\n",
       "    <tr>\n",
       "      <th>3</th>\n",
       "      <td>txt</td>\n",
       "      <td>141</td>\n",
       "    </tr>\n",
       "    <tr>\n",
       "      <th>4</th>\n",
       "      <td>text</td>\n",
       "      <td>122</td>\n",
       "    </tr>\n",
       "  </tbody>\n",
       "</table>\n",
       "</div>"
      ],
      "text/plain": [
       "      0    1\n",
       "0  call  320\n",
       "1  free  191\n",
       "2     2  155\n",
       "3   txt  141\n",
       "4  text  122"
      ]
     },
     "execution_count": 61,
     "metadata": {},
     "output_type": "execute_result"
    }
   ],
   "source": [
    "# same top words we converted into dataframe.\n",
    "pd.DataFrame(Counter(spam_corpus).most_common(30)).head()"
   ]
  },
  {
   "cell_type": "markdown",
   "id": "de910117",
   "metadata": {},
   "source": [
    "#### Note:\n",
    "\n",
    "  - Just visualize these words so that in a way that easily understandable."
   ]
  },
  {
   "cell_type": "code",
   "execution_count": 62,
   "id": "7449ecc6",
   "metadata": {},
   "outputs": [],
   "source": [
    "# I am getting error"
   ]
  },
  {
   "cell_type": "code",
   "execution_count": 63,
   "id": "8b15aa06",
   "metadata": {},
   "outputs": [],
   "source": [
    "# ham top 30 words\n",
    "\n",
    "ham_corpus = []\n",
    "for msg in df[df['target'] == 0]['transformed_text'].tolist():\n",
    "    for word in msg.split():\n",
    "        ham_corpus.append(word)\n"
   ]
  },
  {
   "cell_type": "code",
   "execution_count": 64,
   "id": "f041f47a",
   "metadata": {},
   "outputs": [
    {
     "data": {
      "text/html": [
       "<div>\n",
       "<style scoped>\n",
       "    .dataframe tbody tr th:only-of-type {\n",
       "        vertical-align: middle;\n",
       "    }\n",
       "\n",
       "    .dataframe tbody tr th {\n",
       "        vertical-align: top;\n",
       "    }\n",
       "\n",
       "    .dataframe thead th {\n",
       "        text-align: right;\n",
       "    }\n",
       "</style>\n",
       "<table border=\"1\" class=\"dataframe\">\n",
       "  <thead>\n",
       "    <tr style=\"text-align: right;\">\n",
       "      <th></th>\n",
       "      <th>0</th>\n",
       "      <th>1</th>\n",
       "    </tr>\n",
       "  </thead>\n",
       "  <tbody>\n",
       "    <tr>\n",
       "      <th>0</th>\n",
       "      <td>u</td>\n",
       "      <td>883</td>\n",
       "    </tr>\n",
       "    <tr>\n",
       "      <th>1</th>\n",
       "      <td>go</td>\n",
       "      <td>404</td>\n",
       "    </tr>\n",
       "    <tr>\n",
       "      <th>2</th>\n",
       "      <td>get</td>\n",
       "      <td>349</td>\n",
       "    </tr>\n",
       "    <tr>\n",
       "      <th>3</th>\n",
       "      <td>gt</td>\n",
       "      <td>288</td>\n",
       "    </tr>\n",
       "    <tr>\n",
       "      <th>4</th>\n",
       "      <td>lt</td>\n",
       "      <td>287</td>\n",
       "    </tr>\n",
       "  </tbody>\n",
       "</table>\n",
       "</div>"
      ],
      "text/plain": [
       "     0    1\n",
       "0    u  883\n",
       "1   go  404\n",
       "2  get  349\n",
       "3   gt  288\n",
       "4   lt  287"
      ]
     },
     "execution_count": 64,
     "metadata": {},
     "output_type": "execute_result"
    }
   ],
   "source": [
    "pd.DataFrame(Counter(ham_corpus).most_common(30)).head()"
   ]
  },
  {
   "cell_type": "markdown",
   "id": "ac8a0952",
   "metadata": {},
   "source": [
    "## 4. Model Building\n",
    "\n",
    "  - In our case, firstly I go with Naive baye's and later we also try other models and comparing between these models which one gives better results. \n",
    "  - Here, why I am choosing Naive Baye's model and why not other models: The reason is as simple as it is actually Naive Baye's performs well on textual data However, other models also performs best but In this case we go with Naive baye's first."
   ]
  },
  {
   "cell_type": "markdown",
   "id": "f5ff27a3",
   "metadata": {},
   "source": [
    "### Note:\n",
    "\n",
    "   - When we buld Machine learning model, It is always common sense that input values given to Machine learning model is in the form of \"numerical values\".\n",
    "   - Our case, The input values feed to the ML model is \"transformed_text\" which was in \"textual data\".\n",
    "   - We need to change into numerical by means of vectorization.\n",
    "   - Whereas, target feature is \"target\" and it values was in \"numerical data\" so no need to change as such.\n",
    "#### Vectorization (Convert text --> Numeric). There are many techniques under vectorization out of which we are using \"Bag of words\""
   ]
  },
  {
   "cell_type": "code",
   "execution_count": 89,
   "id": "bb830e36",
   "metadata": {},
   "outputs": [],
   "source": [
    "from sklearn.feature_extraction.text import CountVectorizer\n",
    "from sklearn.feature_extraction.text import TfidfVectorizer\n",
    "tfidf = TfidfVectorizer(max_features=3000)\n",
    "cv = CountVectorizer()"
   ]
  },
  {
   "cell_type": "code",
   "execution_count": 93,
   "id": "df80d1f0",
   "metadata": {},
   "outputs": [],
   "source": [
    "X = tfidf.fit_transform(df['transformed_text']).toarray()"
   ]
  },
  {
   "cell_type": "code",
   "execution_count": 94,
   "id": "40c568e5",
   "metadata": {},
   "outputs": [
    {
     "data": {
      "text/plain": [
       "array([[0., 0., 0., ..., 0., 0., 0.],\n",
       "       [0., 0., 0., ..., 0., 0., 0.],\n",
       "       [0., 0., 0., ..., 0., 0., 0.],\n",
       "       ...,\n",
       "       [0., 0., 0., ..., 0., 0., 0.],\n",
       "       [0., 0., 0., ..., 0., 0., 0.],\n",
       "       [0., 0., 0., ..., 0., 0., 0.]])"
      ]
     },
     "execution_count": 94,
     "metadata": {},
     "output_type": "execute_result"
    }
   ],
   "source": [
    "X"
   ]
  },
  {
   "cell_type": "code",
   "execution_count": 95,
   "id": "94bc0cc2",
   "metadata": {},
   "outputs": [
    {
     "data": {
      "text/plain": [
       "(5169, 3000)"
      ]
     },
     "execution_count": 95,
     "metadata": {},
     "output_type": "execute_result"
    }
   ],
   "source": [
    "X.shape"
   ]
  },
  {
   "cell_type": "markdown",
   "id": "dd7e03c7",
   "metadata": {},
   "source": [
    "#### Note:\n",
    "  - 5169 is the 'sms'\n",
    "  - 6708 is the 'words'"
   ]
  },
  {
   "cell_type": "code",
   "execution_count": 96,
   "id": "d901e112",
   "metadata": {},
   "outputs": [],
   "source": [
    "y = df['target'].values"
   ]
  },
  {
   "cell_type": "code",
   "execution_count": 97,
   "id": "0dd7cf50",
   "metadata": {},
   "outputs": [
    {
     "data": {
      "text/plain": [
       "array([0, 0, 1, ..., 0, 0, 0])"
      ]
     },
     "execution_count": 97,
     "metadata": {},
     "output_type": "execute_result"
    }
   ],
   "source": [
    "y"
   ]
  },
  {
   "cell_type": "markdown",
   "id": "655169c0",
   "metadata": {},
   "source": [
    "#### Note:\n",
    "  - Since, 'target' feature has in numeric data we do not need to transform into numeric"
   ]
  },
  {
   "cell_type": "code",
   "execution_count": 98,
   "id": "90f880a2",
   "metadata": {},
   "outputs": [],
   "source": [
    "from sklearn.model_selection import train_test_split"
   ]
  },
  {
   "cell_type": "code",
   "execution_count": 99,
   "id": "d8d11cdd",
   "metadata": {},
   "outputs": [],
   "source": [
    "X_train,X_test,y_train,y_test = train_test_split(X,y,test_size=0.2,random_state=2)"
   ]
  },
  {
   "cell_type": "code",
   "execution_count": 100,
   "id": "06dd81f2",
   "metadata": {},
   "outputs": [],
   "source": [
    "from sklearn.naive_bayes import GaussianNB,MultinomialNB,BernoulliNB\n",
    "from sklearn.metrics import accuracy_score,confusion_matrix,precision_score"
   ]
  },
  {
   "cell_type": "code",
   "execution_count": 101,
   "id": "13a9ce9c",
   "metadata": {},
   "outputs": [],
   "source": [
    "gnb = GaussianNB()\n",
    "mnb = MultinomialNB()\n",
    "bnb = BernoulliNB()"
   ]
  },
  {
   "cell_type": "code",
   "execution_count": 102,
   "id": "d425d138",
   "metadata": {},
   "outputs": [
    {
     "name": "stdout",
     "output_type": "stream",
     "text": [
      "0.8694390715667312\n",
      "[[788 108]\n",
      " [ 27 111]]\n",
      "0.5068493150684932\n"
     ]
    }
   ],
   "source": [
    "gnb.fit(X_train,y_train)\n",
    "y_pred1 = gnb.predict(X_test)\n",
    "print(accuracy_score(y_test,y_pred1))\n",
    "print(confusion_matrix(y_test,y_pred1))\n",
    "print(precision_score(y_test,y_pred1))"
   ]
  },
  {
   "cell_type": "markdown",
   "id": "5245048c",
   "metadata": {},
   "source": [
    "### Keytake aways:\n",
    "  - Since we have 3 sub models under Naive Baye's:\n",
    "  1. Gaussian Naive Baye's\n",
    "  2. Multinomial Naive Baye's\n",
    "  3. Bernoulli Naive Baye's\n",
    "  - From the Gaussian NB --> 88% accuracy model predicts.\n",
    "  - Whereas, Precision score --> 53% which was not good"
   ]
  },
  {
   "cell_type": "code",
   "execution_count": 103,
   "id": "4d5ecbfd",
   "metadata": {},
   "outputs": [
    {
     "name": "stdout",
     "output_type": "stream",
     "text": [
      "0.9709864603481625\n",
      "[[896   0]\n",
      " [ 30 108]]\n",
      "1.0\n"
     ]
    }
   ],
   "source": [
    "mnb.fit(X_train,y_train)\n",
    "y_pred2 = mnb.predict(X_test)\n",
    "print(accuracy_score(y_test,y_pred2))\n",
    "print(confusion_matrix(y_test,y_pred2))\n",
    "print(precision_score(y_test,y_pred2))"
   ]
  },
  {
   "cell_type": "markdown",
   "id": "27b21da6",
   "metadata": {},
   "source": [
    "### Keytake aways:\n",
    "  - Since we have 3 sub models under Naive Baye's:\n",
    "  1. Gaussian Naive Baye's\n",
    "  2. Multinomial Naive Baye's\n",
    "  - From the Multinomial NB --> 96% accuracy model predicts.\n",
    "  - Whereas, Precision score --> 83% which was not good"
   ]
  },
  {
   "cell_type": "code",
   "execution_count": 104,
   "id": "f7bbcce4",
   "metadata": {},
   "outputs": [
    {
     "name": "stdout",
     "output_type": "stream",
     "text": [
      "0.9835589941972921\n",
      "[[895   1]\n",
      " [ 16 122]]\n",
      "0.991869918699187\n"
     ]
    }
   ],
   "source": [
    "bnb.fit(X_train,y_train)\n",
    "y_pred3 = bnb.predict(X_test)\n",
    "print(accuracy_score(y_test,y_pred3))\n",
    "print(confusion_matrix(y_test,y_pred3))\n",
    "print(precision_score(y_test,y_pred3))"
   ]
  },
  {
   "cell_type": "markdown",
   "id": "c849e8d7",
   "metadata": {},
   "source": [
    "### Keytake aways:\n",
    "  - Since we have 3 sub models under Naive Baye's:\n",
    "  - Out of all 3 sub models, Bernoulli Naive Baye's gives best results.\n",
    "  - From the Baye's NB --> 97% accuracy model predicts.\n",
    "  - Whereas, Precision score --> 97% which was not good"
   ]
  },
  {
   "cell_type": "markdown",
   "id": "9d34fae3",
   "metadata": {},
   "source": [
    "### Note:\n",
    "  - For Imbalanced data, Precision matter's a lot when compared to accuracy.\n",
    "  - precision is more reliable metric than accuracy when data was Imbalanced"
   ]
  },
  {
   "cell_type": "markdown",
   "id": "4bbcfaca",
   "metadata": {},
   "source": [
    "### Note2:\n",
    "  - I applied CounteVectorizerwhich is a \"Bag of words\" techniques under vectorization.\n",
    "  - Other than \"Bag of words\" we have couple of other techniques which was \"tfidf Vectorizer\" and let give a try with this technique and check whether there was changes in the results."
   ]
  },
  {
   "cell_type": "markdown",
   "id": "e03e72ba",
   "metadata": {},
   "source": [
    "#### Vectorization (Convert text --> Numeric). There are many techniques under vectorization out of which we are using \"tfidf vectorizer\""
   ]
  },
  {
   "cell_type": "markdown",
   "id": "1383b3b4",
   "metadata": {},
   "source": [
    "### Note:\n",
    "  - Nothing changes I couldn't find in GaussianNB by using \"tfidf Vectorizer\""
   ]
  },
  {
   "cell_type": "code",
   "execution_count": 106,
   "id": "c045f62a",
   "metadata": {},
   "outputs": [
    {
     "name": "stdout",
     "output_type": "stream",
     "text": [
      "0.9709864603481625\n",
      "[[896   0]\n",
      " [ 30 108]]\n",
      "1.0\n"
     ]
    }
   ],
   "source": [
    "mnb.fit(X_train,y_train)\n",
    "y_pred2 = mnb.predict(X_test)\n",
    "print(accuracy_score(y_test,y2_pred))\n",
    "print(confusion_matrix(y_test,y2_pred))\n",
    "print(precision_score(y_test,y2_pred))"
   ]
  },
  {
   "cell_type": "markdown",
   "id": "84b031f8",
   "metadata": {},
   "source": [
    "### Note:\n",
    "  - Precision was 100% acheived in MultinomialNB by using \"tfidf Vectorizer\" since I am more concerned about precision than accuracy"
   ]
  },
  {
   "cell_type": "markdown",
   "id": "7b8c5f26",
   "metadata": {},
   "source": [
    "#### Note\n",
    "  - Note I chose Multinomial Naive Baye's provided that \"tfidf vectorization\" since it fetched 100% precision among 3 different models"
   ]
  },
  {
   "cell_type": "markdown",
   "id": "8a602e6e",
   "metadata": {},
   "source": [
    "## Next step:\n",
    "  - Now what I will do is, I will try few other ML models on this data and compare with MultinomialNB results"
   ]
  },
  {
   "cell_type": "code",
   "execution_count": 107,
   "id": "a567e47d",
   "metadata": {},
   "outputs": [],
   "source": [
    "from sklearn.linear_model import LogisticRegression\n",
    "from sklearn.svm import SVC\n",
    "from sklearn.naive_bayes import MultinomialNB\n",
    "from sklearn.tree import DecisionTreeClassifier\n",
    "from sklearn.neighbors import KNeighborsClassifier\n",
    "from sklearn.ensemble import RandomForestClassifier\n",
    "from sklearn.ensemble import AdaBoostClassifier\n",
    "from sklearn.ensemble import BaggingClassifier\n",
    "from sklearn.ensemble import ExtraTreesClassifier\n",
    "from sklearn.ensemble import GradientBoostingClassifier\n",
    "from xgboost import XGBClassifier"
   ]
  },
  {
   "cell_type": "code",
   "execution_count": 108,
   "id": "f015760a",
   "metadata": {},
   "outputs": [],
   "source": [
    "svc = SVC(kernel='sigmoid', gamma=1.0)\n",
    "knc = KNeighborsClassifier()\n",
    "mnb = MultinomialNB()\n",
    "dtc = DecisionTreeClassifier(max_depth=5)\n",
    "lrc = LogisticRegression(solver='liblinear', penalty='l1')\n",
    "rfc = RandomForestClassifier(n_estimators=50,random_state=2)\n",
    "abc = AdaBoostClassifier(n_estimators=50,random_state=2)\n",
    "bc = BaggingClassifier(n_estimators=50,random_state=2)\n",
    "etc = ExtraTreesClassifier(n_estimators=50,random_state=2)\n",
    "gbdt = GradientBoostingClassifier(n_estimators=50,random_state=2)\n",
    "xgb = XGBClassifier(n_estimators=50,random_state=2)"
   ]
  },
  {
   "cell_type": "code",
   "execution_count": 109,
   "id": "349f7c33",
   "metadata": {},
   "outputs": [],
   "source": [
    "clfs = {\n",
    "    'SVC' : svc,\n",
    "    'KN' : knc,\n",
    "    'NB' : mnb,\n",
    "    'DT' : dtc,\n",
    "    'LR' : lrc,\n",
    "    'RF' : rfc,\n",
    "    'AdaBoost' : abc,\n",
    "    'BgC' : bc,\n",
    "    'ETC' : etc,\n",
    "    'GBDT' : gbdt,\n",
    "    'xgb' : xgb\n",
    "}"
   ]
  },
  {
   "cell_type": "code",
   "execution_count": 110,
   "id": "a2fc1b60",
   "metadata": {},
   "outputs": [],
   "source": [
    "def train_classifier(clf,X_train,y_train,X_test,y_test):\n",
    "    clf.fit(X_train,y_train)\n",
    "    y_pred = clf.predict(X_test)\n",
    "    accuracy = accuracy_score(y_test,y_pred)\n",
    "    precision = precision_score(y_test,y_pred)\n",
    "    \n",
    "    return accuracy,precision"
   ]
  },
  {
   "cell_type": "code",
   "execution_count": 111,
   "id": "0fe608a2",
   "metadata": {},
   "outputs": [
    {
     "data": {
      "text/plain": [
       "(0.9758220502901354, 0.9747899159663865)"
      ]
     },
     "execution_count": 111,
     "metadata": {},
     "output_type": "execute_result"
    }
   ],
   "source": [
    "train_classifier(svc,X_train,y_train,X_test,y_test)"
   ]
  },
  {
   "cell_type": "code",
   "execution_count": 112,
   "id": "c47b363b",
   "metadata": {},
   "outputs": [
    {
     "name": "stdout",
     "output_type": "stream",
     "text": [
      "For SVC\n",
      "Accuarcy -  0.9758220502901354\n",
      "Precision -  0.9747899159663865\n",
      "For KN\n",
      "Accuarcy -  0.9052224371373307\n",
      "Precision -  1.0\n",
      "For NB\n",
      "Accuarcy -  0.9709864603481625\n",
      "Precision -  1.0\n",
      "For DT\n",
      "Accuarcy -  0.9294003868471954\n",
      "Precision -  0.8282828282828283\n",
      "For LR\n",
      "Accuarcy -  0.9584139264990329\n",
      "Precision -  0.9702970297029703\n",
      "For RF\n",
      "Accuarcy -  0.9748549323017408\n",
      "Precision -  0.9827586206896551\n",
      "For AdaBoost\n",
      "Accuarcy -  0.960348162475822\n",
      "Precision -  0.9292035398230089\n",
      "For BgC\n",
      "Accuarcy -  0.9574468085106383\n",
      "Precision -  0.8671875\n",
      "For ETC\n",
      "Accuarcy -  0.9748549323017408\n",
      "Precision -  0.9745762711864406\n",
      "For GBDT\n",
      "Accuarcy -  0.9477756286266924\n",
      "Precision -  0.92\n",
      "For xgb\n",
      "Accuarcy -  0.9661508704061895\n",
      "Precision -  0.9256198347107438\n"
     ]
    }
   ],
   "source": [
    "accuracy_scores = []\n",
    "precision_scores = []\n",
    "\n",
    "for name,clf in clfs.items():\n",
    "    current_accuracy,current_precision = train_classifier(clf,X_train,y_train,X_test,y_test)\n",
    "    \n",
    "    print(\"For\",name)\n",
    "    print(\"Accuarcy - \", current_accuracy)\n",
    "    print(\"Precision - \", current_precision)\n",
    "    \n",
    "    accuracy_scores.append(current_accuracy)\n",
    "    precision_scores.append(current_precision)\n",
    "    "
   ]
  },
  {
   "cell_type": "code",
   "execution_count": 113,
   "id": "d5996f3a",
   "metadata": {},
   "outputs": [],
   "source": [
    "performance_df = pd.DataFrame({'Algorithm':clfs.keys(),'Accuracy':accuracy_scores,'precision':precision_scores}).sort_values(by='precision', ascending=False)"
   ]
  },
  {
   "cell_type": "code",
   "execution_count": 114,
   "id": "32ede479",
   "metadata": {},
   "outputs": [
    {
     "data": {
      "text/html": [
       "<div>\n",
       "<style scoped>\n",
       "    .dataframe tbody tr th:only-of-type {\n",
       "        vertical-align: middle;\n",
       "    }\n",
       "\n",
       "    .dataframe tbody tr th {\n",
       "        vertical-align: top;\n",
       "    }\n",
       "\n",
       "    .dataframe thead th {\n",
       "        text-align: right;\n",
       "    }\n",
       "</style>\n",
       "<table border=\"1\" class=\"dataframe\">\n",
       "  <thead>\n",
       "    <tr style=\"text-align: right;\">\n",
       "      <th></th>\n",
       "      <th>Algorithm</th>\n",
       "      <th>Accuracy</th>\n",
       "      <th>precision</th>\n",
       "    </tr>\n",
       "  </thead>\n",
       "  <tbody>\n",
       "    <tr>\n",
       "      <th>1</th>\n",
       "      <td>KN</td>\n",
       "      <td>0.905222</td>\n",
       "      <td>1.000000</td>\n",
       "    </tr>\n",
       "    <tr>\n",
       "      <th>2</th>\n",
       "      <td>NB</td>\n",
       "      <td>0.970986</td>\n",
       "      <td>1.000000</td>\n",
       "    </tr>\n",
       "    <tr>\n",
       "      <th>5</th>\n",
       "      <td>RF</td>\n",
       "      <td>0.974855</td>\n",
       "      <td>0.982759</td>\n",
       "    </tr>\n",
       "    <tr>\n",
       "      <th>0</th>\n",
       "      <td>SVC</td>\n",
       "      <td>0.975822</td>\n",
       "      <td>0.974790</td>\n",
       "    </tr>\n",
       "    <tr>\n",
       "      <th>8</th>\n",
       "      <td>ETC</td>\n",
       "      <td>0.974855</td>\n",
       "      <td>0.974576</td>\n",
       "    </tr>\n",
       "    <tr>\n",
       "      <th>4</th>\n",
       "      <td>LR</td>\n",
       "      <td>0.958414</td>\n",
       "      <td>0.970297</td>\n",
       "    </tr>\n",
       "    <tr>\n",
       "      <th>6</th>\n",
       "      <td>AdaBoost</td>\n",
       "      <td>0.960348</td>\n",
       "      <td>0.929204</td>\n",
       "    </tr>\n",
       "    <tr>\n",
       "      <th>10</th>\n",
       "      <td>xgb</td>\n",
       "      <td>0.966151</td>\n",
       "      <td>0.925620</td>\n",
       "    </tr>\n",
       "    <tr>\n",
       "      <th>9</th>\n",
       "      <td>GBDT</td>\n",
       "      <td>0.947776</td>\n",
       "      <td>0.920000</td>\n",
       "    </tr>\n",
       "    <tr>\n",
       "      <th>7</th>\n",
       "      <td>BgC</td>\n",
       "      <td>0.957447</td>\n",
       "      <td>0.867188</td>\n",
       "    </tr>\n",
       "    <tr>\n",
       "      <th>3</th>\n",
       "      <td>DT</td>\n",
       "      <td>0.929400</td>\n",
       "      <td>0.828283</td>\n",
       "    </tr>\n",
       "  </tbody>\n",
       "</table>\n",
       "</div>"
      ],
      "text/plain": [
       "   Algorithm  Accuracy  precision\n",
       "1         KN  0.905222   1.000000\n",
       "2         NB  0.970986   1.000000\n",
       "5         RF  0.974855   0.982759\n",
       "0        SVC  0.975822   0.974790\n",
       "8        ETC  0.974855   0.974576\n",
       "4         LR  0.958414   0.970297\n",
       "6   AdaBoost  0.960348   0.929204\n",
       "10       xgb  0.966151   0.925620\n",
       "9       GBDT  0.947776   0.920000\n",
       "7        BgC  0.957447   0.867188\n",
       "3         DT  0.929400   0.828283"
      ]
     },
     "execution_count": 114,
     "metadata": {},
     "output_type": "execute_result"
    }
   ],
   "source": [
    "performance_df"
   ]
  },
  {
   "cell_type": "code",
   "execution_count": 115,
   "id": "8c75895e",
   "metadata": {},
   "outputs": [],
   "source": [
    "performance_df1 = pd.melt(performance_df, id_vars = 'Algorithm')"
   ]
  },
  {
   "cell_type": "code",
   "execution_count": 116,
   "id": "be0c2b6e",
   "metadata": {},
   "outputs": [
    {
     "data": {
      "text/html": [
       "<div>\n",
       "<style scoped>\n",
       "    .dataframe tbody tr th:only-of-type {\n",
       "        vertical-align: middle;\n",
       "    }\n",
       "\n",
       "    .dataframe tbody tr th {\n",
       "        vertical-align: top;\n",
       "    }\n",
       "\n",
       "    .dataframe thead th {\n",
       "        text-align: right;\n",
       "    }\n",
       "</style>\n",
       "<table border=\"1\" class=\"dataframe\">\n",
       "  <thead>\n",
       "    <tr style=\"text-align: right;\">\n",
       "      <th></th>\n",
       "      <th>Algorithm</th>\n",
       "      <th>variable</th>\n",
       "      <th>value</th>\n",
       "    </tr>\n",
       "  </thead>\n",
       "  <tbody>\n",
       "    <tr>\n",
       "      <th>0</th>\n",
       "      <td>KN</td>\n",
       "      <td>Accuracy</td>\n",
       "      <td>0.905222</td>\n",
       "    </tr>\n",
       "    <tr>\n",
       "      <th>1</th>\n",
       "      <td>NB</td>\n",
       "      <td>Accuracy</td>\n",
       "      <td>0.970986</td>\n",
       "    </tr>\n",
       "    <tr>\n",
       "      <th>2</th>\n",
       "      <td>RF</td>\n",
       "      <td>Accuracy</td>\n",
       "      <td>0.974855</td>\n",
       "    </tr>\n",
       "    <tr>\n",
       "      <th>3</th>\n",
       "      <td>SVC</td>\n",
       "      <td>Accuracy</td>\n",
       "      <td>0.975822</td>\n",
       "    </tr>\n",
       "    <tr>\n",
       "      <th>4</th>\n",
       "      <td>ETC</td>\n",
       "      <td>Accuracy</td>\n",
       "      <td>0.974855</td>\n",
       "    </tr>\n",
       "    <tr>\n",
       "      <th>5</th>\n",
       "      <td>LR</td>\n",
       "      <td>Accuracy</td>\n",
       "      <td>0.958414</td>\n",
       "    </tr>\n",
       "    <tr>\n",
       "      <th>6</th>\n",
       "      <td>AdaBoost</td>\n",
       "      <td>Accuracy</td>\n",
       "      <td>0.960348</td>\n",
       "    </tr>\n",
       "    <tr>\n",
       "      <th>7</th>\n",
       "      <td>xgb</td>\n",
       "      <td>Accuracy</td>\n",
       "      <td>0.966151</td>\n",
       "    </tr>\n",
       "    <tr>\n",
       "      <th>8</th>\n",
       "      <td>GBDT</td>\n",
       "      <td>Accuracy</td>\n",
       "      <td>0.947776</td>\n",
       "    </tr>\n",
       "    <tr>\n",
       "      <th>9</th>\n",
       "      <td>BgC</td>\n",
       "      <td>Accuracy</td>\n",
       "      <td>0.957447</td>\n",
       "    </tr>\n",
       "    <tr>\n",
       "      <th>10</th>\n",
       "      <td>DT</td>\n",
       "      <td>Accuracy</td>\n",
       "      <td>0.929400</td>\n",
       "    </tr>\n",
       "    <tr>\n",
       "      <th>11</th>\n",
       "      <td>KN</td>\n",
       "      <td>precision</td>\n",
       "      <td>1.000000</td>\n",
       "    </tr>\n",
       "    <tr>\n",
       "      <th>12</th>\n",
       "      <td>NB</td>\n",
       "      <td>precision</td>\n",
       "      <td>1.000000</td>\n",
       "    </tr>\n",
       "    <tr>\n",
       "      <th>13</th>\n",
       "      <td>RF</td>\n",
       "      <td>precision</td>\n",
       "      <td>0.982759</td>\n",
       "    </tr>\n",
       "    <tr>\n",
       "      <th>14</th>\n",
       "      <td>SVC</td>\n",
       "      <td>precision</td>\n",
       "      <td>0.974790</td>\n",
       "    </tr>\n",
       "    <tr>\n",
       "      <th>15</th>\n",
       "      <td>ETC</td>\n",
       "      <td>precision</td>\n",
       "      <td>0.974576</td>\n",
       "    </tr>\n",
       "    <tr>\n",
       "      <th>16</th>\n",
       "      <td>LR</td>\n",
       "      <td>precision</td>\n",
       "      <td>0.970297</td>\n",
       "    </tr>\n",
       "    <tr>\n",
       "      <th>17</th>\n",
       "      <td>AdaBoost</td>\n",
       "      <td>precision</td>\n",
       "      <td>0.929204</td>\n",
       "    </tr>\n",
       "    <tr>\n",
       "      <th>18</th>\n",
       "      <td>xgb</td>\n",
       "      <td>precision</td>\n",
       "      <td>0.925620</td>\n",
       "    </tr>\n",
       "    <tr>\n",
       "      <th>19</th>\n",
       "      <td>GBDT</td>\n",
       "      <td>precision</td>\n",
       "      <td>0.920000</td>\n",
       "    </tr>\n",
       "    <tr>\n",
       "      <th>20</th>\n",
       "      <td>BgC</td>\n",
       "      <td>precision</td>\n",
       "      <td>0.867188</td>\n",
       "    </tr>\n",
       "    <tr>\n",
       "      <th>21</th>\n",
       "      <td>DT</td>\n",
       "      <td>precision</td>\n",
       "      <td>0.828283</td>\n",
       "    </tr>\n",
       "  </tbody>\n",
       "</table>\n",
       "</div>"
      ],
      "text/plain": [
       "   Algorithm   variable     value\n",
       "0         KN   Accuracy  0.905222\n",
       "1         NB   Accuracy  0.970986\n",
       "2         RF   Accuracy  0.974855\n",
       "3        SVC   Accuracy  0.975822\n",
       "4        ETC   Accuracy  0.974855\n",
       "5         LR   Accuracy  0.958414\n",
       "6   AdaBoost   Accuracy  0.960348\n",
       "7        xgb   Accuracy  0.966151\n",
       "8       GBDT   Accuracy  0.947776\n",
       "9        BgC   Accuracy  0.957447\n",
       "10        DT   Accuracy  0.929400\n",
       "11        KN  precision  1.000000\n",
       "12        NB  precision  1.000000\n",
       "13        RF  precision  0.982759\n",
       "14       SVC  precision  0.974790\n",
       "15       ETC  precision  0.974576\n",
       "16        LR  precision  0.970297\n",
       "17  AdaBoost  precision  0.929204\n",
       "18       xgb  precision  0.925620\n",
       "19      GBDT  precision  0.920000\n",
       "20       BgC  precision  0.867188\n",
       "21        DT  precision  0.828283"
      ]
     },
     "execution_count": 116,
     "metadata": {},
     "output_type": "execute_result"
    }
   ],
   "source": [
    "performance_df1"
   ]
  },
  {
   "cell_type": "code",
   "execution_count": 117,
   "id": "db9e1c8d",
   "metadata": {},
   "outputs": [
    {
     "data": {
      "image/png": "[encoded data removed]",
      "text/plain": [
       "<Figure size 613.5x500 with 1 Axes>"
      ]
     },
     "metadata": {},
     "output_type": "display_data"
    }
   ],
   "source": [
    "sns.catplot(x = 'Algorithm', y = 'value',\n",
    "                 hue = 'variable', data = performance_df1, kind = 'bar', height = 5)\n",
    "plt.ylim(0.5,1.0)\n",
    "plt.xticks(rotation='vertical')\n",
    "plt.show()"
   ]
  },
  {
   "cell_type": "markdown",
   "id": "3a99f2ec",
   "metadata": {},
   "source": [
    "## Model Improvement/Evaluation:\n",
    "## 1st Improvement (Features_restricted)\n",
    "  - 1. change the max_features parameter of TfIdf\n",
    "  - 2. Actaully when we tried with TfIdf vectorizer to convert textual data into numerical, by default we considered all the \n",
    "features but there is one hidden parameter with named as \"max_features\"\n",
    "  - 3. It means basically when we vectorize the text data into numerical data, we do not define how many frequent words take into \n",
    "  - 4. consideration. By using \"max_feature\"we can say 3000, it means only top 3000 words will be consider into analysis.\n",
    "  - 5. Let's see whether it impart any changes in the output"
   ]
  },
  {
   "cell_type": "code",
   "execution_count": 118,
   "id": "42ef3e70",
   "metadata": {},
   "outputs": [],
   "source": [
    "# model improve\n",
    "# 1. change the max_features parameter of TfIdf"
   ]
  },
  {
   "cell_type": "code",
   "execution_count": 119,
   "id": "9cd12000",
   "metadata": {},
   "outputs": [],
   "source": [
    "temp_df = pd.DataFrame({'Algorithm':clfs.keys(),'Accuracy_max_ft_3000':accuracy_scores,'Precision_max_ft_3000':precision_scores}).sort_values(by='Precision_max_ft_3000', ascending=False)"
   ]
  },
  {
   "cell_type": "code",
   "execution_count": 120,
   "id": "bc951576",
   "metadata": {},
   "outputs": [],
   "source": [
    "new_df = performance_df.merge(temp_df,on='Algorithm')"
   ]
  },
  {
   "cell_type": "code",
   "execution_count": 122,
   "id": "2f33c8b2",
   "metadata": {},
   "outputs": [
    {
     "data": {
      "text/html": [
       "<div>\n",
       "<style scoped>\n",
       "    .dataframe tbody tr th:only-of-type {\n",
       "        vertical-align: middle;\n",
       "    }\n",
       "\n",
       "    .dataframe tbody tr th {\n",
       "        vertical-align: top;\n",
       "    }\n",
       "\n",
       "    .dataframe thead th {\n",
       "        text-align: right;\n",
       "    }\n",
       "</style>\n",
       "<table border=\"1\" class=\"dataframe\">\n",
       "  <thead>\n",
       "    <tr style=\"text-align: right;\">\n",
       "      <th></th>\n",
       "      <th>Algorithm</th>\n",
       "      <th>Accuracy</th>\n",
       "      <th>precision</th>\n",
       "      <th>Accuracy_max_ft_3000</th>\n",
       "      <th>Precision_max_ft_3000</th>\n",
       "    </tr>\n",
       "  </thead>\n",
       "  <tbody>\n",
       "    <tr>\n",
       "      <th>0</th>\n",
       "      <td>KN</td>\n",
       "      <td>0.905222</td>\n",
       "      <td>1.000000</td>\n",
       "      <td>0.905222</td>\n",
       "      <td>1.000000</td>\n",
       "    </tr>\n",
       "    <tr>\n",
       "      <th>1</th>\n",
       "      <td>NB</td>\n",
       "      <td>0.970986</td>\n",
       "      <td>1.000000</td>\n",
       "      <td>0.970986</td>\n",
       "      <td>1.000000</td>\n",
       "    </tr>\n",
       "    <tr>\n",
       "      <th>2</th>\n",
       "      <td>RF</td>\n",
       "      <td>0.974855</td>\n",
       "      <td>0.982759</td>\n",
       "      <td>0.974855</td>\n",
       "      <td>0.982759</td>\n",
       "    </tr>\n",
       "    <tr>\n",
       "      <th>3</th>\n",
       "      <td>SVC</td>\n",
       "      <td>0.975822</td>\n",
       "      <td>0.974790</td>\n",
       "      <td>0.975822</td>\n",
       "      <td>0.974790</td>\n",
       "    </tr>\n",
       "    <tr>\n",
       "      <th>4</th>\n",
       "      <td>ETC</td>\n",
       "      <td>0.974855</td>\n",
       "      <td>0.974576</td>\n",
       "      <td>0.974855</td>\n",
       "      <td>0.974576</td>\n",
       "    </tr>\n",
       "    <tr>\n",
       "      <th>5</th>\n",
       "      <td>LR</td>\n",
       "      <td>0.958414</td>\n",
       "      <td>0.970297</td>\n",
       "      <td>0.958414</td>\n",
       "      <td>0.970297</td>\n",
       "    </tr>\n",
       "    <tr>\n",
       "      <th>6</th>\n",
       "      <td>AdaBoost</td>\n",
       "      <td>0.960348</td>\n",
       "      <td>0.929204</td>\n",
       "      <td>0.960348</td>\n",
       "      <td>0.929204</td>\n",
       "    </tr>\n",
       "    <tr>\n",
       "      <th>7</th>\n",
       "      <td>xgb</td>\n",
       "      <td>0.966151</td>\n",
       "      <td>0.925620</td>\n",
       "      <td>0.966151</td>\n",
       "      <td>0.925620</td>\n",
       "    </tr>\n",
       "    <tr>\n",
       "      <th>8</th>\n",
       "      <td>GBDT</td>\n",
       "      <td>0.947776</td>\n",
       "      <td>0.920000</td>\n",
       "      <td>0.947776</td>\n",
       "      <td>0.920000</td>\n",
       "    </tr>\n",
       "    <tr>\n",
       "      <th>9</th>\n",
       "      <td>BgC</td>\n",
       "      <td>0.957447</td>\n",
       "      <td>0.867188</td>\n",
       "      <td>0.957447</td>\n",
       "      <td>0.867188</td>\n",
       "    </tr>\n",
       "    <tr>\n",
       "      <th>10</th>\n",
       "      <td>DT</td>\n",
       "      <td>0.929400</td>\n",
       "      <td>0.828283</td>\n",
       "      <td>0.929400</td>\n",
       "      <td>0.828283</td>\n",
       "    </tr>\n",
       "  </tbody>\n",
       "</table>\n",
       "</div>"
      ],
      "text/plain": [
       "   Algorithm  Accuracy  precision  Accuracy_max_ft_3000  Precision_max_ft_3000\n",
       "0         KN  0.905222   1.000000              0.905222               1.000000\n",
       "1         NB  0.970986   1.000000              0.970986               1.000000\n",
       "2         RF  0.974855   0.982759              0.974855               0.982759\n",
       "3        SVC  0.975822   0.974790              0.975822               0.974790\n",
       "4        ETC  0.974855   0.974576              0.974855               0.974576\n",
       "5         LR  0.958414   0.970297              0.958414               0.970297\n",
       "6   AdaBoost  0.960348   0.929204              0.960348               0.929204\n",
       "7        xgb  0.966151   0.925620              0.966151               0.925620\n",
       "8       GBDT  0.947776   0.920000              0.947776               0.920000\n",
       "9        BgC  0.957447   0.867188              0.957447               0.867188\n",
       "10        DT  0.929400   0.828283              0.929400               0.828283"
      ]
     },
     "execution_count": 122,
     "metadata": {},
     "output_type": "execute_result"
    }
   ],
   "source": [
    "new_df"
   ]
  },
  {
   "cell_type": "markdown",
   "id": "c6ea7909",
   "metadata": {},
   "source": [
    "### Note:\n",
    "  - Naive Bayes fetched resultes in a way we wanted. Slightly accuracy increased and precision was maintained exactly same."
   ]
  },
  {
   "cell_type": "markdown",
   "id": "7bcf14a9",
   "metadata": {},
   "source": [
    "## 2nd Improvemnt (Scaling)\n",
    "  - This time we will try to improve even bit more by using scaling.\n",
    "  - Actually we transformed the text into numerical by using TfIdf vectorizer and all are into vectroized into numbers.\n",
    "  - We don't know somewhere numerical values will be there other than 0 and 1's.\n",
    "  - By doing scaling so that every numerical values will in the same range from 0 to 1\n",
    "  \n",
    "### let's try this to improve. We don't know whether it imparts good results or not"
   ]
  },
  {
   "cell_type": "code",
   "execution_count": 123,
   "id": "d7e4dc1f",
   "metadata": {},
   "outputs": [],
   "source": [
    "#from sklearn.feature_extraction.text import TfidfVectorizer\n",
    "#tfidf = TfidfVectorizer(max_features = 3000)"
   ]
  },
  {
   "cell_type": "code",
   "execution_count": 124,
   "id": "fc0b4b1e",
   "metadata": {},
   "outputs": [],
   "source": [
    "#X2 = tfidf.fit_transform(df['transformed_text']).toarray()"
   ]
  },
  {
   "cell_type": "code",
   "execution_count": 125,
   "id": "020a8444",
   "metadata": {},
   "outputs": [],
   "source": [
    "#X2"
   ]
  },
  {
   "cell_type": "markdown",
   "id": "c8e18cd0",
   "metadata": {},
   "source": [
    "#### Note:\n",
    "  - The reason why I am using MinMaxScaler but not StandardScalar for normalization because standardscaler gives negaitive values since Naive Baye's doesn't give fair output if there is a negative values."
   ]
  },
  {
   "cell_type": "code",
   "execution_count": 126,
   "id": "1fe8aa0c",
   "metadata": {},
   "outputs": [],
   "source": [
    "# Scaling apply\n",
    "#from sklearn.preprocessing import MinMaxScaler\n",
    "#scaler = MinMaxScaler()\n",
    "#X2 = scaler.fit_transform(X2)"
   ]
  },
  {
   "cell_type": "code",
   "execution_count": 127,
   "id": "e2a5d5ef",
   "metadata": {},
   "outputs": [],
   "source": [
    "#X2 = np.hstack((X2, df['num_characters'].values.reshape(-1,1)))"
   ]
  },
  {
   "cell_type": "code",
   "execution_count": 128,
   "id": "d5a34216",
   "metadata": {},
   "outputs": [],
   "source": [
    "#X2.shape"
   ]
  },
  {
   "cell_type": "code",
   "execution_count": 129,
   "id": "dfdacd52",
   "metadata": {},
   "outputs": [],
   "source": [
    "#y = df['target'].values   # values convert into numpy array"
   ]
  },
  {
   "cell_type": "code",
   "execution_count": 130,
   "id": "6999be8b",
   "metadata": {},
   "outputs": [],
   "source": [
    "#y"
   ]
  },
  {
   "cell_type": "code",
   "execution_count": 131,
   "id": "1f85a907",
   "metadata": {},
   "outputs": [],
   "source": [
    "#from sklearn.model_selection import train_test_split\n",
    "#X2_train,X2_test,y_train,y_test = train_test_split(X2,y,test_size=0.2,random_state=2)"
   ]
  },
  {
   "cell_type": "code",
   "execution_count": 132,
   "id": "99899cea",
   "metadata": {},
   "outputs": [],
   "source": [
    "#from sklearn.naive_bayes import GaussianNB,MultinomialNB,BernoulliNB\n",
    "#from sklearn.metrics import accuracy_score,confusion_matrix,precision_score"
   ]
  },
  {
   "cell_type": "code",
   "execution_count": 133,
   "id": "76d81c19",
   "metadata": {},
   "outputs": [],
   "source": [
    "#gnb.fit(X2_train,y_train)\n",
    "#y3_pred = gnb.predict(X2_test)\n",
    "#print(accuracy_score(y_test,y3_pred))\n",
    "#print(confusion_matrix(y_test,y3_pred))\n",
    "#print(precision_score(y_test,y3_pred))"
   ]
  },
  {
   "cell_type": "code",
   "execution_count": 134,
   "id": "85b7726d",
   "metadata": {},
   "outputs": [],
   "source": [
    "#from sklearn.linear_model import LogisticRegression\n",
    "#from sklearn.svm import SVC\n",
    "#from sklearn.naive_bayes import MultinomialNB\n",
    "#from sklearn.tree import DecisionTreeClassifier\n",
    "#from sklearn.neighbors import KNeighborsClassifier\n",
    "#from sklearn.ensemble import RandomForestClassifier\n",
    "#from sklearn.ensemble import AdaBoostClassifier\n",
    "#from sklearn.ensemble import BaggingClassifier\n",
    "#from sklearn.ensemble import ExtraTreesClassifier\n",
    "#from sklearn.ensemble import GradientBoostingClassifier\n",
    "#from xgboost import XGBClassifier"
   ]
  },
  {
   "cell_type": "code",
   "execution_count": 135,
   "id": "6952bae3",
   "metadata": {},
   "outputs": [],
   "source": [
    "#svc = SVC(kernel='sigmoid', gamma=1.0)\n",
    "#knc = KNeighborsClassifier()\n",
    "#mnb = MultinomialNB()\n",
    "#dtc = DecisionTreeClassifier(max_depth=5)\n",
    "#lrc = LogisticRegression(solver='liblinear', penalty='l1')\n",
    "#rfc = RandomForestClassifier(n_estimators=50,random_state=2)\n",
    "#abc = AdaBoostClassifier(n_estimators=50,random_state=2)\n",
    "#bc = BaggingClassifier(n_estimators=50,random_state=2)\n",
    "#etc = ExtraTreesClassifier(n_estimators=50,random_state=2)\n",
    "#gbdt = GradientBoostingClassifier(n_estimators=50,random_state=2)\n",
    "#xgb = XGBClassifier(n_estimators=50,random_state=2)"
   ]
  },
  {
   "cell_type": "code",
   "execution_count": 137,
   "id": "d98fa481",
   "metadata": {},
   "outputs": [],
   "source": [
    "#clfs = {\n",
    "    #'SVC' : svc,\n",
    "    #'KN' : knc,\n",
    "    #'NB' : mnb,\n",
    "    #'DT' : dtc,\n",
    "    #'LR' : lrc,\n",
    "    #'RF' : rfc,\n",
    "    #'AdaBoost' : abc,\n",
    "    #'BgC' : bc,\n",
    "    #'ETC' : etc,\n",
    "    #'GBDT' : gbdt,\n",
    "    #'xgb' : xgb\n",
    "#}"
   ]
  },
  {
   "cell_type": "code",
   "execution_count": 139,
   "id": "a6568589",
   "metadata": {},
   "outputs": [],
   "source": [
    "#def transform_class_add_column(clf,X2_train,y_train,X2_test,y_test):\n",
    "    #clf.fit(X2_train,y_train)\n",
    "    #y_pred1 = clf.predict(X2_test)\n",
    "    #accuracy_addcol = accuracy_score(y_test,y_pred1)\n",
    "    #precision_addcol = precision_score(y_test,y_pred1)\n",
    "    \n",
    "    #return accuracy_addcol,precision_addcol\n"
   ]
  },
  {
   "cell_type": "code",
   "execution_count": 140,
   "id": "ab158707",
   "metadata": {},
   "outputs": [],
   "source": [
    "#transform_class_add_column(svc,X2_train,y_train,X2_test,y_test)"
   ]
  },
  {
   "cell_type": "code",
   "execution_count": 141,
   "id": "ebf52b67",
   "metadata": {},
   "outputs": [],
   "source": [
    "#accuracy_scores_newcol = []\n",
    "#precision_scores_newcol = []\n",
    "\n",
    "#for x,i in clfs.items():\n",
    "    #curr_accuracy_scale,curr_precision_scale = transform_class_add_column(i,X2_train,y_train,X2_test,y_test)\n",
    "    \n",
    "   # print(\"For\", x)\n",
    "   # print(\"Accuracy score -\", curr_accuracy_scale)\n",
    "   # print(\"Precision score -\", curr_precision_scale)\n",
    "    \n",
    "   # accuracy_scores_newcol.append(curr_accuracy_scale)\n",
    "   # precision_scores_newcol.append(curr_precision_scale)\n",
    "    "
   ]
  },
  {
   "cell_type": "code",
   "execution_count": 142,
   "id": "65849ab2",
   "metadata": {},
   "outputs": [],
   "source": [
    "#addnewcol_df = pd.DataFrame({'Algorithm':clfs.keys(),'Accuracy_num_chars':accuracy_scores_newcol,'Precision_num_chars':precision_scores_newcol}).sort_values(by='Precision_num_chars',ascending=False)"
   ]
  },
  {
   "cell_type": "code",
   "execution_count": 143,
   "id": "84f884e6",
   "metadata": {},
   "outputs": [],
   "source": [
    "#addnewcol_df"
   ]
  },
  {
   "cell_type": "code",
   "execution_count": 144,
   "id": "54e0d944",
   "metadata": {},
   "outputs": [],
   "source": [
    "#new_df_newcol = new_df.merge(addnewcol_df,on='Algorithm')"
   ]
  },
  {
   "cell_type": "code",
   "execution_count": 145,
   "id": "10ebace5",
   "metadata": {},
   "outputs": [],
   "source": [
    "#new_df_newcol"
   ]
  },
  {
   "cell_type": "markdown",
   "id": "7092c760",
   "metadata": {},
   "source": [
    "### Note:\n",
    "  - Scaling doesn't fetch any good results rather it decreases the performance of the model.\n",
    "  - Although accuracy has increased but my main metric was \"precision\" since it was dropped down than before.\n",
    "  - So, I decided \"Scaling\" will remove from the workflow since it doesn't now impart good results"
   ]
  },
  {
   "cell_type": "markdown",
   "id": "d07dbe49",
   "metadata": {},
   "source": [
    "## 3.Improvement(Added extra column as Input)\n",
    "  - If we remember, we added 3 column intially based on \"transformed_text\" out of which the one so called \"num_characters\". If I feed this column as Input to the model in addition to the \"transformed_text\" column.\n",
    "  - Let's see what gonna be the results will fetch. Will it yeild good performance or not."
   ]
  },
  {
   "cell_type": "code",
   "execution_count": 146,
   "id": "c14952cd",
   "metadata": {},
   "outputs": [],
   "source": [
    "#new_df_newcol"
   ]
  },
  {
   "cell_type": "markdown",
   "id": "d3e84583",
   "metadata": {},
   "source": [
    "### Note:\n",
    "  - Actually I had tried scaling but the output results were not so expected then I omitted the scaling results.\n",
    "  - Now, I tried with adding extra feature as Input to the model and here was the results as shown above.\n",
    "  - See especially Naive Bayes model the precision has again rose to 100% but it is quite disappointed with accuracy results.\n",
    "  - Whereas, after done with scaling the both precision and accuracy was too bad."
   ]
  },
  {
   "cell_type": "markdown",
   "id": "1ce1f91d",
   "metadata": {},
   "source": [
    "## Note:\n",
    "  - All in all, the best results, model fetched after considered 3000 words in the process of converting text data into numerical by means of TfIdf vectorizer.\n",
    "  - But anyway I am gonna give a try 2 more ways to improve my model to boost precision."
   ]
  },
  {
   "cell_type": "markdown",
   "id": "d3b1816e",
   "metadata": {},
   "source": [
    "## 4. Voting Classifier (Combination of best performing models)\n",
    "  - This voting classifier is nothing but combining the different models altogether and give the results with an intent to increase the results than best outperformed model.\n",
    "  - In some cases, It might perform out perform or some times not.\n",
    "  - My goal is Precision would be maintained 100% as it was but additionally I need to increase the accuracy > 97.09%\n",
    "  - let's give a try"
   ]
  },
  {
   "cell_type": "code",
   "execution_count": 147,
   "id": "48ebdd79",
   "metadata": {},
   "outputs": [],
   "source": [
    "# voting classifier (combing models like svc,mnb,extratreesclassifier)\n",
    "#svc = SVC(kernel = 'sigmoid', gamma = 1.0, probability = True)\n",
    "#mnb = MultinomialNB()\n",
    "#etc = ExtraTreesClassifier(n_estimators = 50, random_state = 2)\n"
   ]
  },
  {
   "cell_type": "code",
   "execution_count": 148,
   "id": "a0b79f77",
   "metadata": {},
   "outputs": [],
   "source": [
    "#from sklearn.ensemble import VotingClassifier"
   ]
  },
  {
   "cell_type": "code",
   "execution_count": 149,
   "id": "eec522ca",
   "metadata": {},
   "outputs": [],
   "source": [
    "#voting = VotingClassifier(estimators=[('svm', svc), ('nb', mnb), ('et', etc)],voting = 'soft')"
   ]
  },
  {
   "cell_type": "code",
   "execution_count": 150,
   "id": "664db569",
   "metadata": {},
   "outputs": [],
   "source": [
    "#voting.fit(X2_train,y_train)"
   ]
  },
  {
   "cell_type": "code",
   "execution_count": 151,
   "id": "249b0940",
   "metadata": {},
   "outputs": [],
   "source": [
    "#y_pred2 = voting.predict(X2_test)\n",
    "#print(\"Accuracy\", accuracy_score(y_test,y_pred2))\n",
    "#print(\"Precision\", precision_score(y_test,y_pred2))"
   ]
  },
  {
   "cell_type": "markdown",
   "id": "4adb5cb7",
   "metadata": {},
   "source": [
    "### Note:\n",
    "  - Again I was quite disappoint with accuracy. It was even lower than before no matter though precision was good.\n",
    "  - Voting ensemble was also not helping me to boost the model.\n",
    "  - I would have tried other models if I work in the real company, but to keep this simple I quit here itself with VotingClassifier (Just to know the flavour of Voting Classifier what is all about)"
   ]
  },
  {
   "cell_type": "markdown",
   "id": "d83d8a1f",
   "metadata": {},
   "source": [
    "## 5. StackingClassifier (Combination of best performing models)\n",
    "  - Stacking is similar to VotingClassifier in a way ensembling the models altogether but the subtle difference would be weightage would be assigned to the models based on the final_estimator."
   ]
  },
  {
   "cell_type": "code",
   "execution_count": 152,
   "id": "740e0c1e",
   "metadata": {},
   "outputs": [],
   "source": [
    "#estimators = [('svm', svc), ('mnb', mnb), ('et', etc)]\n",
    "#final_estimator=RandomForestClassifier()"
   ]
  },
  {
   "cell_type": "code",
   "execution_count": 153,
   "id": "b48a6b1c",
   "metadata": {},
   "outputs": [],
   "source": [
    "#from sklearn.ensemble import StackingClassifier"
   ]
  },
  {
   "cell_type": "code",
   "execution_count": 154,
   "id": "38fdb7f4",
   "metadata": {},
   "outputs": [],
   "source": [
    "#clf = StackingClassifier(estimators = estimators, final_estimator = final_estimator)"
   ]
  },
  {
   "cell_type": "code",
   "execution_count": 155,
   "id": "d98d9b78",
   "metadata": {},
   "outputs": [],
   "source": [
    "#clf.fit(X2_train,y_train)\n",
    "#y_pred3 = clf.predict(X2_test)\n",
    "#print(\"Accuracy:- \", accuracy_score(y_test,y_pred3))\n",
    "#print(\"Precision:- \",precision_score(y_test,y_pred3))"
   ]
  },
  {
   "cell_type": "markdown",
   "id": "02fed4f3",
   "metadata": {},
   "source": [
    "#### Note:\n",
    "  - Despite Accuracy increased, precision dropped down.\n",
    "  - I will stop my analysis by here"
   ]
  },
  {
   "cell_type": "markdown",
   "id": "0fb107d7",
   "metadata": {},
   "source": [
    "## Note:\n",
    "  - Now, we will build the pipeline of the project and conver that into website.\n",
    "  - Let's understand what to do in sequential order when the new email comes what to do first.\n",
    "  - First preprocess - Transform that text message into \"lemitization, top words, removing stop words etc.,\n",
    "  - Secondly - we do with transformed text is \"vectorization\"\n",
    "  - Thirdly - Apply model on the data.\n",
    "  - And for that matter, I import 2 pickle files just to make it import into website.\n",
    "  - We pickle the file whichever the model you have decided to apply on your coming new data based on the results you actua;;y satisfied."
   ]
  },
  {
   "cell_type": "code",
   "execution_count": 156,
   "id": "7e6de846",
   "metadata": {},
   "outputs": [],
   "source": [
    "import pickle\n",
    "pickle.dump(tfidf,open('vectorizer.pkl','wb'))    # to convert the text into vectors\n",
    "pickle.dump(mnb,open('model.pkl', 'wb'))"
   ]
  },
  {
   "cell_type": "code",
   "execution_count": null,
   "id": "1cf5b377",
   "metadata": {},
   "outputs": [],
   "source": []
  }
 ],
 "metadata": {
  "kernelspec": {
   "display_name": "Python 3 (ipykernel)",
   "language": "python",
   "name": "python3"
  },
  "language_info": {
   "codemirror_mode": {
    "name": "ipython",
    "version": 3
   },
   "file_extension": ".py",
   "mimetype": "text/x-python",
   "name": "python",
   "nbconvert_exporter": "python",
   "pygments_lexer": "ipython3",
   "version": "3.10.9"
  }
 },
 "nbformat": 4,
 "nbformat_minor": 5
}
